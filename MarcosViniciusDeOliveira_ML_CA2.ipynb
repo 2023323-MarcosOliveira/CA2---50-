{
 "cells": [
  {
   "cell_type": "markdown",
   "id": "71880514-69e8-44f1-ba2d-b31d901cc8e7",
   "metadata": {
    "jp-MarkdownHeadingCollapsed": true
   },
   "source": [
    "# CCT College Dublin\n",
    "\n",
    "### Assessment Cover Page\n",
    "\n",
    "\n",
    "Module Title: `Machine Learning for AI`\n",
    "\n",
    "Assessment Title: `ML_CA2`\n",
    "\n",
    "Lecturer Name: `David McQuaid`\n",
    "\n",
    "Student Full Name: `Marcos Vinicius de Oliveira`\n",
    "\n",
    "Student Number: `2023323`\n",
    "\n",
    "Assessment Due Date: `13th May 2024`\n",
    "\n",
    "Date of Submission: `29st May 2024`\n",
    "\n",
    "GitHub Link: `https://github.com/2023323-MarcosOliveira/CA2---50-`\n",
    "\n",
    "Twitter Dataset Link: `https://drive.google.com/file/d/1L1KRB_CYIUDo3rE_KSyl_XLcL94COWdH/view?usp=sharing`"
   ]
  },
  {
   "cell_type": "markdown",
   "id": "942d29ae-7d5a-4797-beb9-70328f1c7c77",
   "metadata": {},
   "source": [
    "# Neural Networks"
   ]
  },
  {
   "cell_type": "markdown",
   "id": "00b0388f-4ad7-4710-8569-55ef8eb757ea",
   "metadata": {},
   "source": [
    "## 1. Exploratory Data Analysis EDA"
   ]
  },
  {
   "cell_type": "markdown",
   "id": "33995a15-fa9a-49ae-a1e1-d86ce2b8b815",
   "metadata": {},
   "source": [
    "### 1.1 Importing Libraries"
   ]
  },
  {
   "cell_type": "code",
   "execution_count": 1,
   "id": "ba0a2a5b-d3c0-4742-8e05-6850ac45d271",
   "metadata": {},
   "outputs": [
    {
     "name": "stderr",
     "output_type": "stream",
     "text": [
      "/run/user/1000/app/org.jupyter.JupyterLab/ipykernel_2192/3090402102.py:2: DeprecationWarning: \n",
      "Pyarrow will become a required dependency of pandas in the next major release of pandas (pandas 3.0),\n",
      "(to allow more performant data types, such as the Arrow string type, and better interoperability with other libraries)\n",
      "but was not found to be installed on your system.\n",
      "If this would cause problems for you,\n",
      "please provide us feedback at https://github.com/pandas-dev/pandas/issues/54466\n",
      "        \n",
      "  import pandas as pd\n",
      "2024-05-29 11:49:39.248179: I tensorflow/core/util/port.cc:113] oneDNN custom operations are on. You may see slightly different numerical results due to floating-point round-off errors from different computation orders. To turn them off, set the environment variable `TF_ENABLE_ONEDNN_OPTS=0`.\n",
      "2024-05-29 11:49:39.248400: I external/local_tsl/tsl/cuda/cudart_stub.cc:32] Could not find cuda drivers on your machine, GPU will not be used.\n",
      "2024-05-29 11:49:39.289871: I external/local_tsl/tsl/cuda/cudart_stub.cc:32] Could not find cuda drivers on your machine, GPU will not be used.\n",
      "2024-05-29 11:49:39.394805: I tensorflow/core/platform/cpu_feature_guard.cc:210] This TensorFlow binary is optimized to use available CPU instructions in performance-critical operations.\n",
      "To enable the following instructions: AVX2 AVX512F AVX512_VNNI FMA, in other operations, rebuild TensorFlow with the appropriate compiler flags.\n",
      "2024-05-29 11:49:40.060648: W tensorflow/compiler/tf2tensorrt/utils/py_utils.cc:38] TF-TRT Warning: Could not find TensorRT\n"
     ]
    }
   ],
   "source": [
    "import numpy as np\n",
    "import pandas as pd\n",
    "import matplotlib.pyplot as plt\n",
    "import seaborn as sns\n",
    "\n",
    "from sklearn.preprocessing import LabelEncoder, MinMaxScaler\n",
    "from sklearn.model_selection import train_test_split\n",
    "\n",
    "import tensorflow as tf\n",
    "from tensorflow.keras.models import Sequential\n",
    "from tensorflow.keras.layers import Dense\n",
    "from scikeras.wrappers import KerasRegressor"
   ]
  },
  {
   "cell_type": "code",
   "execution_count": 2,
   "id": "e81758f6-ba5c-454a-b452-587ab978ec43",
   "metadata": {},
   "outputs": [
    {
     "data": {
      "text/html": [
       "<div>\n",
       "<style scoped>\n",
       "    .dataframe tbody tr th:only-of-type {\n",
       "        vertical-align: middle;\n",
       "    }\n",
       "\n",
       "    .dataframe tbody tr th {\n",
       "        vertical-align: top;\n",
       "    }\n",
       "\n",
       "    .dataframe thead th {\n",
       "        text-align: right;\n",
       "    }\n",
       "</style>\n",
       "<table border=\"1\" class=\"dataframe\">\n",
       "  <thead>\n",
       "    <tr style=\"text-align: right;\">\n",
       "      <th></th>\n",
       "      <th>ID</th>\n",
       "      <th>Age</th>\n",
       "      <th>Experience(Years)</th>\n",
       "      <th>Income(Thousands's)</th>\n",
       "      <th>Sort Code</th>\n",
       "      <th>Family</th>\n",
       "      <th>Credit Score</th>\n",
       "      <th>Education</th>\n",
       "      <th>Mortgage(Thousands's)</th>\n",
       "      <th>Personal Loan</th>\n",
       "      <th>Securities Account</th>\n",
       "      <th>CD Account</th>\n",
       "      <th>Online Banking</th>\n",
       "      <th>CreditCard</th>\n",
       "    </tr>\n",
       "  </thead>\n",
       "  <tbody>\n",
       "    <tr>\n",
       "      <th>0</th>\n",
       "      <td>1</td>\n",
       "      <td>25</td>\n",
       "      <td>1</td>\n",
       "      <td>49</td>\n",
       "      <td>91107</td>\n",
       "      <td>4</td>\n",
       "      <td>1.6</td>\n",
       "      <td>Diploma</td>\n",
       "      <td>0</td>\n",
       "      <td>No</td>\n",
       "      <td>Yes</td>\n",
       "      <td>No</td>\n",
       "      <td>No</td>\n",
       "      <td>No</td>\n",
       "    </tr>\n",
       "    <tr>\n",
       "      <th>1</th>\n",
       "      <td>2</td>\n",
       "      <td>45</td>\n",
       "      <td>19</td>\n",
       "      <td>34</td>\n",
       "      <td>90089</td>\n",
       "      <td>3</td>\n",
       "      <td>1.5</td>\n",
       "      <td>Diploma</td>\n",
       "      <td>0</td>\n",
       "      <td>No</td>\n",
       "      <td>Yes</td>\n",
       "      <td>No</td>\n",
       "      <td>No</td>\n",
       "      <td>No</td>\n",
       "    </tr>\n",
       "    <tr>\n",
       "      <th>2</th>\n",
       "      <td>3</td>\n",
       "      <td>39</td>\n",
       "      <td>15</td>\n",
       "      <td>11</td>\n",
       "      <td>94720</td>\n",
       "      <td>1</td>\n",
       "      <td>1.0</td>\n",
       "      <td>Diploma</td>\n",
       "      <td>0</td>\n",
       "      <td>No</td>\n",
       "      <td>No</td>\n",
       "      <td>No</td>\n",
       "      <td>No</td>\n",
       "      <td>No</td>\n",
       "    </tr>\n",
       "    <tr>\n",
       "      <th>3</th>\n",
       "      <td>4</td>\n",
       "      <td>35</td>\n",
       "      <td>9</td>\n",
       "      <td>100</td>\n",
       "      <td>94112</td>\n",
       "      <td>1</td>\n",
       "      <td>2.7</td>\n",
       "      <td>Degree</td>\n",
       "      <td>0</td>\n",
       "      <td>No</td>\n",
       "      <td>No</td>\n",
       "      <td>No</td>\n",
       "      <td>No</td>\n",
       "      <td>No</td>\n",
       "    </tr>\n",
       "    <tr>\n",
       "      <th>4</th>\n",
       "      <td>5</td>\n",
       "      <td>35</td>\n",
       "      <td>8</td>\n",
       "      <td>45</td>\n",
       "      <td>91330</td>\n",
       "      <td>4</td>\n",
       "      <td>1.0</td>\n",
       "      <td>Degree</td>\n",
       "      <td>0</td>\n",
       "      <td>No</td>\n",
       "      <td>No</td>\n",
       "      <td>No</td>\n",
       "      <td>No</td>\n",
       "      <td>Yes</td>\n",
       "    </tr>\n",
       "  </tbody>\n",
       "</table>\n",
       "</div>"
      ],
      "text/plain": [
       "   ID  Age  Experience(Years)  Income(Thousands's)  Sort Code  Family  \\\n",
       "0   1   25                  1                   49      91107       4   \n",
       "1   2   45                 19                   34      90089       3   \n",
       "2   3   39                 15                   11      94720       1   \n",
       "3   4   35                  9                  100      94112       1   \n",
       "4   5   35                  8                   45      91330       4   \n",
       "\n",
       "   Credit Score Education  Mortgage(Thousands's) Personal Loan  \\\n",
       "0           1.6   Diploma                      0            No   \n",
       "1           1.5   Diploma                      0            No   \n",
       "2           1.0   Diploma                      0            No   \n",
       "3           2.7    Degree                      0            No   \n",
       "4           1.0    Degree                      0            No   \n",
       "\n",
       "  Securities Account CD Account Online Banking CreditCard  \n",
       "0                Yes         No             No         No  \n",
       "1                Yes         No             No         No  \n",
       "2                 No         No             No         No  \n",
       "3                 No         No             No         No  \n",
       "4                 No         No             No        Yes  "
      ]
     },
     "execution_count": 2,
     "metadata": {},
     "output_type": "execute_result"
    }
   ],
   "source": [
    "df = pd.read_csv(\"BankRecords.csv\")\n",
    "df.head()"
   ]
  },
  {
   "cell_type": "markdown",
   "id": "34da0530-ee58-4a8a-b207-9dd57b7236bb",
   "metadata": {},
   "source": [
    "### 1.2 Renaming Columns"
   ]
  },
  {
   "cell_type": "code",
   "execution_count": 3,
   "id": "07161cea-47c4-4178-a9e4-3c14e678547f",
   "metadata": {},
   "outputs": [
    {
     "data": {
      "text/html": [
       "<div>\n",
       "<style scoped>\n",
       "    .dataframe tbody tr th:only-of-type {\n",
       "        vertical-align: middle;\n",
       "    }\n",
       "\n",
       "    .dataframe tbody tr th {\n",
       "        vertical-align: top;\n",
       "    }\n",
       "\n",
       "    .dataframe thead th {\n",
       "        text-align: right;\n",
       "    }\n",
       "</style>\n",
       "<table border=\"1\" class=\"dataframe\">\n",
       "  <thead>\n",
       "    <tr style=\"text-align: right;\">\n",
       "      <th></th>\n",
       "      <th>ID</th>\n",
       "      <th>Age</th>\n",
       "      <th>Experience</th>\n",
       "      <th>Income</th>\n",
       "      <th>SortCode</th>\n",
       "      <th>Family</th>\n",
       "      <th>CreditScore</th>\n",
       "      <th>Education</th>\n",
       "      <th>Mortgage</th>\n",
       "      <th>PersonalLoan</th>\n",
       "      <th>SecuritiesAccount</th>\n",
       "      <th>CDAccount</th>\n",
       "      <th>OnlineBanking</th>\n",
       "      <th>CreditCard</th>\n",
       "    </tr>\n",
       "  </thead>\n",
       "  <tbody>\n",
       "    <tr>\n",
       "      <th>0</th>\n",
       "      <td>1</td>\n",
       "      <td>25</td>\n",
       "      <td>1</td>\n",
       "      <td>49</td>\n",
       "      <td>91107</td>\n",
       "      <td>4</td>\n",
       "      <td>1.6</td>\n",
       "      <td>Diploma</td>\n",
       "      <td>0</td>\n",
       "      <td>No</td>\n",
       "      <td>Yes</td>\n",
       "      <td>No</td>\n",
       "      <td>No</td>\n",
       "      <td>No</td>\n",
       "    </tr>\n",
       "    <tr>\n",
       "      <th>1</th>\n",
       "      <td>2</td>\n",
       "      <td>45</td>\n",
       "      <td>19</td>\n",
       "      <td>34</td>\n",
       "      <td>90089</td>\n",
       "      <td>3</td>\n",
       "      <td>1.5</td>\n",
       "      <td>Diploma</td>\n",
       "      <td>0</td>\n",
       "      <td>No</td>\n",
       "      <td>Yes</td>\n",
       "      <td>No</td>\n",
       "      <td>No</td>\n",
       "      <td>No</td>\n",
       "    </tr>\n",
       "    <tr>\n",
       "      <th>2</th>\n",
       "      <td>3</td>\n",
       "      <td>39</td>\n",
       "      <td>15</td>\n",
       "      <td>11</td>\n",
       "      <td>94720</td>\n",
       "      <td>1</td>\n",
       "      <td>1.0</td>\n",
       "      <td>Diploma</td>\n",
       "      <td>0</td>\n",
       "      <td>No</td>\n",
       "      <td>No</td>\n",
       "      <td>No</td>\n",
       "      <td>No</td>\n",
       "      <td>No</td>\n",
       "    </tr>\n",
       "    <tr>\n",
       "      <th>3</th>\n",
       "      <td>4</td>\n",
       "      <td>35</td>\n",
       "      <td>9</td>\n",
       "      <td>100</td>\n",
       "      <td>94112</td>\n",
       "      <td>1</td>\n",
       "      <td>2.7</td>\n",
       "      <td>Degree</td>\n",
       "      <td>0</td>\n",
       "      <td>No</td>\n",
       "      <td>No</td>\n",
       "      <td>No</td>\n",
       "      <td>No</td>\n",
       "      <td>No</td>\n",
       "    </tr>\n",
       "    <tr>\n",
       "      <th>4</th>\n",
       "      <td>5</td>\n",
       "      <td>35</td>\n",
       "      <td>8</td>\n",
       "      <td>45</td>\n",
       "      <td>91330</td>\n",
       "      <td>4</td>\n",
       "      <td>1.0</td>\n",
       "      <td>Degree</td>\n",
       "      <td>0</td>\n",
       "      <td>No</td>\n",
       "      <td>No</td>\n",
       "      <td>No</td>\n",
       "      <td>No</td>\n",
       "      <td>Yes</td>\n",
       "    </tr>\n",
       "  </tbody>\n",
       "</table>\n",
       "</div>"
      ],
      "text/plain": [
       "   ID  Age  Experience  Income  SortCode  Family  CreditScore Education  \\\n",
       "0   1   25           1      49     91107       4          1.6   Diploma   \n",
       "1   2   45          19      34     90089       3          1.5   Diploma   \n",
       "2   3   39          15      11     94720       1          1.0   Diploma   \n",
       "3   4   35           9     100     94112       1          2.7    Degree   \n",
       "4   5   35           8      45     91330       4          1.0    Degree   \n",
       "\n",
       "   Mortgage PersonalLoan SecuritiesAccount CDAccount OnlineBanking CreditCard  \n",
       "0         0           No               Yes        No            No         No  \n",
       "1         0           No               Yes        No            No         No  \n",
       "2         0           No                No        No            No         No  \n",
       "3         0           No                No        No            No         No  \n",
       "4         0           No                No        No            No        Yes  "
      ]
     },
     "execution_count": 3,
     "metadata": {},
     "output_type": "execute_result"
    }
   ],
   "source": [
    "df = df.rename(\n",
    "    {\n",
    "        \"Experience(Years)\": \"Experience\",\n",
    "        \"Income(Thousands's)\": \"Income\",\n",
    "        \"Sort Code\": \"SortCode\",\n",
    "        \"Credit Score\": \"CreditScore\",\n",
    "        \"Mortgage(Thousands's)\": \"Mortgage\",\n",
    "        \"Personal Loan\": \"PersonalLoan\",\n",
    "        \"Securities Account\": \"SecuritiesAccount\",\n",
    "        \"CD Account\": \"CDAccount\",\n",
    "        \"Online Banking\": \"OnlineBanking\"\n",
    "    }, axis=1)\n",
    "\n",
    "df.head()"
   ]
  },
  {
   "cell_type": "markdown",
   "id": "20430a04-d8de-4850-ab1f-3f198562c635",
   "metadata": {},
   "source": [
    "### 1.3 Shape"
   ]
  },
  {
   "cell_type": "code",
   "execution_count": 4,
   "id": "e54d58d7-03f8-493a-8796-e7eda9fe296c",
   "metadata": {},
   "outputs": [
    {
     "data": {
      "text/plain": [
       "(5000, 14)"
      ]
     },
     "execution_count": 4,
     "metadata": {},
     "output_type": "execute_result"
    }
   ],
   "source": [
    "df.shape"
   ]
  },
  {
   "cell_type": "markdown",
   "id": "a1f13bf7-9faf-4ac4-9e6f-9a6c230f4c06",
   "metadata": {},
   "source": [
    "### 1.4 Describe"
   ]
  },
  {
   "cell_type": "code",
   "execution_count": 5,
   "id": "afee43e0-19a4-4597-b48c-ac1e1948c8b9",
   "metadata": {
    "jp-MarkdownHeadingCollapsed": true
   },
   "outputs": [
    {
     "data": {
      "text/html": [
       "<div>\n",
       "<style scoped>\n",
       "    .dataframe tbody tr th:only-of-type {\n",
       "        vertical-align: middle;\n",
       "    }\n",
       "\n",
       "    .dataframe tbody tr th {\n",
       "        vertical-align: top;\n",
       "    }\n",
       "\n",
       "    .dataframe thead th {\n",
       "        text-align: right;\n",
       "    }\n",
       "</style>\n",
       "<table border=\"1\" class=\"dataframe\">\n",
       "  <thead>\n",
       "    <tr style=\"text-align: right;\">\n",
       "      <th></th>\n",
       "      <th>ID</th>\n",
       "      <th>Age</th>\n",
       "      <th>Experience</th>\n",
       "      <th>Income</th>\n",
       "      <th>SortCode</th>\n",
       "      <th>Family</th>\n",
       "      <th>CreditScore</th>\n",
       "      <th>Mortgage</th>\n",
       "    </tr>\n",
       "  </thead>\n",
       "  <tbody>\n",
       "    <tr>\n",
       "      <th>count</th>\n",
       "      <td>5000.000000</td>\n",
       "      <td>5000.000000</td>\n",
       "      <td>5000.000000</td>\n",
       "      <td>5000.000000</td>\n",
       "      <td>5000.000000</td>\n",
       "      <td>5000.000000</td>\n",
       "      <td>5000.000000</td>\n",
       "      <td>5000.000000</td>\n",
       "    </tr>\n",
       "    <tr>\n",
       "      <th>mean</th>\n",
       "      <td>2500.500000</td>\n",
       "      <td>45.338400</td>\n",
       "      <td>20.104600</td>\n",
       "      <td>73.774200</td>\n",
       "      <td>93152.503000</td>\n",
       "      <td>2.396400</td>\n",
       "      <td>1.937913</td>\n",
       "      <td>56.498800</td>\n",
       "    </tr>\n",
       "    <tr>\n",
       "      <th>std</th>\n",
       "      <td>1443.520003</td>\n",
       "      <td>11.463166</td>\n",
       "      <td>11.467954</td>\n",
       "      <td>46.033729</td>\n",
       "      <td>2121.852197</td>\n",
       "      <td>1.147663</td>\n",
       "      <td>1.747666</td>\n",
       "      <td>101.713802</td>\n",
       "    </tr>\n",
       "    <tr>\n",
       "      <th>min</th>\n",
       "      <td>1.000000</td>\n",
       "      <td>23.000000</td>\n",
       "      <td>-3.000000</td>\n",
       "      <td>8.000000</td>\n",
       "      <td>9307.000000</td>\n",
       "      <td>1.000000</td>\n",
       "      <td>0.000000</td>\n",
       "      <td>0.000000</td>\n",
       "    </tr>\n",
       "    <tr>\n",
       "      <th>25%</th>\n",
       "      <td>1250.750000</td>\n",
       "      <td>35.000000</td>\n",
       "      <td>10.000000</td>\n",
       "      <td>39.000000</td>\n",
       "      <td>91911.000000</td>\n",
       "      <td>1.000000</td>\n",
       "      <td>0.700000</td>\n",
       "      <td>0.000000</td>\n",
       "    </tr>\n",
       "    <tr>\n",
       "      <th>50%</th>\n",
       "      <td>2500.500000</td>\n",
       "      <td>45.000000</td>\n",
       "      <td>20.000000</td>\n",
       "      <td>64.000000</td>\n",
       "      <td>93437.000000</td>\n",
       "      <td>2.000000</td>\n",
       "      <td>1.500000</td>\n",
       "      <td>0.000000</td>\n",
       "    </tr>\n",
       "    <tr>\n",
       "      <th>75%</th>\n",
       "      <td>3750.250000</td>\n",
       "      <td>55.000000</td>\n",
       "      <td>30.000000</td>\n",
       "      <td>98.000000</td>\n",
       "      <td>94608.000000</td>\n",
       "      <td>3.000000</td>\n",
       "      <td>2.500000</td>\n",
       "      <td>101.000000</td>\n",
       "    </tr>\n",
       "    <tr>\n",
       "      <th>max</th>\n",
       "      <td>5000.000000</td>\n",
       "      <td>67.000000</td>\n",
       "      <td>43.000000</td>\n",
       "      <td>224.000000</td>\n",
       "      <td>96651.000000</td>\n",
       "      <td>4.000000</td>\n",
       "      <td>10.000000</td>\n",
       "      <td>635.000000</td>\n",
       "    </tr>\n",
       "  </tbody>\n",
       "</table>\n",
       "</div>"
      ],
      "text/plain": [
       "                ID          Age   Experience       Income      SortCode  \\\n",
       "count  5000.000000  5000.000000  5000.000000  5000.000000   5000.000000   \n",
       "mean   2500.500000    45.338400    20.104600    73.774200  93152.503000   \n",
       "std    1443.520003    11.463166    11.467954    46.033729   2121.852197   \n",
       "min       1.000000    23.000000    -3.000000     8.000000   9307.000000   \n",
       "25%    1250.750000    35.000000    10.000000    39.000000  91911.000000   \n",
       "50%    2500.500000    45.000000    20.000000    64.000000  93437.000000   \n",
       "75%    3750.250000    55.000000    30.000000    98.000000  94608.000000   \n",
       "max    5000.000000    67.000000    43.000000   224.000000  96651.000000   \n",
       "\n",
       "            Family  CreditScore     Mortgage  \n",
       "count  5000.000000  5000.000000  5000.000000  \n",
       "mean      2.396400     1.937913    56.498800  \n",
       "std       1.147663     1.747666   101.713802  \n",
       "min       1.000000     0.000000     0.000000  \n",
       "25%       1.000000     0.700000     0.000000  \n",
       "50%       2.000000     1.500000     0.000000  \n",
       "75%       3.000000     2.500000   101.000000  \n",
       "max       4.000000    10.000000   635.000000  "
      ]
     },
     "execution_count": 5,
     "metadata": {},
     "output_type": "execute_result"
    }
   ],
   "source": [
    "df.describe()"
   ]
  },
  {
   "cell_type": "markdown",
   "id": "93aad484-5f1d-4d82-a4c1-0f00fba66b21",
   "metadata": {},
   "source": [
    "### 1.5 Encoding\n",
    "\n",
    "In order to change the `Education`, `PersonalLoan`, `SecuritiesAccount`, `CDAccount`, `OnlineBanking` and `CreditCard`, I will be using Label Encoder in the binary and nominal columns"
   ]
  },
  {
   "cell_type": "code",
   "execution_count": 6,
   "id": "a770be2d-6338-43d0-b3e9-ac4833f5b671",
   "metadata": {},
   "outputs": [
    {
     "data": {
      "text/html": [
       "<div>\n",
       "<style scoped>\n",
       "    .dataframe tbody tr th:only-of-type {\n",
       "        vertical-align: middle;\n",
       "    }\n",
       "\n",
       "    .dataframe tbody tr th {\n",
       "        vertical-align: top;\n",
       "    }\n",
       "\n",
       "    .dataframe thead th {\n",
       "        text-align: right;\n",
       "    }\n",
       "</style>\n",
       "<table border=\"1\" class=\"dataframe\">\n",
       "  <thead>\n",
       "    <tr style=\"text-align: right;\">\n",
       "      <th></th>\n",
       "      <th>ID</th>\n",
       "      <th>Age</th>\n",
       "      <th>Experience</th>\n",
       "      <th>Income</th>\n",
       "      <th>SortCode</th>\n",
       "      <th>Family</th>\n",
       "      <th>CreditScore</th>\n",
       "      <th>Education</th>\n",
       "      <th>Mortgage</th>\n",
       "      <th>PersonalLoan</th>\n",
       "      <th>SecuritiesAccount</th>\n",
       "      <th>CDAccount</th>\n",
       "      <th>OnlineBanking</th>\n",
       "      <th>CreditCard</th>\n",
       "    </tr>\n",
       "  </thead>\n",
       "  <tbody>\n",
       "    <tr>\n",
       "      <th>0</th>\n",
       "      <td>1</td>\n",
       "      <td>25</td>\n",
       "      <td>1</td>\n",
       "      <td>49</td>\n",
       "      <td>91107</td>\n",
       "      <td>4</td>\n",
       "      <td>1.6</td>\n",
       "      <td>1</td>\n",
       "      <td>0</td>\n",
       "      <td>0</td>\n",
       "      <td>1</td>\n",
       "      <td>0</td>\n",
       "      <td>0</td>\n",
       "      <td>0</td>\n",
       "    </tr>\n",
       "    <tr>\n",
       "      <th>1</th>\n",
       "      <td>2</td>\n",
       "      <td>45</td>\n",
       "      <td>19</td>\n",
       "      <td>34</td>\n",
       "      <td>90089</td>\n",
       "      <td>3</td>\n",
       "      <td>1.5</td>\n",
       "      <td>1</td>\n",
       "      <td>0</td>\n",
       "      <td>0</td>\n",
       "      <td>1</td>\n",
       "      <td>0</td>\n",
       "      <td>0</td>\n",
       "      <td>0</td>\n",
       "    </tr>\n",
       "    <tr>\n",
       "      <th>2</th>\n",
       "      <td>3</td>\n",
       "      <td>39</td>\n",
       "      <td>15</td>\n",
       "      <td>11</td>\n",
       "      <td>94720</td>\n",
       "      <td>1</td>\n",
       "      <td>1.0</td>\n",
       "      <td>1</td>\n",
       "      <td>0</td>\n",
       "      <td>0</td>\n",
       "      <td>0</td>\n",
       "      <td>0</td>\n",
       "      <td>0</td>\n",
       "      <td>0</td>\n",
       "    </tr>\n",
       "    <tr>\n",
       "      <th>3</th>\n",
       "      <td>4</td>\n",
       "      <td>35</td>\n",
       "      <td>9</td>\n",
       "      <td>100</td>\n",
       "      <td>94112</td>\n",
       "      <td>1</td>\n",
       "      <td>2.7</td>\n",
       "      <td>0</td>\n",
       "      <td>0</td>\n",
       "      <td>0</td>\n",
       "      <td>0</td>\n",
       "      <td>0</td>\n",
       "      <td>0</td>\n",
       "      <td>0</td>\n",
       "    </tr>\n",
       "    <tr>\n",
       "      <th>4</th>\n",
       "      <td>5</td>\n",
       "      <td>35</td>\n",
       "      <td>8</td>\n",
       "      <td>45</td>\n",
       "      <td>91330</td>\n",
       "      <td>4</td>\n",
       "      <td>1.0</td>\n",
       "      <td>0</td>\n",
       "      <td>0</td>\n",
       "      <td>0</td>\n",
       "      <td>0</td>\n",
       "      <td>0</td>\n",
       "      <td>0</td>\n",
       "      <td>1</td>\n",
       "    </tr>\n",
       "  </tbody>\n",
       "</table>\n",
       "</div>"
      ],
      "text/plain": [
       "   ID  Age  Experience  Income  SortCode  Family  CreditScore  Education  \\\n",
       "0   1   25           1      49     91107       4          1.6          1   \n",
       "1   2   45          19      34     90089       3          1.5          1   \n",
       "2   3   39          15      11     94720       1          1.0          1   \n",
       "3   4   35           9     100     94112       1          2.7          0   \n",
       "4   5   35           8      45     91330       4          1.0          0   \n",
       "\n",
       "   Mortgage  PersonalLoan  SecuritiesAccount  CDAccount  OnlineBanking  \\\n",
       "0         0             0                  1          0              0   \n",
       "1         0             0                  1          0              0   \n",
       "2         0             0                  0          0              0   \n",
       "3         0             0                  0          0              0   \n",
       "4         0             0                  0          0              0   \n",
       "\n",
       "   CreditCard  \n",
       "0           0  \n",
       "1           0  \n",
       "2           0  \n",
       "3           0  \n",
       "4           1  "
      ]
     },
     "execution_count": 6,
     "metadata": {},
     "output_type": "execute_result"
    }
   ],
   "source": [
    "le = LabelEncoder()\n",
    "\n",
    "df['Education'] = le.fit_transform(df['Education'])\n",
    "df['PersonalLoan'] = le.fit_transform(df['PersonalLoan'])\n",
    "df['SecuritiesAccount'] = le.fit_transform(df['SecuritiesAccount'])\n",
    "df['CDAccount'] = le.fit_transform(df['CDAccount'])\n",
    "df['OnlineBanking'] = le.fit_transform(df['OnlineBanking'])\n",
    "df['CreditCard'] = le.fit_transform(df['CreditCard'])\n",
    "\n",
    "df.head()"
   ]
  },
  {
   "cell_type": "markdown",
   "id": "cf0e31e4-7f95-41f2-8cce-5072910d207b",
   "metadata": {},
   "source": [
    "### 1.6 Heatmap\n",
    "\n",
    "The reason I am using heatmap is beacuse I want to see which columns are co-related to `income`, eigher positive or nagative"
   ]
  },
  {
   "cell_type": "code",
   "execution_count": 7,
   "id": "f1cdf60e-f5fa-4189-bcb7-ae3aeb6f8757",
   "metadata": {},
   "outputs": [
    {
     "data": {
      "image/png": "[encoded data removed]",
      "text/plain": [
       "<Figure size 2000x2000 with 2 Axes>"
      ]
     },
     "metadata": {},
     "output_type": "display_data"
    }
   ],
   "source": [
    "cm = df.corr()\n",
    "plt.figure(figsize=(20,20))\n",
    "sns.heatmap(cm, annot=True)\n",
    "plt.show()"
   ]
  },
  {
   "cell_type": "markdown",
   "id": "f518c0a5-6daf-4401-b15a-01daf16911fb",
   "metadata": {},
   "source": [
    "- There is a strong positive correlation between `Income` and `CreditScore` , this indicates that higher income is associated with higher credit scores.\n",
    "\n",
    "- There is a moderate positive correlation between `Income` and `PersonalLoan`, this suggests that individuals with higher incomes are more likely to have personal loans.\n",
    "\n",
    "- There is also a weak positive correlation between `Income` and `Mortgage`, and this implies that higher income may be slightly associated with having a mortgage.\n",
    "\n",
    "- And there is a weak positive correlation between `Income` and `CDAccount`, this also means that individuals with higher income are slightly more likely to have a CD account."
   ]
  },
  {
   "cell_type": "markdown",
   "id": "bf383091-a63e-44cc-afb6-1a4d260f455b",
   "metadata": {},
   "source": [
    "### 1.7 CreditScore Distributioins"
   ]
  },
  {
   "cell_type": "code",
   "execution_count": 8,
   "id": "2f5d45aa-1c3d-40df-9bd0-86f45f9ad5b4",
   "metadata": {},
   "outputs": [
    {
     "data": {
      "image/png": "[encoded data removed]",
      "text/plain": [
       "<Figure size 640x480 with 1 Axes>"
      ]
     },
     "metadata": {},
     "output_type": "display_data"
    }
   ],
   "source": [
    "sns.histplot(df[\"CreditScore\"], kde=True)\n",
    "plt.show()"
   ]
  },
  {
   "cell_type": "markdown",
   "id": "d12cbb71-28be-4924-b47f-0b8e79a390a3",
   "metadata": {},
   "source": [
    "### 1.8 Personal Loan Distributioins"
   ]
  },
  {
   "cell_type": "code",
   "execution_count": 9,
   "id": "e120524e-8528-478b-a3bc-3268d4b05615",
   "metadata": {},
   "outputs": [
    {
     "data": {
      "image/png": "[encoded data removed]",
      "text/plain": [
       "<Figure size 640x480 with 1 Axes>"
      ]
     },
     "metadata": {},
     "output_type": "display_data"
    }
   ],
   "source": [
    "sns.histplot(df[\"PersonalLoan\"], kde=True)\n",
    "plt.show()"
   ]
  },
  {
   "cell_type": "markdown",
   "id": "5a53bfe8-3c3a-4c6a-88ef-7873e5d31066",
   "metadata": {},
   "source": [
    "### 1.9 Mortgage Distributioins"
   ]
  },
  {
   "cell_type": "code",
   "execution_count": 10,
   "id": "23349c86-88e2-4fae-ab52-4823cb1aa7dd",
   "metadata": {},
   "outputs": [
    {
     "data": {
      "image/png": "[encoded data removed]",
      "text/plain": [
       "<Figure size 640x480 with 1 Axes>"
      ]
     },
     "metadata": {},
     "output_type": "display_data"
    }
   ],
   "source": [
    "sns.histplot(df[\"Mortgage\"], kde=True)\n",
    "plt.show()"
   ]
  },
  {
   "cell_type": "markdown",
   "id": "cd5c13df-a058-490f-8a90-51dc736ef530",
   "metadata": {},
   "source": [
    "### 1.10 CDAccount Distributioins"
   ]
  },
  {
   "cell_type": "code",
   "execution_count": 11,
   "id": "e0573af1-b419-44d4-9bec-57387b87fe2e",
   "metadata": {},
   "outputs": [
    {
     "data": {
      "image/png": "[encoded data removed]",
      "text/plain": [
       "<Figure size 640x480 with 1 Axes>"
      ]
     },
     "metadata": {},
     "output_type": "display_data"
    }
   ],
   "source": [
    "sns.histplot(df[\"CDAccount\"], kde=True)\n",
    "plt.show()"
   ]
  },
  {
   "cell_type": "markdown",
   "id": "4b3c592a-1b48-4592-a6cc-7987707b5c49",
   "metadata": {},
   "source": [
    "### 1.11 Income Distributioins"
   ]
  },
  {
   "cell_type": "code",
   "execution_count": 12,
   "id": "81e1d737-1a61-453b-a505-f9b96c0da047",
   "metadata": {},
   "outputs": [
    {
     "data": {
      "image/png": "[encoded data removed]",
      "text/plain": [
       "<Figure size 500x500 with 1 Axes>"
      ]
     },
     "metadata": {},
     "output_type": "display_data"
    }
   ],
   "source": [
    "sns.displot(df[\"Income\"], kde=True)\n",
    "plt.show()"
   ]
  },
  {
   "cell_type": "markdown",
   "id": "d6f5158f-b1d4-4740-8683-04cc1016ac73",
   "metadata": {},
   "source": [
    "### 1.12 Dropping\n",
    "\n",
    "As ID and SortCode are irrelevant to my analysis, I decided to drop them"
   ]
  },
  {
   "cell_type": "code",
   "execution_count": 13,
   "id": "283a359e-c226-47b2-8bbe-1742b6caea07",
   "metadata": {},
   "outputs": [
    {
     "data": {
      "text/html": [
       "<div>\n",
       "<style scoped>\n",
       "    .dataframe tbody tr th:only-of-type {\n",
       "        vertical-align: middle;\n",
       "    }\n",
       "\n",
       "    .dataframe tbody tr th {\n",
       "        vertical-align: top;\n",
       "    }\n",
       "\n",
       "    .dataframe thead th {\n",
       "        text-align: right;\n",
       "    }\n",
       "</style>\n",
       "<table border=\"1\" class=\"dataframe\">\n",
       "  <thead>\n",
       "    <tr style=\"text-align: right;\">\n",
       "      <th></th>\n",
       "      <th>Age</th>\n",
       "      <th>Experience</th>\n",
       "      <th>Income</th>\n",
       "      <th>Family</th>\n",
       "      <th>CreditScore</th>\n",
       "      <th>Education</th>\n",
       "      <th>Mortgage</th>\n",
       "      <th>PersonalLoan</th>\n",
       "      <th>SecuritiesAccount</th>\n",
       "      <th>CDAccount</th>\n",
       "      <th>OnlineBanking</th>\n",
       "      <th>CreditCard</th>\n",
       "    </tr>\n",
       "  </thead>\n",
       "  <tbody>\n",
       "    <tr>\n",
       "      <th>0</th>\n",
       "      <td>25</td>\n",
       "      <td>1</td>\n",
       "      <td>49</td>\n",
       "      <td>4</td>\n",
       "      <td>1.6</td>\n",
       "      <td>1</td>\n",
       "      <td>0</td>\n",
       "      <td>0</td>\n",
       "      <td>1</td>\n",
       "      <td>0</td>\n",
       "      <td>0</td>\n",
       "      <td>0</td>\n",
       "    </tr>\n",
       "    <tr>\n",
       "      <th>1</th>\n",
       "      <td>45</td>\n",
       "      <td>19</td>\n",
       "      <td>34</td>\n",
       "      <td>3</td>\n",
       "      <td>1.5</td>\n",
       "      <td>1</td>\n",
       "      <td>0</td>\n",
       "      <td>0</td>\n",
       "      <td>1</td>\n",
       "      <td>0</td>\n",
       "      <td>0</td>\n",
       "      <td>0</td>\n",
       "    </tr>\n",
       "    <tr>\n",
       "      <th>2</th>\n",
       "      <td>39</td>\n",
       "      <td>15</td>\n",
       "      <td>11</td>\n",
       "      <td>1</td>\n",
       "      <td>1.0</td>\n",
       "      <td>1</td>\n",
       "      <td>0</td>\n",
       "      <td>0</td>\n",
       "      <td>0</td>\n",
       "      <td>0</td>\n",
       "      <td>0</td>\n",
       "      <td>0</td>\n",
       "    </tr>\n",
       "    <tr>\n",
       "      <th>3</th>\n",
       "      <td>35</td>\n",
       "      <td>9</td>\n",
       "      <td>100</td>\n",
       "      <td>1</td>\n",
       "      <td>2.7</td>\n",
       "      <td>0</td>\n",
       "      <td>0</td>\n",
       "      <td>0</td>\n",
       "      <td>0</td>\n",
       "      <td>0</td>\n",
       "      <td>0</td>\n",
       "      <td>0</td>\n",
       "    </tr>\n",
       "    <tr>\n",
       "      <th>4</th>\n",
       "      <td>35</td>\n",
       "      <td>8</td>\n",
       "      <td>45</td>\n",
       "      <td>4</td>\n",
       "      <td>1.0</td>\n",
       "      <td>0</td>\n",
       "      <td>0</td>\n",
       "      <td>0</td>\n",
       "      <td>0</td>\n",
       "      <td>0</td>\n",
       "      <td>0</td>\n",
       "      <td>1</td>\n",
       "    </tr>\n",
       "  </tbody>\n",
       "</table>\n",
       "</div>"
      ],
      "text/plain": [
       "   Age  Experience  Income  Family  CreditScore  Education  Mortgage  \\\n",
       "0   25           1      49       4          1.6          1         0   \n",
       "1   45          19      34       3          1.5          1         0   \n",
       "2   39          15      11       1          1.0          1         0   \n",
       "3   35           9     100       1          2.7          0         0   \n",
       "4   35           8      45       4          1.0          0         0   \n",
       "\n",
       "   PersonalLoan  SecuritiesAccount  CDAccount  OnlineBanking  CreditCard  \n",
       "0             0                  1          0              0           0  \n",
       "1             0                  1          0              0           0  \n",
       "2             0                  0          0              0           0  \n",
       "3             0                  0          0              0           0  \n",
       "4             0                  0          0              0           1  "
      ]
     },
     "execution_count": 13,
     "metadata": {},
     "output_type": "execute_result"
    }
   ],
   "source": [
    "df = df.drop(columns=[\"ID\", \"SortCode\"])\n",
    "\n",
    "df.head()"
   ]
  },
  {
   "cell_type": "markdown",
   "id": "00c0358a-8c07-4dd4-beb5-44734303427c",
   "metadata": {},
   "source": [
    "### 1.13 Outliers\n",
    "\n",
    "I want to see the outliers in this dataset"
   ]
  },
  {
   "cell_type": "code",
   "execution_count": 14,
   "id": "edaca8cd-e2c7-4fcf-b3a8-96fbee7d37f1",
   "metadata": {},
   "outputs": [
    {
     "data": {
      "image/png": "[encoded data removed]",
      "text/plain": [
       "<Figure size 1800x1200 with 12 Axes>"
      ]
     },
     "metadata": {},
     "output_type": "display_data"
    }
   ],
   "source": [
    "outliers_columns = ['Age', 'Experience', 'Income', 'Family', 'CreditScore', 'Education', 'Mortgage', 'PersonalLoan', 'SecuritiesAccount', 'CDAccount', 'OnlineBanking', 'CreditCard']\n",
    "\n",
    "plt.figure(figsize=(18, 12))\n",
    "\n",
    "for i, column in enumerate(outliers_columns, 1):\n",
    "    plt.subplot(3, 4, i)\n",
    "    sns.boxplot(y=df[column])\n",
    "    plt.title(f'Boxplot of {column}')\n",
    "\n",
    "plt.tight_layout()\n",
    "plt.show()"
   ]
  },
  {
   "cell_type": "markdown",
   "id": "8a5ce2b1-65cb-4741-b769-7cf39d30587a",
   "metadata": {},
   "source": [
    "The `income`, `credit score`, and `mortgage` columns have notable outliers which might affect this analysis"
   ]
  },
  {
   "cell_type": "markdown",
   "id": "0f1327de-1d29-4a90-aeae-41684e25a1b0",
   "metadata": {},
   "source": [
    "## 2. Scaling\n",
    "\n",
    "Adding income to `y` and the remaining to `X`"
   ]
  },
  {
   "cell_type": "code",
   "execution_count": 15,
   "id": "e6a80339-eada-44c5-bc77-01c70ed84b5f",
   "metadata": {},
   "outputs": [],
   "source": [
    "y = df['Income']\n",
    "X = df.drop('Income', axis=1)\n",
    "encoder = LabelEncoder()\n",
    "y = encoder.fit_transform(y)"
   ]
  },
  {
   "cell_type": "code",
   "execution_count": 16,
   "id": "06672102-4792-496d-955a-d79e913d6d79",
   "metadata": {},
   "outputs": [],
   "source": [
    "y_mapping = {index : label for index , label in enumerate(encoder.classes_)}"
   ]
  },
  {
   "cell_type": "markdown",
   "id": "f50a4c61-a531-403d-ad6c-6e6b20ad86bb",
   "metadata": {},
   "source": [
    "### 2.1 MinMaxScaler\n",
    "\n",
    "The reason I am using `MinMaxScaler` is to make every value staying between 0 and 1, it will help the model do its predictions"
   ]
  },
  {
   "cell_type": "code",
   "execution_count": 17,
   "id": "118c703f-9c58-4fc8-baaa-3df2c75937ca",
   "metadata": {},
   "outputs": [
    {
     "data": {
      "text/html": [
       "<div>\n",
       "<style scoped>\n",
       "    .dataframe tbody tr th:only-of-type {\n",
       "        vertical-align: middle;\n",
       "    }\n",
       "\n",
       "    .dataframe tbody tr th {\n",
       "        vertical-align: top;\n",
       "    }\n",
       "\n",
       "    .dataframe thead th {\n",
       "        text-align: right;\n",
       "    }\n",
       "</style>\n",
       "<table border=\"1\" class=\"dataframe\">\n",
       "  <thead>\n",
       "    <tr style=\"text-align: right;\">\n",
       "      <th></th>\n",
       "      <th>Age</th>\n",
       "      <th>Experience</th>\n",
       "      <th>Family</th>\n",
       "      <th>CreditScore</th>\n",
       "      <th>Education</th>\n",
       "      <th>Mortgage</th>\n",
       "      <th>PersonalLoan</th>\n",
       "      <th>SecuritiesAccount</th>\n",
       "      <th>CDAccount</th>\n",
       "      <th>OnlineBanking</th>\n",
       "      <th>CreditCard</th>\n",
       "    </tr>\n",
       "  </thead>\n",
       "  <tbody>\n",
       "    <tr>\n",
       "      <th>0</th>\n",
       "      <td>0.045455</td>\n",
       "      <td>0.086957</td>\n",
       "      <td>1.000000</td>\n",
       "      <td>0.16</td>\n",
       "      <td>0.5</td>\n",
       "      <td>0.000000</td>\n",
       "      <td>0.0</td>\n",
       "      <td>1.0</td>\n",
       "      <td>0.0</td>\n",
       "      <td>0.0</td>\n",
       "      <td>0.0</td>\n",
       "    </tr>\n",
       "    <tr>\n",
       "      <th>1</th>\n",
       "      <td>0.500000</td>\n",
       "      <td>0.478261</td>\n",
       "      <td>0.666667</td>\n",
       "      <td>0.15</td>\n",
       "      <td>0.5</td>\n",
       "      <td>0.000000</td>\n",
       "      <td>0.0</td>\n",
       "      <td>1.0</td>\n",
       "      <td>0.0</td>\n",
       "      <td>0.0</td>\n",
       "      <td>0.0</td>\n",
       "    </tr>\n",
       "    <tr>\n",
       "      <th>2</th>\n",
       "      <td>0.363636</td>\n",
       "      <td>0.391304</td>\n",
       "      <td>0.000000</td>\n",
       "      <td>0.10</td>\n",
       "      <td>0.5</td>\n",
       "      <td>0.000000</td>\n",
       "      <td>0.0</td>\n",
       "      <td>0.0</td>\n",
       "      <td>0.0</td>\n",
       "      <td>0.0</td>\n",
       "      <td>0.0</td>\n",
       "    </tr>\n",
       "    <tr>\n",
       "      <th>3</th>\n",
       "      <td>0.272727</td>\n",
       "      <td>0.260870</td>\n",
       "      <td>0.000000</td>\n",
       "      <td>0.27</td>\n",
       "      <td>0.0</td>\n",
       "      <td>0.000000</td>\n",
       "      <td>0.0</td>\n",
       "      <td>0.0</td>\n",
       "      <td>0.0</td>\n",
       "      <td>0.0</td>\n",
       "      <td>0.0</td>\n",
       "    </tr>\n",
       "    <tr>\n",
       "      <th>4</th>\n",
       "      <td>0.272727</td>\n",
       "      <td>0.239130</td>\n",
       "      <td>1.000000</td>\n",
       "      <td>0.10</td>\n",
       "      <td>0.0</td>\n",
       "      <td>0.000000</td>\n",
       "      <td>0.0</td>\n",
       "      <td>0.0</td>\n",
       "      <td>0.0</td>\n",
       "      <td>0.0</td>\n",
       "      <td>1.0</td>\n",
       "    </tr>\n",
       "    <tr>\n",
       "      <th>...</th>\n",
       "      <td>...</td>\n",
       "      <td>...</td>\n",
       "      <td>...</td>\n",
       "      <td>...</td>\n",
       "      <td>...</td>\n",
       "      <td>...</td>\n",
       "      <td>...</td>\n",
       "      <td>...</td>\n",
       "      <td>...</td>\n",
       "      <td>...</td>\n",
       "      <td>...</td>\n",
       "    </tr>\n",
       "    <tr>\n",
       "      <th>4995</th>\n",
       "      <td>0.136364</td>\n",
       "      <td>0.130435</td>\n",
       "      <td>0.000000</td>\n",
       "      <td>0.19</td>\n",
       "      <td>1.0</td>\n",
       "      <td>0.000000</td>\n",
       "      <td>0.0</td>\n",
       "      <td>0.0</td>\n",
       "      <td>0.0</td>\n",
       "      <td>1.0</td>\n",
       "      <td>0.0</td>\n",
       "    </tr>\n",
       "    <tr>\n",
       "      <th>4996</th>\n",
       "      <td>0.159091</td>\n",
       "      <td>0.152174</td>\n",
       "      <td>1.000000</td>\n",
       "      <td>0.04</td>\n",
       "      <td>0.5</td>\n",
       "      <td>0.133858</td>\n",
       "      <td>0.0</td>\n",
       "      <td>0.0</td>\n",
       "      <td>0.0</td>\n",
       "      <td>1.0</td>\n",
       "      <td>0.0</td>\n",
       "    </tr>\n",
       "    <tr>\n",
       "      <th>4997</th>\n",
       "      <td>0.909091</td>\n",
       "      <td>0.913043</td>\n",
       "      <td>0.333333</td>\n",
       "      <td>0.03</td>\n",
       "      <td>1.0</td>\n",
       "      <td>0.000000</td>\n",
       "      <td>0.0</td>\n",
       "      <td>0.0</td>\n",
       "      <td>0.0</td>\n",
       "      <td>0.0</td>\n",
       "      <td>0.0</td>\n",
       "    </tr>\n",
       "    <tr>\n",
       "      <th>4998</th>\n",
       "      <td>0.954545</td>\n",
       "      <td>0.934783</td>\n",
       "      <td>0.666667</td>\n",
       "      <td>0.05</td>\n",
       "      <td>0.0</td>\n",
       "      <td>0.000000</td>\n",
       "      <td>0.0</td>\n",
       "      <td>0.0</td>\n",
       "      <td>0.0</td>\n",
       "      <td>1.0</td>\n",
       "      <td>0.0</td>\n",
       "    </tr>\n",
       "    <tr>\n",
       "      <th>4999</th>\n",
       "      <td>0.113636</td>\n",
       "      <td>0.152174</td>\n",
       "      <td>0.666667</td>\n",
       "      <td>0.08</td>\n",
       "      <td>0.5</td>\n",
       "      <td>0.000000</td>\n",
       "      <td>0.0</td>\n",
       "      <td>0.0</td>\n",
       "      <td>0.0</td>\n",
       "      <td>1.0</td>\n",
       "      <td>1.0</td>\n",
       "    </tr>\n",
       "  </tbody>\n",
       "</table>\n",
       "<p>5000 rows × 11 columns</p>\n",
       "</div>"
      ],
      "text/plain": [
       "           Age  Experience    Family  CreditScore  Education  Mortgage  \\\n",
       "0     0.045455    0.086957  1.000000         0.16        0.5  0.000000   \n",
       "1     0.500000    0.478261  0.666667         0.15        0.5  0.000000   \n",
       "2     0.363636    0.391304  0.000000         0.10        0.5  0.000000   \n",
       "3     0.272727    0.260870  0.000000         0.27        0.0  0.000000   \n",
       "4     0.272727    0.239130  1.000000         0.10        0.0  0.000000   \n",
       "...        ...         ...       ...          ...        ...       ...   \n",
       "4995  0.136364    0.130435  0.000000         0.19        1.0  0.000000   \n",
       "4996  0.159091    0.152174  1.000000         0.04        0.5  0.133858   \n",
       "4997  0.909091    0.913043  0.333333         0.03        1.0  0.000000   \n",
       "4998  0.954545    0.934783  0.666667         0.05        0.0  0.000000   \n",
       "4999  0.113636    0.152174  0.666667         0.08        0.5  0.000000   \n",
       "\n",
       "      PersonalLoan  SecuritiesAccount  CDAccount  OnlineBanking  CreditCard  \n",
       "0              0.0                1.0        0.0            0.0         0.0  \n",
       "1              0.0                1.0        0.0            0.0         0.0  \n",
       "2              0.0                0.0        0.0            0.0         0.0  \n",
       "3              0.0                0.0        0.0            0.0         0.0  \n",
       "4              0.0                0.0        0.0            0.0         1.0  \n",
       "...            ...                ...        ...            ...         ...  \n",
       "4995           0.0                0.0        0.0            1.0         0.0  \n",
       "4996           0.0                0.0        0.0            1.0         0.0  \n",
       "4997           0.0                0.0        0.0            0.0         0.0  \n",
       "4998           0.0                0.0        0.0            1.0         0.0  \n",
       "4999           0.0                0.0        0.0            1.0         1.0  \n",
       "\n",
       "[5000 rows x 11 columns]"
      ]
     },
     "execution_count": 17,
     "metadata": {},
     "output_type": "execute_result"
    }
   ],
   "source": [
    "scaler = MinMaxScaler()\n",
    "X = pd.DataFrame(scaler.fit_transform(X) , columns = X.columns)\n",
    "\n",
    "X"
   ]
  },
  {
   "cell_type": "markdown",
   "id": "1f0bba0e-cc7b-4884-a831-5e843e53164b",
   "metadata": {},
   "source": [
    "## 3. Training (TensorFlow for Keras)"
   ]
  },
  {
   "cell_type": "markdown",
   "id": "b9033ee4-ff5c-4379-8bd9-c2debbc9df64",
   "metadata": {},
   "source": [
    "### 3.1 Splitting the data"
   ]
  },
  {
   "cell_type": "code",
   "execution_count": 18,
   "id": "097fe25d-6c73-4300-8a29-9b69b62464b5",
   "metadata": {},
   "outputs": [],
   "source": [
    "X_train , X_test , y_train , y_test = train_test_split(X , y , train_size = 0.80)"
   ]
  },
  {
   "cell_type": "markdown",
   "id": "479e3cd2-2ded-4d93-bf65-e930771df867",
   "metadata": {},
   "source": [
    "### 3.2 Defining and Building model\n",
    "\n",
    "For binary classification, sigmoid is the best"
   ]
  },
  {
   "cell_type": "code",
   "execution_count": 19,
   "id": "c56fd2e8-1441-4f4f-81d0-a90e7eb1a978",
   "metadata": {},
   "outputs": [
    {
     "name": "stderr",
     "output_type": "stream",
     "text": [
      "2024-05-29 11:50:28.500028: I external/local_xla/xla/stream_executor/cuda/cuda_executor.cc:998] successful NUMA node read from SysFS had negative value (-1), but there must be at least one NUMA node, so returning NUMA node zero. See more at https://github.com/torvalds/linux/blob/v6.0/Documentation/ABI/testing/sysfs-bus-pci#L344-L355\n",
      "2024-05-29 11:50:28.500369: W tensorflow/core/common_runtime/gpu/gpu_device.cc:2251] Cannot dlopen some GPU libraries. Please make sure the missing libraries mentioned above are installed properly if you would like to use GPU. Follow the guide at https://www.tensorflow.org/install/gpu for how to download and setup the required libraries for your platform.\n",
      "Skipping registering GPU devices...\n"
     ]
    }
   ],
   "source": [
    "inputs = tf.keras.Input(shape=(X.shape[1],))\n",
    "\n",
    "x = tf.keras.layers.Dense(16, activation='relu')(inputs)\n",
    "x = tf.keras.layers.Dense(16, activation='relu')(x)\n",
    "outputs = tf.keras.layers.Dense(1, activation='sigmoid')(x)\n",
    "\n",
    "model = tf.keras.Model(inputs=inputs, outputs=outputs)"
   ]
  },
  {
   "cell_type": "markdown",
   "id": "b43a44ad-19a5-4291-8327-cee3927fcb14",
   "metadata": {},
   "source": [
    "### 3.3 Training the model"
   ]
  },
  {
   "cell_type": "code",
   "execution_count": 20,
   "id": "1882fb1f-bf04-42b9-86a9-2e8a9d2af1a0",
   "metadata": {},
   "outputs": [],
   "source": [
    "model.compile(\n",
    "    loss='binary_crossentropy',\n",
    "    optimizer=tf.keras.optimizers.Adam(learning_rate=0.001),\n",
    "    metrics=[\n",
    "        tf.keras.metrics.BinaryAccuracy(name='acc'),\n",
    "        tf.keras.metrics.AUC(name='auc')\n",
    "    ]\n",
    ")\n",
    "\n",
    "batch_size = 32\n",
    "epochs = 100"
   ]
  },
  {
   "cell_type": "markdown",
   "id": "d443ced3-a8af-46ff-a85d-2c79a1223d18",
   "metadata": {},
   "source": [
    "### 3.4 Fitting the model\n",
    "\n",
    "Filtting the model with `training` sample"
   ]
  },
  {
   "cell_type": "code",
   "execution_count": 21,
   "id": "4ea48f2b-59ea-4f7d-be0c-e7ffb6f68637",
   "metadata": {},
   "outputs": [
    {
     "name": "stdout",
     "output_type": "stream",
     "text": [
      "Epoch 1/100\n",
      "\u001b[1m100/100\u001b[0m \u001b[32m━━━━━━━━━━━━━━━━━━━━\u001b[0m\u001b[37m\u001b[0m \u001b[1m1s\u001b[0m 2ms/step - acc: 0.0040 - auc: 0.3307 - loss: -5.1698 - val_acc: 0.0050 - val_auc: 0.6107 - val_loss: -120.5689\n",
      "Epoch 2/100\n",
      "\u001b[1m100/100\u001b[0m \u001b[32m━━━━━━━━━━━━━━━━━━━━\u001b[0m\u001b[37m\u001b[0m \u001b[1m0s\u001b[0m 708us/step - acc: 0.0041 - auc: 0.4815 - loss: -247.1922 - val_acc: 0.0050 - val_auc: 0.5000 - val_loss: -960.1886\n",
      "Epoch 3/100\n",
      "\u001b[1m100/100\u001b[0m \u001b[32m━━━━━━━━━━━━━━━━━━━━\u001b[0m\u001b[37m\u001b[0m \u001b[1m0s\u001b[0m 706us/step - acc: 0.0046 - auc: 0.4851 - loss: -1499.3965 - val_acc: 0.0050 - val_auc: 0.5000 - val_loss: -3730.7620\n",
      "Epoch 4/100\n",
      "\u001b[1m100/100\u001b[0m \u001b[32m━━━━━━━━━━━━━━━━━━━━\u001b[0m\u001b[37m\u001b[0m \u001b[1m0s\u001b[0m 712us/step - acc: 0.0055 - auc: 0.5000 - loss: -4979.1992 - val_acc: 0.0050 - val_auc: 0.5000 - val_loss: -9768.5527\n",
      "Epoch 5/100\n",
      "\u001b[1m100/100\u001b[0m \u001b[32m━━━━━━━━━━━━━━━━━━━━\u001b[0m\u001b[37m\u001b[0m \u001b[1m0s\u001b[0m 740us/step - acc: 0.0060 - auc: 0.4158 - loss: -12205.2793 - val_acc: 0.0050 - val_auc: 0.5000 - val_loss: -20541.9922\n",
      "Epoch 6/100\n",
      "\u001b[1m100/100\u001b[0m \u001b[32m━━━━━━━━━━━━━━━━━━━━\u001b[0m\u001b[37m\u001b[0m \u001b[1m0s\u001b[0m 973us/step - acc: 0.0040 - auc: 0.4802 - loss: -25070.8008 - val_acc: 0.0050 - val_auc: 0.5000 - val_loss: -37490.6836\n",
      "Epoch 7/100\n",
      "\u001b[1m100/100\u001b[0m \u001b[32m━━━━━━━━━━━━━━━━━━━━\u001b[0m\u001b[37m\u001b[0m \u001b[1m0s\u001b[0m 681us/step - acc: 0.0066 - auc: 0.4950 - loss: -43577.4336 - val_acc: 0.0050 - val_auc: 0.5000 - val_loss: -61468.4102\n",
      "Epoch 8/100\n",
      "\u001b[1m100/100\u001b[0m \u001b[32m━━━━━━━━━━━━━━━━━━━━\u001b[0m\u001b[37m\u001b[0m \u001b[1m0s\u001b[0m 708us/step - acc: 0.0032 - auc: 0.3465 - loss: -70831.0156 - val_acc: 0.0050 - val_auc: 0.5000 - val_loss: -93131.4922\n",
      "Epoch 9/100\n",
      "\u001b[1m100/100\u001b[0m \u001b[32m━━━━━━━━━━━━━━━━━━━━\u001b[0m\u001b[37m\u001b[0m \u001b[1m0s\u001b[0m 676us/step - acc: 0.0063 - auc: 0.5000 - loss: -102222.0078 - val_acc: 0.0050 - val_auc: 0.5000 - val_loss: -133046.9375\n",
      "Epoch 10/100\n",
      "\u001b[1m100/100\u001b[0m \u001b[32m━━━━━━━━━━━━━━━━━━━━\u001b[0m\u001b[37m\u001b[0m \u001b[1m0s\u001b[0m 664us/step - acc: 0.0035 - auc: 0.4653 - loss: -143721.5625 - val_acc: 0.0050 - val_auc: 0.5000 - val_loss: -182029.8125\n",
      "Epoch 11/100\n",
      "\u001b[1m100/100\u001b[0m \u001b[32m━━━━━━━━━━━━━━━━━━━━\u001b[0m\u001b[37m\u001b[0m \u001b[1m0s\u001b[0m 719us/step - acc: 0.0024 - auc: 0.4851 - loss: -202595.4062 - val_acc: 0.0050 - val_auc: 0.5000 - val_loss: -240865.0781\n",
      "Epoch 12/100\n",
      "\u001b[1m100/100\u001b[0m \u001b[32m━━━━━━━━━━━━━━━━━━━━\u001b[0m\u001b[37m\u001b[0m \u001b[1m0s\u001b[0m 731us/step - acc: 0.0028 - auc: 0.5000 - loss: -263658.7812 - val_acc: 0.0050 - val_auc: 0.5000 - val_loss: -309321.1562\n",
      "Epoch 13/100\n",
      "\u001b[1m100/100\u001b[0m \u001b[32m━━━━━━━━━━━━━━━━━━━━\u001b[0m\u001b[37m\u001b[0m \u001b[1m0s\u001b[0m 727us/step - acc: 0.0038 - auc: 0.5000 - loss: -328760.1250 - val_acc: 0.0050 - val_auc: 0.5000 - val_loss: -388110.8125\n",
      "Epoch 14/100\n",
      "\u001b[1m100/100\u001b[0m \u001b[32m━━━━━━━━━━━━━━━━━━━━\u001b[0m\u001b[37m\u001b[0m \u001b[1m0s\u001b[0m 715us/step - acc: 0.0037 - auc: 0.4505 - loss: -415831.9688 - val_acc: 0.0050 - val_auc: 0.5000 - val_loss: -478716.7188\n",
      "Epoch 15/100\n",
      "\u001b[1m100/100\u001b[0m \u001b[32m━━━━━━━━━━━━━━━━━━━━\u001b[0m\u001b[37m\u001b[0m \u001b[1m0s\u001b[0m 709us/step - acc: 0.0056 - auc: 0.4653 - loss: -499138.6250 - val_acc: 0.0050 - val_auc: 0.5000 - val_loss: -580136.3750\n",
      "Epoch 16/100\n",
      "\u001b[1m100/100\u001b[0m \u001b[32m━━━━━━━━━━━━━━━━━━━━\u001b[0m\u001b[37m\u001b[0m \u001b[1m0s\u001b[0m 720us/step - acc: 0.0052 - auc: 0.4604 - loss: -618034.6250 - val_acc: 0.0050 - val_auc: 0.5000 - val_loss: -693188.5000\n",
      "Epoch 17/100\n",
      "\u001b[1m100/100\u001b[0m \u001b[32m━━━━━━━━━━━━━━━━━━━━\u001b[0m\u001b[37m\u001b[0m \u001b[1m0s\u001b[0m 736us/step - acc: 0.0040 - auc: 0.4554 - loss: -727951.6250 - val_acc: 0.0050 - val_auc: 0.5000 - val_loss: -818472.8125\n",
      "Epoch 18/100\n",
      "\u001b[1m100/100\u001b[0m \u001b[32m━━━━━━━━━━━━━━━━━━━━\u001b[0m\u001b[37m\u001b[0m \u001b[1m0s\u001b[0m 773us/step - acc: 0.0049 - auc: 0.5000 - loss: -841199.5625 - val_acc: 0.0050 - val_auc: 0.5000 - val_loss: -956174.5000\n",
      "Epoch 19/100\n",
      "\u001b[1m100/100\u001b[0m \u001b[32m━━━━━━━━━━━━━━━━━━━━\u001b[0m\u001b[37m\u001b[0m \u001b[1m0s\u001b[0m 685us/step - acc: 0.0050 - auc: 0.4802 - loss: -1022970.5625 - val_acc: 0.0050 - val_auc: 0.5000 - val_loss: -1105826.6250\n",
      "Epoch 20/100\n",
      "\u001b[1m100/100\u001b[0m \u001b[32m━━━━━━━━━━━━━━━━━━━━\u001b[0m\u001b[37m\u001b[0m \u001b[1m0s\u001b[0m 771us/step - acc: 0.0046 - auc: 0.4604 - loss: -1205862.5000 - val_acc: 0.0050 - val_auc: 0.5000 - val_loss: -1269222.1250\n",
      "Epoch 21/100\n",
      "\u001b[1m100/100\u001b[0m \u001b[32m━━━━━━━━━━━━━━━━━━━━\u001b[0m\u001b[37m\u001b[0m \u001b[1m0s\u001b[0m 884us/step - acc: 0.0033 - auc: 0.4950 - loss: -1291991.8750 - val_acc: 0.0050 - val_auc: 0.5000 - val_loss: -1445131.3750\n",
      "Epoch 22/100\n",
      "\u001b[1m100/100\u001b[0m \u001b[32m━━━━━━━━━━━━━━━━━━━━\u001b[0m\u001b[37m\u001b[0m \u001b[1m0s\u001b[0m 751us/step - acc: 0.0045 - auc: 0.4752 - loss: -1479139.7500 - val_acc: 0.0050 - val_auc: 0.5000 - val_loss: -1634296.6250\n",
      "Epoch 23/100\n",
      "\u001b[1m100/100\u001b[0m \u001b[32m━━━━━━━━━━━━━━━━━━━━\u001b[0m\u001b[37m\u001b[0m \u001b[1m0s\u001b[0m 736us/step - acc: 0.0061 - auc: 0.3515 - loss: -1723918.0000 - val_acc: 0.0050 - val_auc: 0.5000 - val_loss: -1837012.5000\n",
      "Epoch 24/100\n",
      "\u001b[1m100/100\u001b[0m \u001b[32m━━━━━━━━━━━━━━━━━━━━\u001b[0m\u001b[37m\u001b[0m \u001b[1m0s\u001b[0m 705us/step - acc: 0.0034 - auc: 0.4455 - loss: -1936819.1250 - val_acc: 0.0050 - val_auc: 0.5000 - val_loss: -2054402.8750\n",
      "Epoch 25/100\n",
      "\u001b[1m100/100\u001b[0m \u001b[32m━━━━━━━━━━━━━━━━━━━━\u001b[0m\u001b[37m\u001b[0m \u001b[1m0s\u001b[0m 876us/step - acc: 0.0049 - auc: 0.4455 - loss: -2130880.2500 - val_acc: 0.0050 - val_auc: 0.5000 - val_loss: -2285171.0000\n",
      "Epoch 26/100\n",
      "\u001b[1m100/100\u001b[0m \u001b[32m━━━━━━━━━━━━━━━━━━━━\u001b[0m\u001b[37m\u001b[0m \u001b[1m0s\u001b[0m 691us/step - acc: 0.0043 - auc: 0.4703 - loss: -2432546.0000 - val_acc: 0.0050 - val_auc: 0.5000 - val_loss: -2529689.0000\n",
      "Epoch 27/100\n",
      "\u001b[1m100/100\u001b[0m \u001b[32m━━━━━━━━━━━━━━━━━━━━\u001b[0m\u001b[37m\u001b[0m \u001b[1m0s\u001b[0m 762us/step - acc: 0.0042 - auc: 0.5000 - loss: -2653443.0000 - val_acc: 0.0050 - val_auc: 0.5000 - val_loss: -2788640.2500\n",
      "Epoch 28/100\n",
      "\u001b[1m100/100\u001b[0m \u001b[32m━━━━━━━━━━━━━━━━━━━━\u001b[0m\u001b[37m\u001b[0m \u001b[1m0s\u001b[0m 744us/step - acc: 0.0049 - auc: 0.4257 - loss: -2852455.2500 - val_acc: 0.0050 - val_auc: 0.5000 - val_loss: -3060849.5000\n",
      "Epoch 29/100\n",
      "\u001b[1m100/100\u001b[0m \u001b[32m━━━━━━━━━━━━━━━━━━━━\u001b[0m\u001b[37m\u001b[0m \u001b[1m0s\u001b[0m 721us/step - acc: 0.0064 - auc: 0.4307 - loss: -3227785.7500 - val_acc: 0.0050 - val_auc: 0.5000 - val_loss: -3350500.7500\n",
      "Epoch 30/100\n",
      "\u001b[1m100/100\u001b[0m \u001b[32m━━━━━━━━━━━━━━━━━━━━\u001b[0m\u001b[37m\u001b[0m \u001b[1m0s\u001b[0m 729us/step - acc: 0.0039 - auc: 0.4901 - loss: -3411919.0000 - val_acc: 0.0050 - val_auc: 0.5000 - val_loss: -3651538.0000\n",
      "Epoch 31/100\n",
      "\u001b[1m100/100\u001b[0m \u001b[32m━━━━━━━━━━━━━━━━━━━━\u001b[0m\u001b[37m\u001b[0m \u001b[1m0s\u001b[0m 725us/step - acc: 0.0039 - auc: 0.4604 - loss: -3780055.7500 - val_acc: 0.0050 - val_auc: 0.5000 - val_loss: -3970101.5000\n",
      "Epoch 32/100\n",
      "\u001b[1m100/100\u001b[0m \u001b[32m━━━━━━━━━━━━━━━━━━━━\u001b[0m\u001b[37m\u001b[0m \u001b[1m0s\u001b[0m 725us/step - acc: 0.0078 - auc: 0.4703 - loss: -4149823.2500 - val_acc: 0.0050 - val_auc: 0.5000 - val_loss: -4302876.5000\n",
      "Epoch 33/100\n",
      "\u001b[1m100/100\u001b[0m \u001b[32m━━━━━━━━━━━━━━━━━━━━\u001b[0m\u001b[37m\u001b[0m \u001b[1m0s\u001b[0m 725us/step - acc: 0.0042 - auc: 0.4851 - loss: -4483263.5000 - val_acc: 0.0050 - val_auc: 0.5000 - val_loss: -4650918.5000\n",
      "Epoch 34/100\n",
      "\u001b[1m100/100\u001b[0m \u001b[32m━━━━━━━━━━━━━━━━━━━━\u001b[0m\u001b[37m\u001b[0m \u001b[1m0s\u001b[0m 919us/step - acc: 0.0055 - auc: 0.4752 - loss: -4661759.5000 - val_acc: 0.0050 - val_auc: 0.5000 - val_loss: -5013764.5000\n",
      "Epoch 35/100\n",
      "\u001b[1m100/100\u001b[0m \u001b[32m━━━━━━━━━━━━━━━━━━━━\u001b[0m\u001b[37m\u001b[0m \u001b[1m0s\u001b[0m 720us/step - acc: 0.0062 - auc: 0.4257 - loss: -5204753.0000 - val_acc: 0.0050 - val_auc: 0.5000 - val_loss: -5394702.0000\n",
      "Epoch 36/100\n",
      "\u001b[1m100/100\u001b[0m \u001b[32m━━━━━━━━━━━━━━━━━━━━\u001b[0m\u001b[37m\u001b[0m \u001b[1m0s\u001b[0m 720us/step - acc: 0.0042 - auc: 0.4901 - loss: -5548083.0000 - val_acc: 0.0050 - val_auc: 0.5000 - val_loss: -5787426.5000\n",
      "Epoch 37/100\n",
      "\u001b[1m100/100\u001b[0m \u001b[32m━━━━━━━━━━━━━━━━━━━━\u001b[0m\u001b[37m\u001b[0m \u001b[1m0s\u001b[0m 705us/step - acc: 0.0045 - auc: 0.4604 - loss: -6078825.0000 - val_acc: 0.0050 - val_auc: 0.5000 - val_loss: -6199400.5000\n",
      "Epoch 38/100\n",
      "\u001b[1m100/100\u001b[0m \u001b[32m━━━━━━━━━━━━━━━━━━━━\u001b[0m\u001b[37m\u001b[0m \u001b[1m0s\u001b[0m 698us/step - acc: 0.0052 - auc: 0.4901 - loss: -6332012.5000 - val_acc: 0.0050 - val_auc: 0.5000 - val_loss: -6627945.5000\n",
      "Epoch 39/100\n",
      "\u001b[1m100/100\u001b[0m \u001b[32m━━━━━━━━━━━━━━━━━━━━\u001b[0m\u001b[37m\u001b[0m \u001b[1m0s\u001b[0m 731us/step - acc: 0.0052 - auc: 0.4950 - loss: -6741552.0000 - val_acc: 0.0050 - val_auc: 0.5000 - val_loss: -7071465.0000\n",
      "Epoch 40/100\n",
      "\u001b[1m100/100\u001b[0m \u001b[32m━━━━━━━━━━━━━━━━━━━━\u001b[0m\u001b[37m\u001b[0m \u001b[1m0s\u001b[0m 714us/step - acc: 0.0028 - auc: 0.4851 - loss: -7523309.5000 - val_acc: 0.0050 - val_auc: 0.5000 - val_loss: -7531193.0000\n",
      "Epoch 41/100\n",
      "\u001b[1m100/100\u001b[0m \u001b[32m━━━━━━━━━━━━━━━━━━━━\u001b[0m\u001b[37m\u001b[0m \u001b[1m0s\u001b[0m 741us/step - acc: 0.0036 - auc: 0.4752 - loss: -7770185.0000 - val_acc: 0.0050 - val_auc: 0.5000 - val_loss: -8002653.0000\n",
      "Epoch 42/100\n",
      "\u001b[1m100/100\u001b[0m \u001b[32m━━━━━━━━━━━━━━━━━━━━\u001b[0m\u001b[37m\u001b[0m \u001b[1m0s\u001b[0m 773us/step - acc: 0.0052 - auc: 0.4554 - loss: -8052971.0000 - val_acc: 0.0050 - val_auc: 0.5000 - val_loss: -8498681.0000\n",
      "Epoch 43/100\n",
      "\u001b[1m100/100\u001b[0m \u001b[32m━━━━━━━━━━━━━━━━━━━━\u001b[0m\u001b[37m\u001b[0m \u001b[1m0s\u001b[0m 700us/step - acc: 0.0061 - auc: 0.4901 - loss: -8765240.0000 - val_acc: 0.0050 - val_auc: 0.5000 - val_loss: -9007610.0000\n",
      "Epoch 44/100\n",
      "\u001b[1m100/100\u001b[0m \u001b[32m━━━━━━━━━━━━━━━━━━━━\u001b[0m\u001b[37m\u001b[0m \u001b[1m0s\u001b[0m 704us/step - acc: 0.0039 - auc: 0.4059 - loss: -9300349.0000 - val_acc: 0.0050 - val_auc: 0.5000 - val_loss: -9536945.0000\n",
      "Epoch 45/100\n",
      "\u001b[1m100/100\u001b[0m \u001b[32m━━━━━━━━━━━━━━━━━━━━\u001b[0m\u001b[37m\u001b[0m \u001b[1m0s\u001b[0m 726us/step - acc: 0.0045 - auc: 0.3960 - loss: -10218039.0000 - val_acc: 0.0050 - val_auc: 0.5000 - val_loss: -10079549.0000\n",
      "Epoch 46/100\n",
      "\u001b[1m100/100\u001b[0m \u001b[32m━━━━━━━━━━━━━━━━━━━━\u001b[0m\u001b[37m\u001b[0m \u001b[1m0s\u001b[0m 737us/step - acc: 0.0052 - auc: 0.4257 - loss: -10169429.0000 - val_acc: 0.0050 - val_auc: 0.5000 - val_loss: -10637094.0000\n",
      "Epoch 47/100\n",
      "\u001b[1m100/100\u001b[0m \u001b[32m━━━━━━━━━━━━━━━━━━━━\u001b[0m\u001b[37m\u001b[0m \u001b[1m0s\u001b[0m 710us/step - acc: 0.0058 - auc: 0.4554 - loss: -10767948.0000 - val_acc: 0.0050 - val_auc: 0.5000 - val_loss: -11215939.0000\n",
      "Epoch 48/100\n",
      "\u001b[1m100/100\u001b[0m \u001b[32m━━━━━━━━━━━━━━━━━━━━\u001b[0m\u001b[37m\u001b[0m \u001b[1m0s\u001b[0m 740us/step - acc: 0.0060 - auc: 0.4307 - loss: -11596998.0000 - val_acc: 0.0050 - val_auc: 0.5000 - val_loss: -11814138.0000\n",
      "Epoch 49/100\n",
      "\u001b[1m100/100\u001b[0m \u001b[32m━━━━━━━━━━━━━━━━━━━━\u001b[0m\u001b[37m\u001b[0m \u001b[1m0s\u001b[0m 735us/step - acc: 0.0049 - auc: 0.5000 - loss: -12165819.0000 - val_acc: 0.0050 - val_auc: 0.5000 - val_loss: -12426396.0000\n",
      "Epoch 50/100\n",
      "\u001b[1m100/100\u001b[0m \u001b[32m━━━━━━━━━━━━━━━━━━━━\u001b[0m\u001b[37m\u001b[0m \u001b[1m0s\u001b[0m 715us/step - acc: 0.0052 - auc: 0.4752 - loss: -12681459.0000 - val_acc: 0.0050 - val_auc: 0.5000 - val_loss: -13056613.0000\n",
      "Epoch 51/100\n",
      "\u001b[1m100/100\u001b[0m \u001b[32m━━━━━━━━━━━━━━━━━━━━\u001b[0m\u001b[37m\u001b[0m \u001b[1m0s\u001b[0m 739us/step - acc: 0.0053 - auc: 0.4851 - loss: -13333566.0000 - val_acc: 0.0050 - val_auc: 0.5000 - val_loss: -13709673.0000\n",
      "Epoch 52/100\n",
      "\u001b[1m100/100\u001b[0m \u001b[32m━━━━━━━━━━━━━━━━━━━━\u001b[0m\u001b[37m\u001b[0m \u001b[1m0s\u001b[0m 730us/step - acc: 0.0043 - auc: 0.4703 - loss: -14207539.0000 - val_acc: 0.0050 - val_auc: 0.5000 - val_loss: -14374113.0000\n",
      "Epoch 53/100\n",
      "\u001b[1m100/100\u001b[0m \u001b[32m━━━━━━━━━━━━━━━━━━━━\u001b[0m\u001b[37m\u001b[0m \u001b[1m0s\u001b[0m 976us/step - acc: 0.0037 - auc: 0.4653 - loss: -15074570.0000 - val_acc: 0.0050 - val_auc: 0.5000 - val_loss: -15059534.0000\n",
      "Epoch 54/100\n",
      "\u001b[1m100/100\u001b[0m \u001b[32m━━━━━━━━━━━━━━━━━━━━\u001b[0m\u001b[37m\u001b[0m \u001b[1m0s\u001b[0m 723us/step - acc: 0.0032 - auc: 0.4752 - loss: -15696275.0000 - val_acc: 0.0050 - val_auc: 0.5000 - val_loss: -15766574.0000\n",
      "Epoch 55/100\n",
      "\u001b[1m100/100\u001b[0m \u001b[32m━━━━━━━━━━━━━━━━━━━━\u001b[0m\u001b[37m\u001b[0m \u001b[1m0s\u001b[0m 746us/step - acc: 0.0036 - auc: 0.4604 - loss: -16050792.0000 - val_acc: 0.0050 - val_auc: 0.5000 - val_loss: -16486516.0000\n",
      "Epoch 56/100\n",
      "\u001b[1m100/100\u001b[0m \u001b[32m━━━━━━━━━━━━━━━━━━━━\u001b[0m\u001b[37m\u001b[0m \u001b[1m0s\u001b[0m 741us/step - acc: 0.0039 - auc: 0.4455 - loss: -16727772.0000 - val_acc: 0.0050 - val_auc: 0.5000 - val_loss: -17231632.0000\n",
      "Epoch 57/100\n",
      "\u001b[1m100/100\u001b[0m \u001b[32m━━━━━━━━━━━━━━━━━━━━\u001b[0m\u001b[37m\u001b[0m \u001b[1m0s\u001b[0m 762us/step - acc: 0.0030 - auc: 0.4455 - loss: -17566814.0000 - val_acc: 0.0050 - val_auc: 0.5000 - val_loss: -17987920.0000\n",
      "Epoch 58/100\n",
      "\u001b[1m100/100\u001b[0m \u001b[32m━━━━━━━━━━━━━━━━━━━━\u001b[0m\u001b[37m\u001b[0m \u001b[1m0s\u001b[0m 742us/step - acc: 0.0058 - auc: 0.5000 - loss: -18424544.0000 - val_acc: 0.0050 - val_auc: 0.5000 - val_loss: -18772336.0000\n",
      "Epoch 59/100\n",
      "\u001b[1m100/100\u001b[0m \u001b[32m━━━━━━━━━━━━━━━━━━━━\u001b[0m\u001b[37m\u001b[0m \u001b[1m0s\u001b[0m 751us/step - acc: 0.0042 - auc: 0.4802 - loss: -19311552.0000 - val_acc: 0.0050 - val_auc: 0.5000 - val_loss: -19573044.0000\n",
      "Epoch 60/100\n",
      "\u001b[1m100/100\u001b[0m \u001b[32m━━━━━━━━━━━━━━━━━━━━\u001b[0m\u001b[37m\u001b[0m \u001b[1m0s\u001b[0m 754us/step - acc: 0.0039 - auc: 0.4901 - loss: -20083922.0000 - val_acc: 0.0050 - val_auc: 0.5000 - val_loss: -20394996.0000\n",
      "Epoch 61/100\n",
      "\u001b[1m100/100\u001b[0m \u001b[32m━━━━━━━━━━━━━━━━━━━━\u001b[0m\u001b[37m\u001b[0m \u001b[1m0s\u001b[0m 713us/step - acc: 0.0039 - auc: 0.4455 - loss: -20786988.0000 - val_acc: 0.0050 - val_auc: 0.5000 - val_loss: -21232360.0000\n",
      "Epoch 62/100\n",
      "\u001b[1m100/100\u001b[0m \u001b[32m━━━━━━━━━━━━━━━━━━━━\u001b[0m\u001b[37m\u001b[0m \u001b[1m0s\u001b[0m 727us/step - acc: 0.0032 - auc: 0.4851 - loss: -21488574.0000 - val_acc: 0.0050 - val_auc: 0.5000 - val_loss: -22093520.0000\n",
      "Epoch 63/100\n",
      "\u001b[1m100/100\u001b[0m \u001b[32m━━━━━━━━━━━━━━━━━━━━\u001b[0m\u001b[37m\u001b[0m \u001b[1m0s\u001b[0m 779us/step - acc: 0.0038 - auc: 0.4554 - loss: -22522638.0000 - val_acc: 0.0050 - val_auc: 0.5000 - val_loss: -22973358.0000\n",
      "Epoch 64/100\n",
      "\u001b[1m100/100\u001b[0m \u001b[32m━━━━━━━━━━━━━━━━━━━━\u001b[0m\u001b[37m\u001b[0m \u001b[1m0s\u001b[0m 743us/step - acc: 0.0061 - auc: 0.4604 - loss: -22687766.0000 - val_acc: 0.0050 - val_auc: 0.5000 - val_loss: -23870134.0000\n",
      "Epoch 65/100\n",
      "\u001b[1m100/100\u001b[0m \u001b[32m━━━━━━━━━━━━━━━━━━━━\u001b[0m\u001b[37m\u001b[0m \u001b[1m0s\u001b[0m 735us/step - acc: 0.0047 - auc: 0.4208 - loss: -24672680.0000 - val_acc: 0.0050 - val_auc: 0.5000 - val_loss: -24794664.0000\n",
      "Epoch 66/100\n",
      "\u001b[1m100/100\u001b[0m \u001b[32m━━━━━━━━━━━━━━━━━━━━\u001b[0m\u001b[37m\u001b[0m \u001b[1m0s\u001b[0m 726us/step - acc: 0.0068 - auc: 0.4653 - loss: -24816934.0000 - val_acc: 0.0050 - val_auc: 0.5000 - val_loss: -25733474.0000\n",
      "Epoch 67/100\n",
      "\u001b[1m100/100\u001b[0m \u001b[32m━━━━━━━━━━━━━━━━━━━━\u001b[0m\u001b[37m\u001b[0m \u001b[1m0s\u001b[0m 694us/step - acc: 0.0061 - auc: 0.4950 - loss: -25977396.0000 - val_acc: 0.0050 - val_auc: 0.5000 - val_loss: -26694548.0000\n",
      "Epoch 68/100\n",
      "\u001b[1m100/100\u001b[0m \u001b[32m━━━━━━━━━━━━━━━━━━━━\u001b[0m\u001b[37m\u001b[0m \u001b[1m0s\u001b[0m 720us/step - acc: 0.0062 - auc: 0.3713 - loss: -26751830.0000 - val_acc: 0.0050 - val_auc: 0.5000 - val_loss: -27676752.0000\n",
      "Epoch 69/100\n",
      "\u001b[1m100/100\u001b[0m \u001b[32m━━━━━━━━━━━━━━━━━━━━\u001b[0m\u001b[37m\u001b[0m \u001b[1m0s\u001b[0m 938us/step - acc: 0.0061 - auc: 0.4950 - loss: -28227740.0000 - val_acc: 0.0050 - val_auc: 0.5000 - val_loss: -28682970.0000\n",
      "Epoch 70/100\n",
      "\u001b[1m100/100\u001b[0m \u001b[32m━━━━━━━━━━━━━━━━━━━━\u001b[0m\u001b[37m\u001b[0m \u001b[1m0s\u001b[0m 721us/step - acc: 0.0026 - auc: 0.4752 - loss: -29025734.0000 - val_acc: 0.0050 - val_auc: 0.5000 - val_loss: -29705402.0000\n",
      "Epoch 71/100\n",
      "\u001b[1m100/100\u001b[0m \u001b[32m━━━━━━━━━━━━━━━━━━━━\u001b[0m\u001b[37m\u001b[0m \u001b[1m0s\u001b[0m 819us/step - acc: 0.0064 - auc: 0.4356 - loss: -30490946.0000 - val_acc: 0.0050 - val_auc: 0.5000 - val_loss: -30753004.0000\n",
      "Epoch 72/100\n",
      "\u001b[1m100/100\u001b[0m \u001b[32m━━━━━━━━━━━━━━━━━━━━\u001b[0m\u001b[37m\u001b[0m \u001b[1m0s\u001b[0m 841us/step - acc: 0.0047 - auc: 0.5000 - loss: -30528558.0000 - val_acc: 0.0050 - val_auc: 0.5000 - val_loss: -31822792.0000\n",
      "Epoch 73/100\n",
      "\u001b[1m100/100\u001b[0m \u001b[32m━━━━━━━━━━━━━━━━━━━━\u001b[0m\u001b[37m\u001b[0m \u001b[1m0s\u001b[0m 808us/step - acc: 0.0030 - auc: 0.4455 - loss: -32801492.0000 - val_acc: 0.0050 - val_auc: 0.5000 - val_loss: -32912102.0000\n",
      "Epoch 74/100\n",
      "\u001b[1m100/100\u001b[0m \u001b[32m━━━━━━━━━━━━━━━━━━━━\u001b[0m\u001b[37m\u001b[0m \u001b[1m0s\u001b[0m 794us/step - acc: 0.0065 - auc: 0.4356 - loss: -33540270.0000 - val_acc: 0.0050 - val_auc: 0.5000 - val_loss: -34021492.0000\n",
      "Epoch 75/100\n",
      "\u001b[1m100/100\u001b[0m \u001b[32m━━━━━━━━━━━━━━━━━━━━\u001b[0m\u001b[37m\u001b[0m \u001b[1m0s\u001b[0m 720us/step - acc: 0.0044 - auc: 0.4950 - loss: -34967556.0000 - val_acc: 0.0050 - val_auc: 0.5000 - val_loss: -35153476.0000\n",
      "Epoch 76/100\n",
      "\u001b[1m100/100\u001b[0m \u001b[32m━━━━━━━━━━━━━━━━━━━━\u001b[0m\u001b[37m\u001b[0m \u001b[1m0s\u001b[0m 714us/step - acc: 0.0033 - auc: 0.4851 - loss: -36538960.0000 - val_acc: 0.0050 - val_auc: 0.5000 - val_loss: -36313040.0000\n",
      "Epoch 77/100\n",
      "\u001b[1m100/100\u001b[0m \u001b[32m━━━━━━━━━━━━━━━━━━━━\u001b[0m\u001b[37m\u001b[0m \u001b[1m0s\u001b[0m 750us/step - acc: 0.0057 - auc: 0.4455 - loss: -36409716.0000 - val_acc: 0.0050 - val_auc: 0.5000 - val_loss: -37492280.0000\n",
      "Epoch 78/100\n",
      "\u001b[1m100/100\u001b[0m \u001b[32m━━━━━━━━━━━━━━━━━━━━\u001b[0m\u001b[37m\u001b[0m \u001b[1m0s\u001b[0m 741us/step - acc: 0.0056 - auc: 0.4109 - loss: -39334620.0000 - val_acc: 0.0050 - val_auc: 0.5000 - val_loss: -38694800.0000\n",
      "Epoch 79/100\n",
      "\u001b[1m100/100\u001b[0m \u001b[32m━━━━━━━━━━━━━━━━━━━━\u001b[0m\u001b[37m\u001b[0m \u001b[1m0s\u001b[0m 730us/step - acc: 0.0053 - auc: 0.4950 - loss: -39609488.0000 - val_acc: 0.0050 - val_auc: 0.5000 - val_loss: -39910616.0000\n",
      "Epoch 80/100\n",
      "\u001b[1m100/100\u001b[0m \u001b[32m━━━━━━━━━━━━━━━━━━━━\u001b[0m\u001b[37m\u001b[0m \u001b[1m0s\u001b[0m 752us/step - acc: 0.0047 - auc: 0.4653 - loss: -41290840.0000 - val_acc: 0.0050 - val_auc: 0.5000 - val_loss: -41159072.0000\n",
      "Epoch 81/100\n",
      "\u001b[1m100/100\u001b[0m \u001b[32m━━━━━━━━━━━━━━━━━━━━\u001b[0m\u001b[37m\u001b[0m \u001b[1m0s\u001b[0m 756us/step - acc: 0.0071 - auc: 0.4356 - loss: -42278696.0000 - val_acc: 0.0050 - val_auc: 0.5000 - val_loss: -42433776.0000\n",
      "Epoch 82/100\n",
      "\u001b[1m100/100\u001b[0m \u001b[32m━━━━━━━━━━━━━━━━━━━━\u001b[0m\u001b[37m\u001b[0m \u001b[1m0s\u001b[0m 863us/step - acc: 0.0030 - auc: 0.4703 - loss: -43444840.0000 - val_acc: 0.0050 - val_auc: 0.5000 - val_loss: -43720984.0000\n",
      "Epoch 83/100\n",
      "\u001b[1m100/100\u001b[0m \u001b[32m━━━━━━━━━━━━━━━━━━━━\u001b[0m\u001b[37m\u001b[0m \u001b[1m0s\u001b[0m 770us/step - acc: 0.0046 - auc: 0.4653 - loss: -45422544.0000 - val_acc: 0.0050 - val_auc: 0.5000 - val_loss: -45047224.0000\n",
      "Epoch 84/100\n",
      "\u001b[1m100/100\u001b[0m \u001b[32m━━━━━━━━━━━━━━━━━━━━\u001b[0m\u001b[37m\u001b[0m \u001b[1m0s\u001b[0m 733us/step - acc: 0.0054 - auc: 0.4802 - loss: -45647736.0000 - val_acc: 0.0050 - val_auc: 0.5000 - val_loss: -46383056.0000\n",
      "Epoch 85/100\n",
      "\u001b[1m100/100\u001b[0m \u001b[32m━━━━━━━━━━━━━━━━━━━━\u001b[0m\u001b[37m\u001b[0m \u001b[1m0s\u001b[0m 729us/step - acc: 0.0042 - auc: 0.4901 - loss: -47278124.0000 - val_acc: 0.0050 - val_auc: 0.5000 - val_loss: -47748340.0000\n",
      "Epoch 86/100\n",
      "\u001b[1m100/100\u001b[0m \u001b[32m━━━━━━━━━━━━━━━━━━━━\u001b[0m\u001b[37m\u001b[0m \u001b[1m0s\u001b[0m 749us/step - acc: 0.0041 - auc: 0.4703 - loss: -48573240.0000 - val_acc: 0.0050 - val_auc: 0.5000 - val_loss: -49144832.0000\n",
      "Epoch 87/100\n",
      "\u001b[1m100/100\u001b[0m \u001b[32m━━━━━━━━━━━━━━━━━━━━\u001b[0m\u001b[37m\u001b[0m \u001b[1m0s\u001b[0m 728us/step - acc: 0.0063 - auc: 0.5000 - loss: -50274700.0000 - val_acc: 0.0050 - val_auc: 0.5000 - val_loss: -50549188.0000\n",
      "Epoch 88/100\n",
      "\u001b[1m100/100\u001b[0m \u001b[32m━━━━━━━━━━━━━━━━━━━━\u001b[0m\u001b[37m\u001b[0m \u001b[1m0s\u001b[0m 714us/step - acc: 0.0030 - auc: 0.4653 - loss: -51002776.0000 - val_acc: 0.0050 - val_auc: 0.5000 - val_loss: -51989064.0000\n",
      "Epoch 89/100\n",
      "\u001b[1m100/100\u001b[0m \u001b[32m━━━━━━━━━━━━━━━━━━━━\u001b[0m\u001b[37m\u001b[0m \u001b[1m0s\u001b[0m 740us/step - acc: 0.0043 - auc: 0.4752 - loss: -53325760.0000 - val_acc: 0.0050 - val_auc: 0.5000 - val_loss: -53447536.0000\n",
      "Epoch 90/100\n",
      "\u001b[1m100/100\u001b[0m \u001b[32m━━━━━━━━━━━━━━━━━━━━\u001b[0m\u001b[37m\u001b[0m \u001b[1m0s\u001b[0m 711us/step - acc: 0.0047 - auc: 0.4950 - loss: -52649712.0000 - val_acc: 0.0050 - val_auc: 0.5000 - val_loss: -54936448.0000\n",
      "Epoch 91/100\n",
      "\u001b[1m100/100\u001b[0m \u001b[32m━━━━━━━━━━━━━━━━━━━━\u001b[0m\u001b[37m\u001b[0m \u001b[1m0s\u001b[0m 856us/step - acc: 0.0035 - auc: 0.4604 - loss: -56907408.0000 - val_acc: 0.0050 - val_auc: 0.5000 - val_loss: -56447684.0000\n",
      "Epoch 92/100\n",
      "\u001b[1m100/100\u001b[0m \u001b[32m━━━━━━━━━━━━━━━━━━━━\u001b[0m\u001b[37m\u001b[0m \u001b[1m0s\u001b[0m 728us/step - acc: 0.0066 - auc: 0.4901 - loss: -58017116.0000 - val_acc: 0.0050 - val_auc: 0.5000 - val_loss: -57985780.0000\n",
      "Epoch 93/100\n",
      "\u001b[1m100/100\u001b[0m \u001b[32m━━━━━━━━━━━━━━━━━━━━\u001b[0m\u001b[37m\u001b[0m \u001b[1m0s\u001b[0m 877us/step - acc: 0.0049 - auc: 0.4752 - loss: -57472728.0000 - val_acc: 0.0050 - val_auc: 0.5000 - val_loss: -59540896.0000\n",
      "Epoch 94/100\n",
      "\u001b[1m100/100\u001b[0m \u001b[32m━━━━━━━━━━━━━━━━━━━━\u001b[0m\u001b[37m\u001b[0m \u001b[1m0s\u001b[0m 748us/step - acc: 0.0055 - auc: 0.4455 - loss: -61181556.0000 - val_acc: 0.0050 - val_auc: 0.5000 - val_loss: -61120332.0000\n",
      "Epoch 95/100\n",
      "\u001b[1m100/100\u001b[0m \u001b[32m━━━━━━━━━━━━━━━━━━━━\u001b[0m\u001b[37m\u001b[0m \u001b[1m0s\u001b[0m 738us/step - acc: 0.0041 - auc: 0.4356 - loss: -64367760.0000 - val_acc: 0.0050 - val_auc: 0.5000 - val_loss: -62739092.0000\n",
      "Epoch 96/100\n",
      "\u001b[1m100/100\u001b[0m \u001b[32m━━━━━━━━━━━━━━━━━━━━\u001b[0m\u001b[37m\u001b[0m \u001b[1m0s\u001b[0m 783us/step - acc: 0.0033 - auc: 0.4851 - loss: -66086024.0000 - val_acc: 0.0050 - val_auc: 0.5000 - val_loss: -64378792.0000\n",
      "Epoch 97/100\n",
      "\u001b[1m100/100\u001b[0m \u001b[32m━━━━━━━━━━━━━━━━━━━━\u001b[0m\u001b[37m\u001b[0m \u001b[1m0s\u001b[0m 844us/step - acc: 0.0037 - auc: 0.3812 - loss: -66590060.0000 - val_acc: 0.0050 - val_auc: 0.5000 - val_loss: -66038876.0000\n",
      "Epoch 98/100\n",
      "\u001b[1m100/100\u001b[0m \u001b[32m━━━━━━━━━━━━━━━━━━━━\u001b[0m\u001b[37m\u001b[0m \u001b[1m0s\u001b[0m 869us/step - acc: 0.0036 - auc: 0.5000 - loss: -68844416.0000 - val_acc: 0.0050 - val_auc: 0.5000 - val_loss: -67722912.0000\n",
      "Epoch 99/100\n",
      "\u001b[1m100/100\u001b[0m \u001b[32m━━━━━━━━━━━━━━━━━━━━\u001b[0m\u001b[37m\u001b[0m \u001b[1m0s\u001b[0m 899us/step - acc: 0.0056 - auc: 0.4901 - loss: -69685488.0000 - val_acc: 0.0050 - val_auc: 0.5000 - val_loss: -69433880.0000\n",
      "Epoch 100/100\n",
      "\u001b[1m100/100\u001b[0m \u001b[32m━━━━━━━━━━━━━━━━━━━━\u001b[0m\u001b[37m\u001b[0m \u001b[1m0s\u001b[0m 782us/step - acc: 0.0048 - auc: 0.4802 - loss: -70961760.0000 - val_acc: 0.0050 - val_auc: 0.5000 - val_loss: -71171256.0000\n"
     ]
    }
   ],
   "source": [
    "history = model.fit(\n",
    "    X_train,\n",
    "    y_train,\n",
    "    validation_split=0.20,\n",
    "    epochs=epochs,\n",
    "    batch_size=batch_size\n",
    ")"
   ]
  },
  {
   "cell_type": "markdown",
   "id": "05e81faa-0364-4461-9a6c-a9b0fccb154c",
   "metadata": {},
   "source": [
    "### 3.5 Results fitting the training set"
   ]
  },
  {
   "cell_type": "code",
   "execution_count": 22,
   "id": "7d7f79c1-a110-4f0e-a821-ef1daae8037a",
   "metadata": {},
   "outputs": [
    {
     "data": {
      "image/png": "[encoded data removed]",
      "text/plain": [
       "<Figure size 1400x1000 with 1 Axes>"
      ]
     },
     "metadata": {},
     "output_type": "display_data"
    }
   ],
   "source": [
    "plt.figure(figsize = (14 , 10))\n",
    "\n",
    "epochs_range = range(1 , epochs+1)\n",
    "train_loss = history.history['loss']\n",
    "val_loss = history.history['val_loss']\n",
    "\n",
    "plt.plot(epochs_range , train_loss , label = 'training loss')\n",
    "plt.plot(epochs_range , val_loss , label ='validation_loss')\n",
    "\n",
    "plt.xlabel('Epoch')\n",
    "plt.ylabel('Loss')\n",
    "plt.legend()\n",
    "\n",
    "plt.show()"
   ]
  },
  {
   "cell_type": "markdown",
   "id": "b33feb71-06a2-4621-afac-997e59546a32",
   "metadata": {},
   "source": [
    "Observation: The training loss and validation loss are togheder, but at some point, the validation and the train loss are sligly different, it can happen becase the models starts overfiting..."
   ]
  },
  {
   "cell_type": "markdown",
   "id": "41673d40-4b51-4b42-ab0d-4a7b93be7222",
   "metadata": {},
   "source": [
    "## 4. Training (Keras for Regression)\n",
    "\n",
    "Using the example `Keras for Regression` given in class on April 15th, I will apply the same concept and see if I can get a better result  "
   ]
  },
  {
   "cell_type": "markdown",
   "id": "e977256b-0b3a-46e3-955f-8a41a4a718b9",
   "metadata": {},
   "source": [
    "### 4.1 Input features and target variables"
   ]
  },
  {
   "cell_type": "code",
   "execution_count": 23,
   "id": "7fe5beb7-1a97-477c-bba5-6fafd1f9befe",
   "metadata": {},
   "outputs": [],
   "source": [
    "X = df.iloc[:,0:11]\n",
    "y = df.iloc[:,11].values"
   ]
  },
  {
   "cell_type": "code",
   "execution_count": 24,
   "id": "1a5dcb44-3c74-4aa5-a092-0ef881ecebc5",
   "metadata": {},
   "outputs": [],
   "source": [
    "sc = MinMaxScaler()\n",
    "X = sc.fit_transform(X)\n",
    "y = y.reshape(-1,1)\n",
    "y = sc.fit_transform(y)"
   ]
  },
  {
   "cell_type": "markdown",
   "id": "8e2ed5da-0dea-4bfe-886c-b429efa49ece",
   "metadata": {},
   "source": [
    "### 4.2 Training and Test"
   ]
  },
  {
   "cell_type": "code",
   "execution_count": 25,
   "id": "b31be6ee-2003-466f-a171-48e75836790a",
   "metadata": {},
   "outputs": [],
   "source": [
    "X_train, X_test, y_train, y_test = train_test_split(X, y, test_size=0.3)"
   ]
  },
  {
   "cell_type": "markdown",
   "id": "07e68108-ac2a-4850-ab6c-a2cd51a651b5",
   "metadata": {},
   "source": [
    "### 4.3 Function build_regressor"
   ]
  },
  {
   "cell_type": "code",
   "execution_count": 26,
   "id": "fd2f324d-bd98-43dd-84c6-4c902d02c763",
   "metadata": {},
   "outputs": [],
   "source": [
    "def build_regressor():\n",
    "    regressor = Sequential()\n",
    "    regressor.add(Dense(units=11, input_dim=11))\n",
    "    regressor.add(Dense(units=1))\n",
    "    regressor.compile(optimizer='adam', loss='mean_squared_error', metrics=['mae','accuracy'])\n",
    "    return regressor"
   ]
  },
  {
   "cell_type": "code",
   "execution_count": 27,
   "id": "a8dcc64a-c32d-4d3c-a0be-9ff71898d7ac",
   "metadata": {},
   "outputs": [],
   "source": [
    "regressor = KerasRegressor(build_fn=build_regressor, batch_size=32, epochs=100)"
   ]
  },
  {
   "cell_type": "markdown",
   "id": "a0eb31b2-ba65-4511-afb7-237b8594e147",
   "metadata": {},
   "source": [
    "### 4.4 Fitting the Model"
   ]
  },
  {
   "cell_type": "code",
   "execution_count": 28,
   "id": "4b75cc6b-cdd2-480c-b97b-6e0eb4022924",
   "metadata": {},
   "outputs": [
    {
     "name": "stdout",
     "output_type": "stream",
     "text": [
      "Epoch 1/100\n"
     ]
    },
    {
     "name": "stderr",
     "output_type": "stream",
     "text": [
      "/home/mavinii/.var/app/org.jupyter.JupyterLab/config/jupyterlab-desktop/jlab_server/lib/python3.12/site-packages/scikeras/wrappers.py:925: UserWarning: ``build_fn`` will be renamed to ``model`` in a future release, at which point use of ``build_fn`` will raise an Error instead.\n",
      "  X, y = self._initialize(X, y)\n",
      "/home/mavinii/.var/app/org.jupyter.JupyterLab/config/jupyterlab-desktop/jlab_server/lib/python3.12/site-packages/keras/src/layers/core/dense.py:87: UserWarning: Do not pass an `input_shape`/`input_dim` argument to a layer. When using Sequential models, prefer using an `Input(shape)` object as the first layer in the model instead.\n",
      "  super().__init__(activity_regularizer=activity_regularizer, **kwargs)\n"
     ]
    },
    {
     "name": "stdout",
     "output_type": "stream",
     "text": [
      "\u001b[1m110/110\u001b[0m \u001b[32m━━━━━━━━━━━━━━━━━━━━\u001b[0m\u001b[37m\u001b[0m \u001b[1m0s\u001b[0m 484us/step - accuracy: 0.7116 - loss: 1.6699 - mae: 1.0634\n",
      "Epoch 2/100\n",
      "\u001b[1m110/110\u001b[0m \u001b[32m━━━━━━━━━━━━━━━━━━━━\u001b[0m\u001b[37m\u001b[0m \u001b[1m0s\u001b[0m 418us/step - accuracy: 0.5951 - loss: 0.3300 - mae: 0.4532\n",
      "Epoch 3/100\n",
      "\u001b[1m110/110\u001b[0m \u001b[32m━━━━━━━━━━━━━━━━━━━━\u001b[0m\u001b[37m\u001b[0m \u001b[1m0s\u001b[0m 390us/step - accuracy: 0.6390 - loss: 0.2480 - mae: 0.4008\n",
      "Epoch 4/100\n",
      "\u001b[1m110/110\u001b[0m \u001b[32m━━━━━━━━━━━━━━━━━━━━\u001b[0m\u001b[37m\u001b[0m \u001b[1m0s\u001b[0m 415us/step - accuracy: 0.7020 - loss: 0.2132 - mae: 0.3903\n",
      "Epoch 5/100\n",
      "\u001b[1m110/110\u001b[0m \u001b[32m━━━━━━━━━━━━━━━━━━━━\u001b[0m\u001b[37m\u001b[0m \u001b[1m0s\u001b[0m 406us/step - accuracy: 0.7470 - loss: 0.1916 - mae: 0.3737\n",
      "Epoch 6/100\n",
      "\u001b[1m110/110\u001b[0m \u001b[32m━━━━━━━━━━━━━━━━━━━━\u001b[0m\u001b[37m\u001b[0m \u001b[1m0s\u001b[0m 396us/step - accuracy: 0.7413 - loss: 0.1897 - mae: 0.3811\n",
      "Epoch 7/100\n",
      "\u001b[1m110/110\u001b[0m \u001b[32m━━━━━━━━━━━━━━━━━━━━\u001b[0m\u001b[37m\u001b[0m \u001b[1m0s\u001b[0m 403us/step - accuracy: 0.7366 - loss: 0.1922 - mae: 0.3841\n",
      "Epoch 8/100\n",
      "\u001b[1m110/110\u001b[0m \u001b[32m━━━━━━━━━━━━━━━━━━━━\u001b[0m\u001b[37m\u001b[0m \u001b[1m0s\u001b[0m 399us/step - accuracy: 0.7652 - loss: 0.1766 - mae: 0.3547\n",
      "Epoch 9/100\n",
      "\u001b[1m110/110\u001b[0m \u001b[32m━━━━━━━━━━━━━━━━━━━━\u001b[0m\u001b[37m\u001b[0m \u001b[1m0s\u001b[0m 403us/step - accuracy: 0.7351 - loss: 0.1912 - mae: 0.3851\n",
      "Epoch 10/100\n",
      "\u001b[1m110/110\u001b[0m \u001b[32m━━━━━━━━━━━━━━━━━━━━\u001b[0m\u001b[37m\u001b[0m \u001b[1m0s\u001b[0m 380us/step - accuracy: 0.7457 - loss: 0.1857 - mae: 0.3682\n",
      "Epoch 11/100\n",
      "\u001b[1m110/110\u001b[0m \u001b[32m━━━━━━━━━━━━━━━━━━━━\u001b[0m\u001b[37m\u001b[0m \u001b[1m0s\u001b[0m 414us/step - accuracy: 0.7415 - loss: 0.1883 - mae: 0.3706\n",
      "Epoch 12/100\n",
      "\u001b[1m110/110\u001b[0m \u001b[32m━━━━━━━━━━━━━━━━━━━━\u001b[0m\u001b[37m\u001b[0m \u001b[1m0s\u001b[0m 417us/step - accuracy: 0.7373 - loss: 0.1898 - mae: 0.3802\n",
      "Epoch 13/100\n",
      "\u001b[1m110/110\u001b[0m \u001b[32m━━━━━━━━━━━━━━━━━━━━\u001b[0m\u001b[37m\u001b[0m \u001b[1m0s\u001b[0m 449us/step - accuracy: 0.7502 - loss: 0.1828 - mae: 0.3671\n",
      "Epoch 14/100\n",
      "\u001b[1m110/110\u001b[0m \u001b[32m━━━━━━━━━━━━━━━━━━━━\u001b[0m\u001b[37m\u001b[0m \u001b[1m0s\u001b[0m 416us/step - accuracy: 0.7357 - loss: 0.1894 - mae: 0.3781\n",
      "Epoch 15/100\n",
      "\u001b[1m110/110\u001b[0m \u001b[32m━━━━━━━━━━━━━━━━━━━━\u001b[0m\u001b[37m\u001b[0m \u001b[1m0s\u001b[0m 426us/step - accuracy: 0.7396 - loss: 0.1871 - mae: 0.3754\n",
      "Epoch 16/100\n",
      "\u001b[1m110/110\u001b[0m \u001b[32m━━━━━━━━━━━━━━━━━━━━\u001b[0m\u001b[37m\u001b[0m \u001b[1m0s\u001b[0m 450us/step - accuracy: 0.7544 - loss: 0.1808 - mae: 0.3617\n",
      "Epoch 17/100\n",
      "\u001b[1m110/110\u001b[0m \u001b[32m━━━━━━━━━━━━━━━━━━━━\u001b[0m\u001b[37m\u001b[0m \u001b[1m0s\u001b[0m 410us/step - accuracy: 0.7274 - loss: 0.1938 - mae: 0.3847\n",
      "Epoch 18/100\n",
      "\u001b[1m110/110\u001b[0m \u001b[32m━━━━━━━━━━━━━━━━━━━━\u001b[0m\u001b[37m\u001b[0m \u001b[1m0s\u001b[0m 410us/step - accuracy: 0.7370 - loss: 0.1888 - mae: 0.3754\n",
      "Epoch 19/100\n",
      "\u001b[1m110/110\u001b[0m \u001b[32m━━━━━━━━━━━━━━━━━━━━\u001b[0m\u001b[37m\u001b[0m \u001b[1m0s\u001b[0m 415us/step - accuracy: 0.7404 - loss: 0.1880 - mae: 0.3786\n",
      "Epoch 20/100\n",
      "\u001b[1m110/110\u001b[0m \u001b[32m━━━━━━━━━━━━━━━━━━━━\u001b[0m\u001b[37m\u001b[0m \u001b[1m0s\u001b[0m 411us/step - accuracy: 0.7517 - loss: 0.1817 - mae: 0.3646\n",
      "Epoch 21/100\n",
      "\u001b[1m110/110\u001b[0m \u001b[32m━━━━━━━━━━━━━━━━━━━━\u001b[0m\u001b[37m\u001b[0m \u001b[1m0s\u001b[0m 475us/step - accuracy: 0.7463 - loss: 0.1862 - mae: 0.3679\n",
      "Epoch 22/100\n",
      "\u001b[1m110/110\u001b[0m \u001b[32m━━━━━━━━━━━━━━━━━━━━\u001b[0m\u001b[37m\u001b[0m \u001b[1m0s\u001b[0m 410us/step - accuracy: 0.7245 - loss: 0.1960 - mae: 0.3894\n",
      "Epoch 23/100\n",
      "\u001b[1m110/110\u001b[0m \u001b[32m━━━━━━━━━━━━━━━━━━━━\u001b[0m\u001b[37m\u001b[0m \u001b[1m0s\u001b[0m 434us/step - accuracy: 0.7489 - loss: 0.1833 - mae: 0.3681\n",
      "Epoch 24/100\n",
      "\u001b[1m110/110\u001b[0m \u001b[32m━━━━━━━━━━━━━━━━━━━━\u001b[0m\u001b[37m\u001b[0m \u001b[1m0s\u001b[0m 405us/step - accuracy: 0.7292 - loss: 0.1936 - mae: 0.3858\n",
      "Epoch 25/100\n",
      "\u001b[1m110/110\u001b[0m \u001b[32m━━━━━━━━━━━━━━━━━━━━\u001b[0m\u001b[37m\u001b[0m \u001b[1m0s\u001b[0m 405us/step - accuracy: 0.7491 - loss: 0.1840 - mae: 0.3671\n",
      "Epoch 26/100\n",
      "\u001b[1m110/110\u001b[0m \u001b[32m━━━━━━━━━━━━━━━━━━━━\u001b[0m\u001b[37m\u001b[0m \u001b[1m0s\u001b[0m 447us/step - accuracy: 0.7459 - loss: 0.1855 - mae: 0.3668\n",
      "Epoch 27/100\n",
      "\u001b[1m110/110\u001b[0m \u001b[32m━━━━━━━━━━━━━━━━━━━━\u001b[0m\u001b[37m\u001b[0m \u001b[1m0s\u001b[0m 415us/step - accuracy: 0.7475 - loss: 0.1843 - mae: 0.3693\n",
      "Epoch 28/100\n",
      "\u001b[1m110/110\u001b[0m \u001b[32m━━━━━━━━━━━━━━━━━━━━\u001b[0m\u001b[37m\u001b[0m \u001b[1m0s\u001b[0m 427us/step - accuracy: 0.7352 - loss: 0.1905 - mae: 0.3754\n",
      "Epoch 29/100\n",
      "\u001b[1m110/110\u001b[0m \u001b[32m━━━━━━━━━━━━━━━━━━━━\u001b[0m\u001b[37m\u001b[0m \u001b[1m0s\u001b[0m 429us/step - accuracy: 0.7406 - loss: 0.1888 - mae: 0.3792\n",
      "Epoch 30/100\n",
      "\u001b[1m110/110\u001b[0m \u001b[32m━━━━━━━━━━━━━━━━━━━━\u001b[0m\u001b[37m\u001b[0m \u001b[1m0s\u001b[0m 415us/step - accuracy: 0.7553 - loss: 0.1797 - mae: 0.3595\n",
      "Epoch 31/100\n",
      "\u001b[1m110/110\u001b[0m \u001b[32m━━━━━━━━━━━━━━━━━━━━\u001b[0m\u001b[37m\u001b[0m \u001b[1m0s\u001b[0m 411us/step - accuracy: 0.7478 - loss: 0.1851 - mae: 0.3744\n",
      "Epoch 32/100\n",
      "\u001b[1m110/110\u001b[0m \u001b[32m━━━━━━━━━━━━━━━━━━━━\u001b[0m\u001b[37m\u001b[0m \u001b[1m0s\u001b[0m 438us/step - accuracy: 0.7425 - loss: 0.1874 - mae: 0.3740\n",
      "Epoch 33/100\n",
      "\u001b[1m110/110\u001b[0m \u001b[32m━━━━━━━━━━━━━━━━━━━━\u001b[0m\u001b[37m\u001b[0m \u001b[1m0s\u001b[0m 546us/step - accuracy: 0.7430 - loss: 0.1881 - mae: 0.3691\n",
      "Epoch 34/100\n",
      "\u001b[1m110/110\u001b[0m \u001b[32m━━━━━━━━━━━━━━━━━━━━\u001b[0m\u001b[37m\u001b[0m \u001b[1m0s\u001b[0m 402us/step - accuracy: 0.7433 - loss: 0.1861 - mae: 0.3705\n",
      "Epoch 35/100\n",
      "\u001b[1m110/110\u001b[0m \u001b[32m━━━━━━━━━━━━━━━━━━━━\u001b[0m\u001b[37m\u001b[0m \u001b[1m0s\u001b[0m 419us/step - accuracy: 0.7354 - loss: 0.1907 - mae: 0.3766\n",
      "Epoch 36/100\n",
      "\u001b[1m110/110\u001b[0m \u001b[32m━━━━━━━━━━━━━━━━━━━━\u001b[0m\u001b[37m\u001b[0m \u001b[1m0s\u001b[0m 414us/step - accuracy: 0.7322 - loss: 0.1924 - mae: 0.3758\n",
      "Epoch 37/100\n",
      "\u001b[1m110/110\u001b[0m \u001b[32m━━━━━━━━━━━━━━━━━━━━\u001b[0m\u001b[37m\u001b[0m \u001b[1m0s\u001b[0m 475us/step - accuracy: 0.7346 - loss: 0.1905 - mae: 0.3763\n",
      "Epoch 38/100\n",
      "\u001b[1m110/110\u001b[0m \u001b[32m━━━━━━━━━━━━━━━━━━━━\u001b[0m\u001b[37m\u001b[0m \u001b[1m0s\u001b[0m 453us/step - accuracy: 0.7487 - loss: 0.1842 - mae: 0.3642\n",
      "Epoch 39/100\n",
      "\u001b[1m110/110\u001b[0m \u001b[32m━━━━━━━━━━━━━━━━━━━━\u001b[0m\u001b[37m\u001b[0m \u001b[1m0s\u001b[0m 458us/step - accuracy: 0.7346 - loss: 0.1912 - mae: 0.3806\n",
      "Epoch 40/100\n",
      "\u001b[1m110/110\u001b[0m \u001b[32m━━━━━━━━━━━━━━━━━━━━\u001b[0m\u001b[37m\u001b[0m \u001b[1m0s\u001b[0m 402us/step - accuracy: 0.7445 - loss: 0.1849 - mae: 0.3661\n",
      "Epoch 41/100\n",
      "\u001b[1m110/110\u001b[0m \u001b[32m━━━━━━━━━━━━━━━━━━━━\u001b[0m\u001b[37m\u001b[0m \u001b[1m0s\u001b[0m 456us/step - accuracy: 0.7429 - loss: 0.1866 - mae: 0.3706\n",
      "Epoch 42/100\n",
      "\u001b[1m110/110\u001b[0m \u001b[32m━━━━━━━━━━━━━━━━━━━━\u001b[0m\u001b[37m\u001b[0m \u001b[1m0s\u001b[0m 505us/step - accuracy: 0.7392 - loss: 0.1890 - mae: 0.3754\n",
      "Epoch 43/100\n",
      "\u001b[1m110/110\u001b[0m \u001b[32m━━━━━━━━━━━━━━━━━━━━\u001b[0m\u001b[37m\u001b[0m \u001b[1m0s\u001b[0m 480us/step - accuracy: 0.7316 - loss: 0.1943 - mae: 0.3783\n",
      "Epoch 44/100\n",
      "\u001b[1m110/110\u001b[0m \u001b[32m━━━━━━━━━━━━━━━━━━━━\u001b[0m\u001b[37m\u001b[0m \u001b[1m0s\u001b[0m 434us/step - accuracy: 0.7447 - loss: 0.1863 - mae: 0.3682\n",
      "Epoch 45/100\n",
      "\u001b[1m110/110\u001b[0m \u001b[32m━━━━━━━━━━━━━━━━━━━━\u001b[0m\u001b[37m\u001b[0m \u001b[1m0s\u001b[0m 411us/step - accuracy: 0.7356 - loss: 0.1899 - mae: 0.3778\n",
      "Epoch 46/100\n",
      "\u001b[1m110/110\u001b[0m \u001b[32m━━━━━━━━━━━━━━━━━━━━\u001b[0m\u001b[37m\u001b[0m \u001b[1m0s\u001b[0m 433us/step - accuracy: 0.7471 - loss: 0.1853 - mae: 0.3713\n",
      "Epoch 47/100\n",
      "\u001b[1m110/110\u001b[0m \u001b[32m━━━━━━━━━━━━━━━━━━━━\u001b[0m\u001b[37m\u001b[0m \u001b[1m0s\u001b[0m 411us/step - accuracy: 0.7403 - loss: 0.1891 - mae: 0.3701\n",
      "Epoch 48/100\n",
      "\u001b[1m110/110\u001b[0m \u001b[32m━━━━━━━━━━━━━━━━━━━━\u001b[0m\u001b[37m\u001b[0m \u001b[1m0s\u001b[0m 448us/step - accuracy: 0.7533 - loss: 0.1779 - mae: 0.3584\n",
      "Epoch 49/100\n",
      "\u001b[1m110/110\u001b[0m \u001b[32m━━━━━━━━━━━━━━━━━━━━\u001b[0m\u001b[37m\u001b[0m \u001b[1m0s\u001b[0m 394us/step - accuracy: 0.7424 - loss: 0.1869 - mae: 0.3762\n",
      "Epoch 50/100\n",
      "\u001b[1m110/110\u001b[0m \u001b[32m━━━━━━━━━━━━━━━━━━━━\u001b[0m\u001b[37m\u001b[0m \u001b[1m0s\u001b[0m 409us/step - accuracy: 0.7463 - loss: 0.1858 - mae: 0.3740\n",
      "Epoch 51/100\n",
      "\u001b[1m110/110\u001b[0m \u001b[32m━━━━━━━━━━━━━━━━━━━━\u001b[0m\u001b[37m\u001b[0m \u001b[1m0s\u001b[0m 396us/step - accuracy: 0.7383 - loss: 0.1908 - mae: 0.3811\n",
      "Epoch 52/100\n",
      "\u001b[1m110/110\u001b[0m \u001b[32m━━━━━━━━━━━━━━━━━━━━\u001b[0m\u001b[37m\u001b[0m \u001b[1m0s\u001b[0m 435us/step - accuracy: 0.7416 - loss: 0.1878 - mae: 0.3768\n",
      "Epoch 53/100\n",
      "\u001b[1m110/110\u001b[0m \u001b[32m━━━━━━━━━━━━━━━━━━━━\u001b[0m\u001b[37m\u001b[0m \u001b[1m0s\u001b[0m 384us/step - accuracy: 0.7473 - loss: 0.1834 - mae: 0.3666\n",
      "Epoch 54/100\n",
      "\u001b[1m110/110\u001b[0m \u001b[32m━━━━━━━━━━━━━━━━━━━━\u001b[0m\u001b[37m\u001b[0m \u001b[1m0s\u001b[0m 378us/step - accuracy: 0.7385 - loss: 0.1884 - mae: 0.3724\n",
      "Epoch 55/100\n",
      "\u001b[1m110/110\u001b[0m \u001b[32m━━━━━━━━━━━━━━━━━━━━\u001b[0m\u001b[37m\u001b[0m \u001b[1m0s\u001b[0m 535us/step - accuracy: 0.7489 - loss: 0.1837 - mae: 0.3644\n",
      "Epoch 56/100\n",
      "\u001b[1m110/110\u001b[0m \u001b[32m━━━━━━━━━━━━━━━━━━━━\u001b[0m\u001b[37m\u001b[0m \u001b[1m0s\u001b[0m 458us/step - accuracy: 0.7390 - loss: 0.1862 - mae: 0.3680\n",
      "Epoch 57/100\n",
      "\u001b[1m110/110\u001b[0m \u001b[32m━━━━━━━━━━━━━━━━━━━━\u001b[0m\u001b[37m\u001b[0m \u001b[1m0s\u001b[0m 410us/step - accuracy: 0.7311 - loss: 0.1913 - mae: 0.3759\n",
      "Epoch 58/100\n",
      "\u001b[1m110/110\u001b[0m \u001b[32m━━━━━━━━━━━━━━━━━━━━\u001b[0m\u001b[37m\u001b[0m \u001b[1m0s\u001b[0m 423us/step - accuracy: 0.7404 - loss: 0.1884 - mae: 0.3746\n",
      "Epoch 59/100\n",
      "\u001b[1m110/110\u001b[0m \u001b[32m━━━━━━━━━━━━━━━━━━━━\u001b[0m\u001b[37m\u001b[0m \u001b[1m0s\u001b[0m 433us/step - accuracy: 0.7441 - loss: 0.1856 - mae: 0.3706\n",
      "Epoch 60/100\n",
      "\u001b[1m110/110\u001b[0m \u001b[32m━━━━━━━━━━━━━━━━━━━━\u001b[0m\u001b[37m\u001b[0m \u001b[1m0s\u001b[0m 426us/step - accuracy: 0.7437 - loss: 0.1871 - mae: 0.3769\n",
      "Epoch 61/100\n",
      "\u001b[1m110/110\u001b[0m \u001b[32m━━━━━━━━━━━━━━━━━━━━\u001b[0m\u001b[37m\u001b[0m \u001b[1m0s\u001b[0m 423us/step - accuracy: 0.7462 - loss: 0.1868 - mae: 0.3698\n",
      "Epoch 62/100\n",
      "\u001b[1m110/110\u001b[0m \u001b[32m━━━━━━━━━━━━━━━━━━━━\u001b[0m\u001b[37m\u001b[0m \u001b[1m0s\u001b[0m 427us/step - accuracy: 0.7549 - loss: 0.1800 - mae: 0.3615\n",
      "Epoch 63/100\n",
      "\u001b[1m110/110\u001b[0m \u001b[32m━━━━━━━━━━━━━━━━━━━━\u001b[0m\u001b[37m\u001b[0m \u001b[1m0s\u001b[0m 432us/step - accuracy: 0.7347 - loss: 0.1887 - mae: 0.3786\n",
      "Epoch 64/100\n",
      "\u001b[1m110/110\u001b[0m \u001b[32m━━━━━━━━━━━━━━━━━━━━\u001b[0m\u001b[37m\u001b[0m \u001b[1m0s\u001b[0m 436us/step - accuracy: 0.7391 - loss: 0.1879 - mae: 0.3754\n",
      "Epoch 65/100\n",
      "\u001b[1m110/110\u001b[0m \u001b[32m━━━━━━━━━━━━━━━━━━━━\u001b[0m\u001b[37m\u001b[0m \u001b[1m0s\u001b[0m 394us/step - accuracy: 0.7539 - loss: 0.1815 - mae: 0.3658\n",
      "Epoch 66/100\n",
      "\u001b[1m110/110\u001b[0m \u001b[32m━━━━━━━━━━━━━━━━━━━━\u001b[0m\u001b[37m\u001b[0m \u001b[1m0s\u001b[0m 414us/step - accuracy: 0.7465 - loss: 0.1845 - mae: 0.3733\n",
      "Epoch 67/100\n",
      "\u001b[1m110/110\u001b[0m \u001b[32m━━━━━━━━━━━━━━━━━━━━\u001b[0m\u001b[37m\u001b[0m \u001b[1m0s\u001b[0m 437us/step - accuracy: 0.7388 - loss: 0.1900 - mae: 0.3782\n",
      "Epoch 68/100\n",
      "\u001b[1m110/110\u001b[0m \u001b[32m━━━━━━━━━━━━━━━━━━━━\u001b[0m\u001b[37m\u001b[0m \u001b[1m0s\u001b[0m 438us/step - accuracy: 0.7433 - loss: 0.1871 - mae: 0.3718\n",
      "Epoch 69/100\n",
      "\u001b[1m110/110\u001b[0m \u001b[32m━━━━━━━━━━━━━━━━━━━━\u001b[0m\u001b[37m\u001b[0m \u001b[1m0s\u001b[0m 415us/step - accuracy: 0.7459 - loss: 0.1851 - mae: 0.3654\n",
      "Epoch 70/100\n",
      "\u001b[1m110/110\u001b[0m \u001b[32m━━━━━━━━━━━━━━━━━━━━\u001b[0m\u001b[37m\u001b[0m \u001b[1m0s\u001b[0m 407us/step - accuracy: 0.7564 - loss: 0.1814 - mae: 0.3600\n",
      "Epoch 71/100\n",
      "\u001b[1m110/110\u001b[0m \u001b[32m━━━━━━━━━━━━━━━━━━━━\u001b[0m\u001b[37m\u001b[0m \u001b[1m0s\u001b[0m 598us/step - accuracy: 0.7386 - loss: 0.1898 - mae: 0.3838\n",
      "Epoch 72/100\n",
      "\u001b[1m110/110\u001b[0m \u001b[32m━━━━━━━━━━━━━━━━━━━━\u001b[0m\u001b[37m\u001b[0m \u001b[1m0s\u001b[0m 401us/step - accuracy: 0.7332 - loss: 0.1921 - mae: 0.3756\n",
      "Epoch 73/100\n",
      "\u001b[1m110/110\u001b[0m \u001b[32m━━━━━━━━━━━━━━━━━━━━\u001b[0m\u001b[37m\u001b[0m \u001b[1m0s\u001b[0m 395us/step - accuracy: 0.7499 - loss: 0.1826 - mae: 0.3615\n",
      "Epoch 74/100\n",
      "\u001b[1m110/110\u001b[0m \u001b[32m━━━━━━━━━━━━━━━━━━━━\u001b[0m\u001b[37m\u001b[0m \u001b[1m0s\u001b[0m 412us/step - accuracy: 0.7390 - loss: 0.1895 - mae: 0.3844\n",
      "Epoch 75/100\n",
      "\u001b[1m110/110\u001b[0m \u001b[32m━━━━━━━━━━━━━━━━━━━━\u001b[0m\u001b[37m\u001b[0m \u001b[1m0s\u001b[0m 406us/step - accuracy: 0.7461 - loss: 0.1867 - mae: 0.3738\n",
      "Epoch 76/100\n",
      "\u001b[1m110/110\u001b[0m \u001b[32m━━━━━━━━━━━━━━━━━━━━\u001b[0m\u001b[37m\u001b[0m \u001b[1m0s\u001b[0m 434us/step - accuracy: 0.7472 - loss: 0.1837 - mae: 0.3630\n",
      "Epoch 77/100\n",
      "\u001b[1m110/110\u001b[0m \u001b[32m━━━━━━━━━━━━━━━━━━━━\u001b[0m\u001b[37m\u001b[0m \u001b[1m0s\u001b[0m 432us/step - accuracy: 0.7331 - loss: 0.1908 - mae: 0.3786\n",
      "Epoch 78/100\n",
      "\u001b[1m110/110\u001b[0m \u001b[32m━━━━━━━━━━━━━━━━━━━━\u001b[0m\u001b[37m\u001b[0m \u001b[1m0s\u001b[0m 422us/step - accuracy: 0.7390 - loss: 0.1898 - mae: 0.3744\n",
      "Epoch 79/100\n",
      "\u001b[1m110/110\u001b[0m \u001b[32m━━━━━━━━━━━━━━━━━━━━\u001b[0m\u001b[37m\u001b[0m \u001b[1m0s\u001b[0m 403us/step - accuracy: 0.7498 - loss: 0.1833 - mae: 0.3636\n",
      "Epoch 80/100\n",
      "\u001b[1m110/110\u001b[0m \u001b[32m━━━━━━━━━━━━━━━━━━━━\u001b[0m\u001b[37m\u001b[0m \u001b[1m0s\u001b[0m 394us/step - accuracy: 0.7503 - loss: 0.1834 - mae: 0.3654\n",
      "Epoch 81/100\n",
      "\u001b[1m110/110\u001b[0m \u001b[32m━━━━━━━━━━━━━━━━━━━━\u001b[0m\u001b[37m\u001b[0m \u001b[1m0s\u001b[0m 412us/step - accuracy: 0.7540 - loss: 0.1820 - mae: 0.3650\n",
      "Epoch 82/100\n",
      "\u001b[1m110/110\u001b[0m \u001b[32m━━━━━━━━━━━━━━━━━━━━\u001b[0m\u001b[37m\u001b[0m \u001b[1m0s\u001b[0m 402us/step - accuracy: 0.7520 - loss: 0.1812 - mae: 0.3608\n",
      "Epoch 83/100\n",
      "\u001b[1m110/110\u001b[0m \u001b[32m━━━━━━━━━━━━━━━━━━━━\u001b[0m\u001b[37m\u001b[0m \u001b[1m0s\u001b[0m 506us/step - accuracy: 0.7377 - loss: 0.1897 - mae: 0.3814\n",
      "Epoch 84/100\n",
      "\u001b[1m110/110\u001b[0m \u001b[32m━━━━━━━━━━━━━━━━━━━━\u001b[0m\u001b[37m\u001b[0m \u001b[1m0s\u001b[0m 443us/step - accuracy: 0.7623 - loss: 0.1784 - mae: 0.3639\n",
      "Epoch 85/100\n",
      "\u001b[1m110/110\u001b[0m \u001b[32m━━━━━━━━━━━━━━━━━━━━\u001b[0m\u001b[37m\u001b[0m \u001b[1m0s\u001b[0m 595us/step - accuracy: 0.7566 - loss: 0.1803 - mae: 0.3581\n",
      "Epoch 86/100\n",
      "\u001b[1m110/110\u001b[0m \u001b[32m━━━━━━━━━━━━━━━━━━━━\u001b[0m\u001b[37m\u001b[0m \u001b[1m0s\u001b[0m 419us/step - accuracy: 0.7379 - loss: 0.1889 - mae: 0.3745\n",
      "Epoch 87/100\n",
      "\u001b[1m110/110\u001b[0m \u001b[32m━━━━━━━━━━━━━━━━━━━━\u001b[0m\u001b[37m\u001b[0m \u001b[1m0s\u001b[0m 388us/step - accuracy: 0.7434 - loss: 0.1877 - mae: 0.3686\n",
      "Epoch 88/100\n",
      "\u001b[1m110/110\u001b[0m \u001b[32m━━━━━━━━━━━━━━━━━━━━\u001b[0m\u001b[37m\u001b[0m \u001b[1m0s\u001b[0m 410us/step - accuracy: 0.7431 - loss: 0.1872 - mae: 0.3720\n",
      "Epoch 89/100\n",
      "\u001b[1m110/110\u001b[0m \u001b[32m━━━━━━━━━━━━━━━━━━━━\u001b[0m\u001b[37m\u001b[0m \u001b[1m0s\u001b[0m 426us/step - accuracy: 0.7334 - loss: 0.1907 - mae: 0.3754\n",
      "Epoch 90/100\n",
      "\u001b[1m110/110\u001b[0m \u001b[32m━━━━━━━━━━━━━━━━━━━━\u001b[0m\u001b[37m\u001b[0m \u001b[1m0s\u001b[0m 421us/step - accuracy: 0.7447 - loss: 0.1848 - mae: 0.3660\n",
      "Epoch 91/100\n",
      "\u001b[1m110/110\u001b[0m \u001b[32m━━━━━━━━━━━━━━━━━━━━\u001b[0m\u001b[37m\u001b[0m \u001b[1m0s\u001b[0m 433us/step - accuracy: 0.7417 - loss: 0.1890 - mae: 0.3802\n",
      "Epoch 92/100\n",
      "\u001b[1m110/110\u001b[0m \u001b[32m━━━━━━━━━━━━━━━━━━━━\u001b[0m\u001b[37m\u001b[0m \u001b[1m0s\u001b[0m 417us/step - accuracy: 0.7481 - loss: 0.1846 - mae: 0.3682\n",
      "Epoch 93/100\n",
      "\u001b[1m110/110\u001b[0m \u001b[32m━━━━━━━━━━━━━━━━━━━━\u001b[0m\u001b[37m\u001b[0m \u001b[1m0s\u001b[0m 416us/step - accuracy: 0.7495 - loss: 0.1836 - mae: 0.3678\n",
      "Epoch 94/100\n",
      "\u001b[1m110/110\u001b[0m \u001b[32m━━━━━━━━━━━━━━━━━━━━\u001b[0m\u001b[37m\u001b[0m \u001b[1m0s\u001b[0m 408us/step - accuracy: 0.7428 - loss: 0.1876 - mae: 0.3771\n",
      "Epoch 95/100\n",
      "\u001b[1m110/110\u001b[0m \u001b[32m━━━━━━━━━━━━━━━━━━━━\u001b[0m\u001b[37m\u001b[0m \u001b[1m0s\u001b[0m 405us/step - accuracy: 0.7397 - loss: 0.1894 - mae: 0.3755\n",
      "Epoch 96/100\n",
      "\u001b[1m110/110\u001b[0m \u001b[32m━━━━━━━━━━━━━━━━━━━━\u001b[0m\u001b[37m\u001b[0m \u001b[1m0s\u001b[0m 413us/step - accuracy: 0.7417 - loss: 0.1876 - mae: 0.3752\n",
      "Epoch 97/100\n",
      "\u001b[1m110/110\u001b[0m \u001b[32m━━━━━━━━━━━━━━━━━━━━\u001b[0m\u001b[37m\u001b[0m \u001b[1m0s\u001b[0m 414us/step - accuracy: 0.7443 - loss: 0.1852 - mae: 0.3669\n",
      "Epoch 98/100\n",
      "\u001b[1m110/110\u001b[0m \u001b[32m━━━━━━━━━━━━━━━━━━━━\u001b[0m\u001b[37m\u001b[0m \u001b[1m0s\u001b[0m 631us/step - accuracy: 0.7419 - loss: 0.1877 - mae: 0.3741\n",
      "Epoch 99/100\n",
      "\u001b[1m110/110\u001b[0m \u001b[32m━━━━━━━━━━━━━━━━━━━━\u001b[0m\u001b[37m\u001b[0m \u001b[1m0s\u001b[0m 429us/step - accuracy: 0.7372 - loss: 0.1908 - mae: 0.3866\n",
      "Epoch 100/100\n",
      "\u001b[1m110/110\u001b[0m \u001b[32m━━━━━━━━━━━━━━━━━━━━\u001b[0m\u001b[37m\u001b[0m \u001b[1m0s\u001b[0m 395us/step - accuracy: 0.7518 - loss: 0.1812 - mae: 0.3629\n"
     ]
    }
   ],
   "source": [
    "results = regressor.fit(X_train,y_train)"
   ]
  },
  {
   "cell_type": "markdown",
   "id": "69dcc940-cbec-44be-8d91-7d07818a85e3",
   "metadata": {},
   "source": [
    "### 4.5 Predict the data"
   ]
  },
  {
   "cell_type": "code",
   "execution_count": 29,
   "id": "5589100a-741c-4f74-ad48-41f79c3a02df",
   "metadata": {},
   "outputs": [
    {
     "name": "stdout",
     "output_type": "stream",
     "text": [
      "\u001b[1m47/47\u001b[0m \u001b[32m━━━━━━━━━━━━━━━━━━━━\u001b[0m\u001b[37m\u001b[0m \u001b[1m0s\u001b[0m 660us/step\n"
     ]
    }
   ],
   "source": [
    "y_pred = regressor.predict(X_test)"
   ]
  },
  {
   "cell_type": "markdown",
   "id": "4b004fb7-be43-40bc-9a47-cb5ae66ed9fb",
   "metadata": {},
   "source": [
    "### 4.6 Plotting the predicted value"
   ]
  },
  {
   "cell_type": "code",
   "execution_count": 30,
   "id": "14fba5ac-86b6-42c8-9816-b3c0cfb75f9e",
   "metadata": {},
   "outputs": [
    {
     "data": {
      "image/png": "[encoded data removed]",
      "text/plain": [
       "<Figure size 640x480 with 1 Axes>"
      ]
     },
     "metadata": {},
     "output_type": "display_data"
    }
   ],
   "source": [
    "fig, ax = plt.subplots()\n",
    "\n",
    "ax.scatter(y_test, y_pred)\n",
    "ax.plot([y_test.min(), y_test.max()], [y_test.min(), y_test.max()], 'k--', lw=4)\n",
    "ax.set_xlabel('Measured')\n",
    "ax.set_ylabel('Predicted')\n",
    "\n",
    "plt.show()"
   ]
  },
  {
   "cell_type": "markdown",
   "id": "6c0f447e-fd8c-4021-8e65-1c48385837b1",
   "metadata": {},
   "source": [
    "> Observation: As we can see, the black line (which is the predicted value), does not encompass the values! It happened because the `Income` which is my target variable, is not well distributed. Also, due to time constraints, I could have tried StandardScaler, Normalizer or RobustScaler, and not just MinMaxScales, as David suggested."
   ]
  },
  {
   "cell_type": "markdown",
   "id": "c82fc44f-d1b7-49b3-88ca-00bcc5432c9c",
   "metadata": {},
   "source": [
    "### 3.6 Neural Networks Result"
   ]
  },
  {
   "cell_type": "code",
   "execution_count": 31,
   "id": "cf69b681-0d8a-456d-8d6a-b6e6888a8ee9",
   "metadata": {},
   "outputs": [
    {
     "name": "stdout",
     "output_type": "stream",
     "text": [
      "\u001b[1m47/47\u001b[0m \u001b[32m━━━━━━━━━━━━━━━━━━━━\u001b[0m\u001b[37m\u001b[0m \u001b[1m0s\u001b[0m 527us/step - acc: 0.3033 - auc: 0.5000 - loss: 891288.4375\n",
      "[909397.75, 0.2966666519641876, 0.5]\n",
      "\u001b[1m47/47\u001b[0m \u001b[32m━━━━━━━━━━━━━━━━━━━━\u001b[0m\u001b[37m\u001b[0m \u001b[1m0s\u001b[0m 322us/step\n",
      "[[0.3286131 ]\n",
      " [0.70545614]\n",
      " [0.25950682]\n",
      " ...\n",
      " [0.22747864]\n",
      " [0.29960436]\n",
      " [0.2876264 ]]\n"
     ]
    }
   ],
   "source": [
    "print(model.evaluate(X_test , y_test))\n",
    "\n",
    "print(regressor.predict(X_test))"
   ]
  },
  {
   "cell_type": "markdown",
   "id": "b994fc9b-efc1-44b4-88dc-0e3e78b4ecf3",
   "metadata": {},
   "source": [
    "> Observation: The results of the `model` show an `AUC of 0.5000`, which means that it is not so good but not that bad either, certainly it has room for improvement. Also, the result of `0.2888` of the KerasRegressor, did not get a good result either and the answer I wrote above."
   ]
  },
  {
   "cell_type": "markdown",
   "id": "24fa06a6-430f-4cbc-88ef-aa9541f82565",
   "metadata": {},
   "source": [
    "# Standard ML Regressor"
   ]
  },
  {
   "cell_type": "markdown",
   "id": "4908a245-14f9-4c4e-a2e6-bf5d23d146c1",
   "metadata": {},
   "source": [
    "## 1. GaussianNB\n",
    "\n",
    "After testing other models, I decided to use GaussianNB because it is often used for binary classification, but it can also handle multiclass classification "
   ]
  },
  {
   "cell_type": "code",
   "execution_count": 35,
   "id": "219320ca-834d-4d74-9e11-3ae8718b912d",
   "metadata": {},
   "outputs": [
    {
     "name": "stderr",
     "output_type": "stream",
     "text": [
      "/home/mavinii/.var/app/org.jupyter.JupyterLab/config/jupyterlab-desktop/jlab_server/lib/python3.12/site-packages/sklearn/utils/validation.py:1310: DataConversionWarning: A column-vector y was passed when a 1d array was expected. Please change the shape of y to (n_samples, ), for example using ravel().\n",
      "  y = column_or_1d(y, warn=True)\n"
     ]
    },
    {
     "data": {
      "text/html": [
       "<style>#sk-container-id-2 {\n",
       "  /* Definition of color scheme common for light and dark mode */\n",
       "  --sklearn-color-text: black;\n",
       "  --sklearn-color-line: gray;\n",
       "  /* Definition of color scheme for unfitted estimators */\n",
       "  --sklearn-color-unfitted-level-0: #fff5e6;\n",
       "  --sklearn-color-unfitted-level-1: #f6e4d2;\n",
       "  --sklearn-color-unfitted-level-2: #ffe0b3;\n",
       "  --sklearn-color-unfitted-level-3: chocolate;\n",
       "  /* Definition of color scheme for fitted estimators */\n",
       "  --sklearn-color-fitted-level-0: #f0f8ff;\n",
       "  --sklearn-color-fitted-level-1: #d4ebff;\n",
       "  --sklearn-color-fitted-level-2: #b3dbfd;\n",
       "  --sklearn-color-fitted-level-3: cornflowerblue;\n",
       "\n",
       "  /* Specific color for light theme */\n",
       "  --sklearn-color-text-on-default-background: var(--sg-text-color, var(--theme-code-foreground, var(--jp-content-font-color1, black)));\n",
       "  --sklearn-color-background: var(--sg-background-color, var(--theme-background, var(--jp-layout-color0, white)));\n",
       "  --sklearn-color-border-box: var(--sg-text-color, var(--theme-code-foreground, var(--jp-content-font-color1, black)));\n",
       "  --sklearn-color-icon: #696969;\n",
       "\n",
       "  @media (prefers-color-scheme: dark) {\n",
       "    /* Redefinition of color scheme for dark theme */\n",
       "    --sklearn-color-text-on-default-background: var(--sg-text-color, var(--theme-code-foreground, var(--jp-content-font-color1, white)));\n",
       "    --sklearn-color-background: var(--sg-background-color, var(--theme-background, var(--jp-layout-color0, #111)));\n",
       "    --sklearn-color-border-box: var(--sg-text-color, var(--theme-code-foreground, var(--jp-content-font-color1, white)));\n",
       "    --sklearn-color-icon: #878787;\n",
       "  }\n",
       "}\n",
       "\n",
       "#sk-container-id-2 {\n",
       "  color: var(--sklearn-color-text);\n",
       "}\n",
       "\n",
       "#sk-container-id-2 pre {\n",
       "  padding: 0;\n",
       "}\n",
       "\n",
       "#sk-container-id-2 input.sk-hidden--visually {\n",
       "  border: 0;\n",
       "  clip: rect(1px 1px 1px 1px);\n",
       "  clip: rect(1px, 1px, 1px, 1px);\n",
       "  height: 1px;\n",
       "  margin: -1px;\n",
       "  overflow: hidden;\n",
       "  padding: 0;\n",
       "  position: absolute;\n",
       "  width: 1px;\n",
       "}\n",
       "\n",
       "#sk-container-id-2 div.sk-dashed-wrapped {\n",
       "  border: 1px dashed var(--sklearn-color-line);\n",
       "  margin: 0 0.4em 0.5em 0.4em;\n",
       "  box-sizing: border-box;\n",
       "  padding-bottom: 0.4em;\n",
       "  background-color: var(--sklearn-color-background);\n",
       "}\n",
       "\n",
       "#sk-container-id-2 div.sk-container {\n",
       "  /* jupyter's `normalize.less` sets `[hidden] { display: none; }`\n",
       "     but bootstrap.min.css set `[hidden] { display: none !important; }`\n",
       "     so we also need the `!important` here to be able to override the\n",
       "     default hidden behavior on the sphinx rendered scikit-learn.org.\n",
       "     See: https://github.com/scikit-learn/scikit-learn/issues/21755 */\n",
       "  display: inline-block !important;\n",
       "  position: relative;\n",
       "}\n",
       "\n",
       "#sk-container-id-2 div.sk-text-repr-fallback {\n",
       "  display: none;\n",
       "}\n",
       "\n",
       "div.sk-parallel-item,\n",
       "div.sk-serial,\n",
       "div.sk-item {\n",
       "  /* draw centered vertical line to link estimators */\n",
       "  background-image: linear-gradient(var(--sklearn-color-text-on-default-background), var(--sklearn-color-text-on-default-background));\n",
       "  background-size: 2px 100%;\n",
       "  background-repeat: no-repeat;\n",
       "  background-position: center center;\n",
       "}\n",
       "\n",
       "/* Parallel-specific style estimator block */\n",
       "\n",
       "#sk-container-id-2 div.sk-parallel-item::after {\n",
       "  content: \"\";\n",
       "  width: 100%;\n",
       "  border-bottom: 2px solid var(--sklearn-color-text-on-default-background);\n",
       "  flex-grow: 1;\n",
       "}\n",
       "\n",
       "#sk-container-id-2 div.sk-parallel {\n",
       "  display: flex;\n",
       "  align-items: stretch;\n",
       "  justify-content: center;\n",
       "  background-color: var(--sklearn-color-background);\n",
       "  position: relative;\n",
       "}\n",
       "\n",
       "#sk-container-id-2 div.sk-parallel-item {\n",
       "  display: flex;\n",
       "  flex-direction: column;\n",
       "}\n",
       "\n",
       "#sk-container-id-2 div.sk-parallel-item:first-child::after {\n",
       "  align-self: flex-end;\n",
       "  width: 50%;\n",
       "}\n",
       "\n",
       "#sk-container-id-2 div.sk-parallel-item:last-child::after {\n",
       "  align-self: flex-start;\n",
       "  width: 50%;\n",
       "}\n",
       "\n",
       "#sk-container-id-2 div.sk-parallel-item:only-child::after {\n",
       "  width: 0;\n",
       "}\n",
       "\n",
       "/* Serial-specific style estimator block */\n",
       "\n",
       "#sk-container-id-2 div.sk-serial {\n",
       "  display: flex;\n",
       "  flex-direction: column;\n",
       "  align-items: center;\n",
       "  background-color: var(--sklearn-color-background);\n",
       "  padding-right: 1em;\n",
       "  padding-left: 1em;\n",
       "}\n",
       "\n",
       "\n",
       "/* Toggleable style: style used for estimator/Pipeline/ColumnTransformer box that is\n",
       "clickable and can be expanded/collapsed.\n",
       "- Pipeline and ColumnTransformer use this feature and define the default style\n",
       "- Estimators will overwrite some part of the style using the `sk-estimator` class\n",
       "*/\n",
       "\n",
       "/* Pipeline and ColumnTransformer style (default) */\n",
       "\n",
       "#sk-container-id-2 div.sk-toggleable {\n",
       "  /* Default theme specific background. It is overwritten whether we have a\n",
       "  specific estimator or a Pipeline/ColumnTransformer */\n",
       "  background-color: var(--sklearn-color-background);\n",
       "}\n",
       "\n",
       "/* Toggleable label */\n",
       "#sk-container-id-2 label.sk-toggleable__label {\n",
       "  cursor: pointer;\n",
       "  display: block;\n",
       "  width: 100%;\n",
       "  margin-bottom: 0;\n",
       "  padding: 0.5em;\n",
       "  box-sizing: border-box;\n",
       "  text-align: center;\n",
       "}\n",
       "\n",
       "#sk-container-id-2 label.sk-toggleable__label-arrow:before {\n",
       "  /* Arrow on the left of the label */\n",
       "  content: \"▸\";\n",
       "  float: left;\n",
       "  margin-right: 0.25em;\n",
       "  color: var(--sklearn-color-icon);\n",
       "}\n",
       "\n",
       "#sk-container-id-2 label.sk-toggleable__label-arrow:hover:before {\n",
       "  color: var(--sklearn-color-text);\n",
       "}\n",
       "\n",
       "/* Toggleable content - dropdown */\n",
       "\n",
       "#sk-container-id-2 div.sk-toggleable__content {\n",
       "  max-height: 0;\n",
       "  max-width: 0;\n",
       "  overflow: hidden;\n",
       "  text-align: left;\n",
       "  /* unfitted */\n",
       "  background-color: var(--sklearn-color-unfitted-level-0);\n",
       "}\n",
       "\n",
       "#sk-container-id-2 div.sk-toggleable__content.fitted {\n",
       "  /* fitted */\n",
       "  background-color: var(--sklearn-color-fitted-level-0);\n",
       "}\n",
       "\n",
       "#sk-container-id-2 div.sk-toggleable__content pre {\n",
       "  margin: 0.2em;\n",
       "  border-radius: 0.25em;\n",
       "  color: var(--sklearn-color-text);\n",
       "  /* unfitted */\n",
       "  background-color: var(--sklearn-color-unfitted-level-0);\n",
       "}\n",
       "\n",
       "#sk-container-id-2 div.sk-toggleable__content.fitted pre {\n",
       "  /* unfitted */\n",
       "  background-color: var(--sklearn-color-fitted-level-0);\n",
       "}\n",
       "\n",
       "#sk-container-id-2 input.sk-toggleable__control:checked~div.sk-toggleable__content {\n",
       "  /* Expand drop-down */\n",
       "  max-height: 200px;\n",
       "  max-width: 100%;\n",
       "  overflow: auto;\n",
       "}\n",
       "\n",
       "#sk-container-id-2 input.sk-toggleable__control:checked~label.sk-toggleable__label-arrow:before {\n",
       "  content: \"▾\";\n",
       "}\n",
       "\n",
       "/* Pipeline/ColumnTransformer-specific style */\n",
       "\n",
       "#sk-container-id-2 div.sk-label input.sk-toggleable__control:checked~label.sk-toggleable__label {\n",
       "  color: var(--sklearn-color-text);\n",
       "  background-color: var(--sklearn-color-unfitted-level-2);\n",
       "}\n",
       "\n",
       "#sk-container-id-2 div.sk-label.fitted input.sk-toggleable__control:checked~label.sk-toggleable__label {\n",
       "  background-color: var(--sklearn-color-fitted-level-2);\n",
       "}\n",
       "\n",
       "/* Estimator-specific style */\n",
       "\n",
       "/* Colorize estimator box */\n",
       "#sk-container-id-2 div.sk-estimator input.sk-toggleable__control:checked~label.sk-toggleable__label {\n",
       "  /* unfitted */\n",
       "  background-color: var(--sklearn-color-unfitted-level-2);\n",
       "}\n",
       "\n",
       "#sk-container-id-2 div.sk-estimator.fitted input.sk-toggleable__control:checked~label.sk-toggleable__label {\n",
       "  /* fitted */\n",
       "  background-color: var(--sklearn-color-fitted-level-2);\n",
       "}\n",
       "\n",
       "#sk-container-id-2 div.sk-label label.sk-toggleable__label,\n",
       "#sk-container-id-2 div.sk-label label {\n",
       "  /* The background is the default theme color */\n",
       "  color: var(--sklearn-color-text-on-default-background);\n",
       "}\n",
       "\n",
       "/* On hover, darken the color of the background */\n",
       "#sk-container-id-2 div.sk-label:hover label.sk-toggleable__label {\n",
       "  color: var(--sklearn-color-text);\n",
       "  background-color: var(--sklearn-color-unfitted-level-2);\n",
       "}\n",
       "\n",
       "/* Label box, darken color on hover, fitted */\n",
       "#sk-container-id-2 div.sk-label.fitted:hover label.sk-toggleable__label.fitted {\n",
       "  color: var(--sklearn-color-text);\n",
       "  background-color: var(--sklearn-color-fitted-level-2);\n",
       "}\n",
       "\n",
       "/* Estimator label */\n",
       "\n",
       "#sk-container-id-2 div.sk-label label {\n",
       "  font-family: monospace;\n",
       "  font-weight: bold;\n",
       "  display: inline-block;\n",
       "  line-height: 1.2em;\n",
       "}\n",
       "\n",
       "#sk-container-id-2 div.sk-label-container {\n",
       "  text-align: center;\n",
       "}\n",
       "\n",
       "/* Estimator-specific */\n",
       "#sk-container-id-2 div.sk-estimator {\n",
       "  font-family: monospace;\n",
       "  border: 1px dotted var(--sklearn-color-border-box);\n",
       "  border-radius: 0.25em;\n",
       "  box-sizing: border-box;\n",
       "  margin-bottom: 0.5em;\n",
       "  /* unfitted */\n",
       "  background-color: var(--sklearn-color-unfitted-level-0);\n",
       "}\n",
       "\n",
       "#sk-container-id-2 div.sk-estimator.fitted {\n",
       "  /* fitted */\n",
       "  background-color: var(--sklearn-color-fitted-level-0);\n",
       "}\n",
       "\n",
       "/* on hover */\n",
       "#sk-container-id-2 div.sk-estimator:hover {\n",
       "  /* unfitted */\n",
       "  background-color: var(--sklearn-color-unfitted-level-2);\n",
       "}\n",
       "\n",
       "#sk-container-id-2 div.sk-estimator.fitted:hover {\n",
       "  /* fitted */\n",
       "  background-color: var(--sklearn-color-fitted-level-2);\n",
       "}\n",
       "\n",
       "/* Specification for estimator info (e.g. \"i\" and \"?\") */\n",
       "\n",
       "/* Common style for \"i\" and \"?\" */\n",
       "\n",
       ".sk-estimator-doc-link,\n",
       "a:link.sk-estimator-doc-link,\n",
       "a:visited.sk-estimator-doc-link {\n",
       "  float: right;\n",
       "  font-size: smaller;\n",
       "  line-height: 1em;\n",
       "  font-family: monospace;\n",
       "  background-color: var(--sklearn-color-background);\n",
       "  border-radius: 1em;\n",
       "  height: 1em;\n",
       "  width: 1em;\n",
       "  text-decoration: none !important;\n",
       "  margin-left: 1ex;\n",
       "  /* unfitted */\n",
       "  border: var(--sklearn-color-unfitted-level-1) 1pt solid;\n",
       "  color: var(--sklearn-color-unfitted-level-1);\n",
       "}\n",
       "\n",
       ".sk-estimator-doc-link.fitted,\n",
       "a:link.sk-estimator-doc-link.fitted,\n",
       "a:visited.sk-estimator-doc-link.fitted {\n",
       "  /* fitted */\n",
       "  border: var(--sklearn-color-fitted-level-1) 1pt solid;\n",
       "  color: var(--sklearn-color-fitted-level-1);\n",
       "}\n",
       "\n",
       "/* On hover */\n",
       "div.sk-estimator:hover .sk-estimator-doc-link:hover,\n",
       ".sk-estimator-doc-link:hover,\n",
       "div.sk-label-container:hover .sk-estimator-doc-link:hover,\n",
       ".sk-estimator-doc-link:hover {\n",
       "  /* unfitted */\n",
       "  background-color: var(--sklearn-color-unfitted-level-3);\n",
       "  color: var(--sklearn-color-background);\n",
       "  text-decoration: none;\n",
       "}\n",
       "\n",
       "div.sk-estimator.fitted:hover .sk-estimator-doc-link.fitted:hover,\n",
       ".sk-estimator-doc-link.fitted:hover,\n",
       "div.sk-label-container:hover .sk-estimator-doc-link.fitted:hover,\n",
       ".sk-estimator-doc-link.fitted:hover {\n",
       "  /* fitted */\n",
       "  background-color: var(--sklearn-color-fitted-level-3);\n",
       "  color: var(--sklearn-color-background);\n",
       "  text-decoration: none;\n",
       "}\n",
       "\n",
       "/* Span, style for the box shown on hovering the info icon */\n",
       ".sk-estimator-doc-link span {\n",
       "  display: none;\n",
       "  z-index: 9999;\n",
       "  position: relative;\n",
       "  font-weight: normal;\n",
       "  right: .2ex;\n",
       "  padding: .5ex;\n",
       "  margin: .5ex;\n",
       "  width: min-content;\n",
       "  min-width: 20ex;\n",
       "  max-width: 50ex;\n",
       "  color: var(--sklearn-color-text);\n",
       "  box-shadow: 2pt 2pt 4pt #999;\n",
       "  /* unfitted */\n",
       "  background: var(--sklearn-color-unfitted-level-0);\n",
       "  border: .5pt solid var(--sklearn-color-unfitted-level-3);\n",
       "}\n",
       "\n",
       ".sk-estimator-doc-link.fitted span {\n",
       "  /* fitted */\n",
       "  background: var(--sklearn-color-fitted-level-0);\n",
       "  border: var(--sklearn-color-fitted-level-3);\n",
       "}\n",
       "\n",
       ".sk-estimator-doc-link:hover span {\n",
       "  display: block;\n",
       "}\n",
       "\n",
       "/* \"?\"-specific style due to the `<a>` HTML tag */\n",
       "\n",
       "#sk-container-id-2 a.estimator_doc_link {\n",
       "  float: right;\n",
       "  font-size: 1rem;\n",
       "  line-height: 1em;\n",
       "  font-family: monospace;\n",
       "  background-color: var(--sklearn-color-background);\n",
       "  border-radius: 1rem;\n",
       "  height: 1rem;\n",
       "  width: 1rem;\n",
       "  text-decoration: none;\n",
       "  /* unfitted */\n",
       "  color: var(--sklearn-color-unfitted-level-1);\n",
       "  border: var(--sklearn-color-unfitted-level-1) 1pt solid;\n",
       "}\n",
       "\n",
       "#sk-container-id-2 a.estimator_doc_link.fitted {\n",
       "  /* fitted */\n",
       "  border: var(--sklearn-color-fitted-level-1) 1pt solid;\n",
       "  color: var(--sklearn-color-fitted-level-1);\n",
       "}\n",
       "\n",
       "/* On hover */\n",
       "#sk-container-id-2 a.estimator_doc_link:hover {\n",
       "  /* unfitted */\n",
       "  background-color: var(--sklearn-color-unfitted-level-3);\n",
       "  color: var(--sklearn-color-background);\n",
       "  text-decoration: none;\n",
       "}\n",
       "\n",
       "#sk-container-id-2 a.estimator_doc_link.fitted:hover {\n",
       "  /* fitted */\n",
       "  background-color: var(--sklearn-color-fitted-level-3);\n",
       "}\n",
       "</style><div id=\"sk-container-id-2\" class=\"sk-top-container\"><div class=\"sk-text-repr-fallback\"><pre>GaussianNB()</pre><b>In a Jupyter environment, please rerun this cell to show the HTML representation or trust the notebook. <br />On GitHub, the HTML representation is unable to render, please try loading this page with nbviewer.org.</b></div><div class=\"sk-container\" hidden><div class=\"sk-item\"><div class=\"sk-estimator fitted sk-toggleable\"><input class=\"sk-toggleable__control sk-hidden--visually\" id=\"sk-estimator-id-2\" type=\"checkbox\" checked><label for=\"sk-estimator-id-2\" class=\"sk-toggleable__label fitted sk-toggleable__label-arrow fitted\">&nbsp;&nbsp;GaussianNB<a class=\"sk-estimator-doc-link fitted\" rel=\"noreferrer\" target=\"_blank\" href=\"https://scikit-learn.org/1.5/modules/generated/sklearn.naive_bayes.GaussianNB.html\">?<span>Documentation for GaussianNB</span></a><span class=\"sk-estimator-doc-link fitted\">i<span>Fitted</span></span></label><div class=\"sk-toggleable__content fitted\"><pre>GaussianNB()</pre></div> </div></div></div></div>"
      ],
      "text/plain": [
       "GaussianNB()"
      ]
     },
     "execution_count": 35,
     "metadata": {},
     "output_type": "execute_result"
    }
   ],
   "source": [
    "from sklearn.naive_bayes import GaussianNB\n",
    "\n",
    "X_train , X_test , y_train , y_test = train_test_split(X , y , train_size = 0.2)\n",
    "\n",
    "gb = GaussianNB()\n",
    "gb.fit(X_train, y_train)"
   ]
  },
  {
   "cell_type": "markdown",
   "id": "9b631a42-0623-4b4a-8dae-9ad002a7c23a",
   "metadata": {},
   "source": [
    "### 1.1 Importing the libraries"
   ]
  },
  {
   "cell_type": "code",
   "execution_count": 36,
   "id": "a4478b73-7373-4e29-988c-70d6b7c7a429",
   "metadata": {},
   "outputs": [],
   "source": [
    "from sklearn.metrics import classification_report\n",
    "from sklearn.metrics import confusion_matrix \n",
    "from sklearn.metrics import accuracy_score"
   ]
  },
  {
   "cell_type": "markdown",
   "id": "3e7f904a-bac3-410d-876a-1fd2b69bd3d9",
   "metadata": {},
   "source": [
    "### 1.2 Stardard ML Regressor Result"
   ]
  },
  {
   "cell_type": "code",
   "execution_count": 37,
   "id": "059e7d17-7694-40a0-8d06-9732a9bdcbc8",
   "metadata": {},
   "outputs": [
    {
     "name": "stdout",
     "output_type": "stream",
     "text": [
      "              precision    recall  f1-score   support\n",
      "\n",
      "         0.0       0.74      0.98      0.84      2825\n",
      "         1.0       0.78      0.16      0.26      1175\n",
      "\n",
      "    accuracy                           0.74      4000\n",
      "   macro avg       0.76      0.57      0.55      4000\n",
      "weighted avg       0.75      0.74      0.67      4000\n",
      "\n",
      "[[2772   53]\n",
      " [ 991  184]]\n",
      "73.9\n"
     ]
    }
   ],
   "source": [
    "y_pred = gb.predict(X_test)\n",
    "\n",
    "print(classification_report(y_test, y_pred))\n",
    "print(confusion_matrix(y_test, y_pred))\n",
    "print(accuracy_score(y_test, y_pred)*100)"
   ]
  },
  {
   "cell_type": "markdown",
   "id": "e87ddf96-3c5e-4b56-9853-f6a61bf142df",
   "metadata": {},
   "source": [
    "> Results: To conclude my analysis on this section of this project, the `AUC score of 0.4697 for the neural network` suggests that it did not perform well in distinguishing between classes. The same applies to `KerasRegressor` and this could be due to various factors, for example, insufficient data (it does not appear to be it), inadequate preprocessing, incorrect hyperparameter tuning and so on... as David mentioned on April 29th(if I am not wrong), train a NN is very complex, it can take weeks, months or even years.\n",
    ">\n",
    "> On the other hand, the high accuracy of `0.8500 with GaussianNB` suggests that the data might be well-suited to the assumptions made by the GaussianNB model, or that it captures the patterns in the data better given the current feature set and preprocessing."
   ]
  },
  {
   "cell_type": "markdown",
   "id": "2f8b41c4-3ad7-4431-9a2d-dcc46123ad8e",
   "metadata": {},
   "source": [
    "# Semantic Analysis"
   ]
  },
  {
   "cell_type": "markdown",
   "id": "906f2526-6a40-4cb9-984d-da0334ed731f",
   "metadata": {
    "jp-MarkdownHeadingCollapsed": true
   },
   "source": [
    "### Context\n",
    "This is the sentiment140 dataset. It contains 1,600,000 tweets extracted using the twitter api. The tweets have been annotated (0 = negative, 4 = positive) and they can be used to detect sentiment. This dataset can be found here: [Kaggle](https://www.kaggle.com/datasets/kazanova/sentiment140).\n",
    "\n",
    "### Content\n",
    "It contains the following 6 fields:\n",
    "\n",
    "- 1. `target:` the polarity of the tweet (0 = negative, 2 = neutral, 4 = positive)\n",
    "\n",
    "- 2. `ids:` The id of the tweet ( 2087)\n",
    "\n",
    "- 3. `date:` the date of the tweet (Sat May 16 23:58:44 UTC 2009)\n",
    "\n",
    "- 4. `flag:` The query (lyx). If there is no query, then this value is NO_QUERY.\n",
    "\n",
    "- 5. `user:` the user that tweeted (robotickilldozr)\n",
    "\n",
    "- 6. `text:` the text of the tweet (Lyx is cool)"
   ]
  },
  {
   "cell_type": "markdown",
   "id": "6e1bb851-aa17-40f1-acaa-7ac79967d9c2",
   "metadata": {},
   "source": [
    "## 1. Exploratory Data Analysis EDA"
   ]
  },
  {
   "cell_type": "markdown",
   "id": "556b0d59-0b38-496e-bbf8-386913663b59",
   "metadata": {},
   "source": [
    "### 1.1 Importing Libraries"
   ]
  },
  {
   "cell_type": "code",
   "execution_count": 38,
   "id": "c12cf8ea-be15-497f-98f1-f531d71b0f5a",
   "metadata": {},
   "outputs": [],
   "source": [
    "import pandas as pd\n",
    "import numpy as np\n",
    "import seaborn as sns\n",
    "import re\n",
    "\n",
    "from sklearn.model_selection import train_test_split\n",
    "from sklearn.linear_model import LogisticRegression\n",
    "from sklearn.feature_extraction.text import TfidfVectorizer\n",
    "from sklearn.metrics import accuracy_score\n",
    "\n",
    "from nltk.stem.porter import PorterStemmer\n",
    "from nltk.corpus import stopwords"
   ]
  },
  {
   "cell_type": "markdown",
   "id": "cd9409a8-8712-4691-b329-c5364ea9319f",
   "metadata": {},
   "source": [
    "### 1.2 Loading the Dataset"
   ]
  },
  {
   "cell_type": "code",
   "execution_count": 39,
   "id": "7a0ff3e8-1a14-473e-9a94-ffadfbf6ce6e",
   "metadata": {},
   "outputs": [
    {
     "data": {
      "text/html": [
       "<div>\n",
       "<style scoped>\n",
       "    .dataframe tbody tr th:only-of-type {\n",
       "        vertical-align: middle;\n",
       "    }\n",
       "\n",
       "    .dataframe tbody tr th {\n",
       "        vertical-align: top;\n",
       "    }\n",
       "\n",
       "    .dataframe thead th {\n",
       "        text-align: right;\n",
       "    }\n",
       "</style>\n",
       "<table border=\"1\" class=\"dataframe\">\n",
       "  <thead>\n",
       "    <tr style=\"text-align: right;\">\n",
       "      <th></th>\n",
       "      <th>0</th>\n",
       "      <th>1467810369</th>\n",
       "      <th>Mon Apr 06 22:19:45 PDT 2009</th>\n",
       "      <th>NO_QUERY</th>\n",
       "      <th>_TheSpecialOne_</th>\n",
       "      <th>@switchfoot http://twitpic.com/2y1zl - Awww, that's a bummer.  You shoulda got David Carr of Third Day to do it. ;D</th>\n",
       "    </tr>\n",
       "  </thead>\n",
       "  <tbody>\n",
       "    <tr>\n",
       "      <th>0</th>\n",
       "      <td>0</td>\n",
       "      <td>1467810672</td>\n",
       "      <td>Mon Apr 06 22:19:49 PDT 2009</td>\n",
       "      <td>NO_QUERY</td>\n",
       "      <td>scotthamilton</td>\n",
       "      <td>is upset that he can't update his Facebook by ...</td>\n",
       "    </tr>\n",
       "    <tr>\n",
       "      <th>1</th>\n",
       "      <td>0</td>\n",
       "      <td>1467810917</td>\n",
       "      <td>Mon Apr 06 22:19:53 PDT 2009</td>\n",
       "      <td>NO_QUERY</td>\n",
       "      <td>mattycus</td>\n",
       "      <td>@Kenichan I dived many times for the ball. Man...</td>\n",
       "    </tr>\n",
       "    <tr>\n",
       "      <th>2</th>\n",
       "      <td>0</td>\n",
       "      <td>1467811184</td>\n",
       "      <td>Mon Apr 06 22:19:57 PDT 2009</td>\n",
       "      <td>NO_QUERY</td>\n",
       "      <td>ElleCTF</td>\n",
       "      <td>my whole body feels itchy and like its on fire</td>\n",
       "    </tr>\n",
       "    <tr>\n",
       "      <th>3</th>\n",
       "      <td>0</td>\n",
       "      <td>1467811193</td>\n",
       "      <td>Mon Apr 06 22:19:57 PDT 2009</td>\n",
       "      <td>NO_QUERY</td>\n",
       "      <td>Karoli</td>\n",
       "      <td>@nationwideclass no, it's not behaving at all....</td>\n",
       "    </tr>\n",
       "    <tr>\n",
       "      <th>4</th>\n",
       "      <td>0</td>\n",
       "      <td>1467811372</td>\n",
       "      <td>Mon Apr 06 22:20:00 PDT 2009</td>\n",
       "      <td>NO_QUERY</td>\n",
       "      <td>joy_wolf</td>\n",
       "      <td>@Kwesidei not the whole crew</td>\n",
       "    </tr>\n",
       "  </tbody>\n",
       "</table>\n",
       "</div>"
      ],
      "text/plain": [
       "   0  1467810369  Mon Apr 06 22:19:45 PDT 2009  NO_QUERY _TheSpecialOne_  \\\n",
       "0  0  1467810672  Mon Apr 06 22:19:49 PDT 2009  NO_QUERY   scotthamilton   \n",
       "1  0  1467810917  Mon Apr 06 22:19:53 PDT 2009  NO_QUERY        mattycus   \n",
       "2  0  1467811184  Mon Apr 06 22:19:57 PDT 2009  NO_QUERY         ElleCTF   \n",
       "3  0  1467811193  Mon Apr 06 22:19:57 PDT 2009  NO_QUERY          Karoli   \n",
       "4  0  1467811372  Mon Apr 06 22:20:00 PDT 2009  NO_QUERY        joy_wolf   \n",
       "\n",
       "  @switchfoot http://twitpic.com/2y1zl - Awww, that's a bummer.  You shoulda got David Carr of Third Day to do it. ;D  \n",
       "0  is upset that he can't update his Facebook by ...                                                                   \n",
       "1  @Kenichan I dived many times for the ball. Man...                                                                   \n",
       "2    my whole body feels itchy and like its on fire                                                                    \n",
       "3  @nationwideclass no, it's not behaving at all....                                                                   \n",
       "4                      @Kwesidei not the whole crew                                                                    "
      ]
     },
     "execution_count": 39,
     "metadata": {},
     "output_type": "execute_result"
    }
   ],
   "source": [
    "df_twitter = pd.read_csv(\"TwitterSentimentAnalysis.csv\", encoding = \"ISO-8859-1\")\n",
    "df_twitter.head()"
   ]
  },
  {
   "cell_type": "markdown",
   "id": "737d2bc9-818b-480d-aa9c-aa2bd1f6b358",
   "metadata": {},
   "source": [
    "> The reason I added encoding ISO is to deal with special characters in the default UTF-8 encoding"
   ]
  },
  {
   "cell_type": "markdown",
   "id": "59bcf70f-ca41-4afc-ae07-133737006770",
   "metadata": {},
   "source": [
    "### 1.3 Renaming Columns"
   ]
  },
  {
   "cell_type": "code",
   "execution_count": 40,
   "id": "6908c588-608c-469f-a290-89901db54fc0",
   "metadata": {},
   "outputs": [
    {
     "data": {
      "text/html": [
       "<div>\n",
       "<style scoped>\n",
       "    .dataframe tbody tr th:only-of-type {\n",
       "        vertical-align: middle;\n",
       "    }\n",
       "\n",
       "    .dataframe tbody tr th {\n",
       "        vertical-align: top;\n",
       "    }\n",
       "\n",
       "    .dataframe thead th {\n",
       "        text-align: right;\n",
       "    }\n",
       "</style>\n",
       "<table border=\"1\" class=\"dataframe\">\n",
       "  <thead>\n",
       "    <tr style=\"text-align: right;\">\n",
       "      <th></th>\n",
       "      <th>target</th>\n",
       "      <th>id</th>\n",
       "      <th>date</th>\n",
       "      <th>flag</th>\n",
       "      <th>user</th>\n",
       "      <th>text</th>\n",
       "    </tr>\n",
       "  </thead>\n",
       "  <tbody>\n",
       "    <tr>\n",
       "      <th>0</th>\n",
       "      <td>0</td>\n",
       "      <td>1467810369</td>\n",
       "      <td>Mon Apr 06 22:19:45 PDT 2009</td>\n",
       "      <td>NO_QUERY</td>\n",
       "      <td>_TheSpecialOne_</td>\n",
       "      <td>@switchfoot http://twitpic.com/2y1zl - Awww, t...</td>\n",
       "    </tr>\n",
       "    <tr>\n",
       "      <th>1</th>\n",
       "      <td>0</td>\n",
       "      <td>1467810672</td>\n",
       "      <td>Mon Apr 06 22:19:49 PDT 2009</td>\n",
       "      <td>NO_QUERY</td>\n",
       "      <td>scotthamilton</td>\n",
       "      <td>is upset that he can't update his Facebook by ...</td>\n",
       "    </tr>\n",
       "    <tr>\n",
       "      <th>2</th>\n",
       "      <td>0</td>\n",
       "      <td>1467810917</td>\n",
       "      <td>Mon Apr 06 22:19:53 PDT 2009</td>\n",
       "      <td>NO_QUERY</td>\n",
       "      <td>mattycus</td>\n",
       "      <td>@Kenichan I dived many times for the ball. Man...</td>\n",
       "    </tr>\n",
       "    <tr>\n",
       "      <th>3</th>\n",
       "      <td>0</td>\n",
       "      <td>1467811184</td>\n",
       "      <td>Mon Apr 06 22:19:57 PDT 2009</td>\n",
       "      <td>NO_QUERY</td>\n",
       "      <td>ElleCTF</td>\n",
       "      <td>my whole body feels itchy and like its on fire</td>\n",
       "    </tr>\n",
       "    <tr>\n",
       "      <th>4</th>\n",
       "      <td>0</td>\n",
       "      <td>1467811193</td>\n",
       "      <td>Mon Apr 06 22:19:57 PDT 2009</td>\n",
       "      <td>NO_QUERY</td>\n",
       "      <td>Karoli</td>\n",
       "      <td>@nationwideclass no, it's not behaving at all....</td>\n",
       "    </tr>\n",
       "  </tbody>\n",
       "</table>\n",
       "</div>"
      ],
      "text/plain": [
       "   target          id                          date      flag  \\\n",
       "0       0  1467810369  Mon Apr 06 22:19:45 PDT 2009  NO_QUERY   \n",
       "1       0  1467810672  Mon Apr 06 22:19:49 PDT 2009  NO_QUERY   \n",
       "2       0  1467810917  Mon Apr 06 22:19:53 PDT 2009  NO_QUERY   \n",
       "3       0  1467811184  Mon Apr 06 22:19:57 PDT 2009  NO_QUERY   \n",
       "4       0  1467811193  Mon Apr 06 22:19:57 PDT 2009  NO_QUERY   \n",
       "\n",
       "              user                                               text  \n",
       "0  _TheSpecialOne_  @switchfoot http://twitpic.com/2y1zl - Awww, t...  \n",
       "1    scotthamilton  is upset that he can't update his Facebook by ...  \n",
       "2         mattycus  @Kenichan I dived many times for the ball. Man...  \n",
       "3          ElleCTF    my whole body feels itchy and like its on fire   \n",
       "4           Karoli  @nationwideclass no, it's not behaving at all....  "
      ]
     },
     "execution_count": 40,
     "metadata": {},
     "output_type": "execute_result"
    }
   ],
   "source": [
    "renaming_columns = [\"target\", \"id\", \"date\", \"flag\", \"user\", \"text\"]\n",
    "df_twitter = pd.read_csv(\"TwitterSentimentAnalysis.csv\", names=renaming_columns, encoding = \"ISO-8859-1\")\n",
    "\n",
    "df_twitter.head()"
   ]
  },
  {
   "cell_type": "markdown",
   "id": "02ca5070-68f4-43c3-9602-4a66d0ac2868",
   "metadata": {},
   "source": [
    "### 1.4 Shape"
   ]
  },
  {
   "cell_type": "code",
   "execution_count": 41,
   "id": "d76b1669-5e2c-4e32-ba02-6ea9982db7b3",
   "metadata": {},
   "outputs": [
    {
     "data": {
      "text/plain": [
       "(1600000, 6)"
      ]
     },
     "execution_count": 41,
     "metadata": {},
     "output_type": "execute_result"
    }
   ],
   "source": [
    "df_twitter.shape"
   ]
  },
  {
   "cell_type": "markdown",
   "id": "ac85b8a9-a78f-4f1b-a1df-1bc3d0299573",
   "metadata": {},
   "source": [
    "### 1.5 Describe"
   ]
  },
  {
   "cell_type": "code",
   "execution_count": 42,
   "id": "02eecd1a-3cb5-4e75-8f19-9bda068b317d",
   "metadata": {},
   "outputs": [
    {
     "data": {
      "text/html": [
       "<div>\n",
       "<style scoped>\n",
       "    .dataframe tbody tr th:only-of-type {\n",
       "        vertical-align: middle;\n",
       "    }\n",
       "\n",
       "    .dataframe tbody tr th {\n",
       "        vertical-align: top;\n",
       "    }\n",
       "\n",
       "    .dataframe thead th {\n",
       "        text-align: right;\n",
       "    }\n",
       "</style>\n",
       "<table border=\"1\" class=\"dataframe\">\n",
       "  <thead>\n",
       "    <tr style=\"text-align: right;\">\n",
       "      <th></th>\n",
       "      <th>count</th>\n",
       "      <th>mean</th>\n",
       "      <th>std</th>\n",
       "      <th>min</th>\n",
       "      <th>25%</th>\n",
       "      <th>50%</th>\n",
       "      <th>75%</th>\n",
       "      <th>max</th>\n",
       "    </tr>\n",
       "  </thead>\n",
       "  <tbody>\n",
       "    <tr>\n",
       "      <th>target</th>\n",
       "      <td>1600000.0</td>\n",
       "      <td>2.000000e+00</td>\n",
       "      <td>2.000001e+00</td>\n",
       "      <td>0.000000e+00</td>\n",
       "      <td>0.000000e+00</td>\n",
       "      <td>2.000000e+00</td>\n",
       "      <td>4.000000e+00</td>\n",
       "      <td>4.000000e+00</td>\n",
       "    </tr>\n",
       "    <tr>\n",
       "      <th>id</th>\n",
       "      <td>1600000.0</td>\n",
       "      <td>1.998818e+09</td>\n",
       "      <td>1.935761e+08</td>\n",
       "      <td>1.467810e+09</td>\n",
       "      <td>1.956916e+09</td>\n",
       "      <td>2.002102e+09</td>\n",
       "      <td>2.177059e+09</td>\n",
       "      <td>2.329206e+09</td>\n",
       "    </tr>\n",
       "  </tbody>\n",
       "</table>\n",
       "</div>"
      ],
      "text/plain": [
       "            count          mean           std           min           25%  \\\n",
       "target  1600000.0  2.000000e+00  2.000001e+00  0.000000e+00  0.000000e+00   \n",
       "id      1600000.0  1.998818e+09  1.935761e+08  1.467810e+09  1.956916e+09   \n",
       "\n",
       "                 50%           75%           max  \n",
       "target  2.000000e+00  4.000000e+00  4.000000e+00  \n",
       "id      2.002102e+09  2.177059e+09  2.329206e+09  "
      ]
     },
     "execution_count": 42,
     "metadata": {},
     "output_type": "execute_result"
    }
   ],
   "source": [
    "df_twitter.describe().T"
   ]
  },
  {
   "cell_type": "markdown",
   "id": "c11185b4-c1bf-43cb-90b1-539fa3ac99b6",
   "metadata": {},
   "source": [
    "### 1.6 Missing Values"
   ]
  },
  {
   "cell_type": "code",
   "execution_count": 43,
   "id": "3a3cef11-e1bd-471a-8c4a-edd70e7f078f",
   "metadata": {},
   "outputs": [
    {
     "data": {
      "text/html": [
       "<div>\n",
       "<style scoped>\n",
       "    .dataframe tbody tr th:only-of-type {\n",
       "        vertical-align: middle;\n",
       "    }\n",
       "\n",
       "    .dataframe tbody tr th {\n",
       "        vertical-align: top;\n",
       "    }\n",
       "\n",
       "    .dataframe thead th {\n",
       "        text-align: right;\n",
       "    }\n",
       "</style>\n",
       "<table border=\"1\" class=\"dataframe\">\n",
       "  <thead>\n",
       "    <tr style=\"text-align: right;\">\n",
       "      <th></th>\n",
       "      <th>target</th>\n",
       "      <th>id</th>\n",
       "      <th>date</th>\n",
       "      <th>flag</th>\n",
       "      <th>user</th>\n",
       "      <th>text</th>\n",
       "    </tr>\n",
       "  </thead>\n",
       "  <tbody>\n",
       "    <tr>\n",
       "      <th>0</th>\n",
       "      <td>False</td>\n",
       "      <td>False</td>\n",
       "      <td>False</td>\n",
       "      <td>False</td>\n",
       "      <td>False</td>\n",
       "      <td>False</td>\n",
       "    </tr>\n",
       "    <tr>\n",
       "      <th>1</th>\n",
       "      <td>False</td>\n",
       "      <td>False</td>\n",
       "      <td>False</td>\n",
       "      <td>False</td>\n",
       "      <td>False</td>\n",
       "      <td>False</td>\n",
       "    </tr>\n",
       "    <tr>\n",
       "      <th>2</th>\n",
       "      <td>False</td>\n",
       "      <td>False</td>\n",
       "      <td>False</td>\n",
       "      <td>False</td>\n",
       "      <td>False</td>\n",
       "      <td>False</td>\n",
       "    </tr>\n",
       "    <tr>\n",
       "      <th>3</th>\n",
       "      <td>False</td>\n",
       "      <td>False</td>\n",
       "      <td>False</td>\n",
       "      <td>False</td>\n",
       "      <td>False</td>\n",
       "      <td>False</td>\n",
       "    </tr>\n",
       "    <tr>\n",
       "      <th>4</th>\n",
       "      <td>False</td>\n",
       "      <td>False</td>\n",
       "      <td>False</td>\n",
       "      <td>False</td>\n",
       "      <td>False</td>\n",
       "      <td>False</td>\n",
       "    </tr>\n",
       "    <tr>\n",
       "      <th>...</th>\n",
       "      <td>...</td>\n",
       "      <td>...</td>\n",
       "      <td>...</td>\n",
       "      <td>...</td>\n",
       "      <td>...</td>\n",
       "      <td>...</td>\n",
       "    </tr>\n",
       "    <tr>\n",
       "      <th>1599995</th>\n",
       "      <td>False</td>\n",
       "      <td>False</td>\n",
       "      <td>False</td>\n",
       "      <td>False</td>\n",
       "      <td>False</td>\n",
       "      <td>False</td>\n",
       "    </tr>\n",
       "    <tr>\n",
       "      <th>1599996</th>\n",
       "      <td>False</td>\n",
       "      <td>False</td>\n",
       "      <td>False</td>\n",
       "      <td>False</td>\n",
       "      <td>False</td>\n",
       "      <td>False</td>\n",
       "    </tr>\n",
       "    <tr>\n",
       "      <th>1599997</th>\n",
       "      <td>False</td>\n",
       "      <td>False</td>\n",
       "      <td>False</td>\n",
       "      <td>False</td>\n",
       "      <td>False</td>\n",
       "      <td>False</td>\n",
       "    </tr>\n",
       "    <tr>\n",
       "      <th>1599998</th>\n",
       "      <td>False</td>\n",
       "      <td>False</td>\n",
       "      <td>False</td>\n",
       "      <td>False</td>\n",
       "      <td>False</td>\n",
       "      <td>False</td>\n",
       "    </tr>\n",
       "    <tr>\n",
       "      <th>1599999</th>\n",
       "      <td>False</td>\n",
       "      <td>False</td>\n",
       "      <td>False</td>\n",
       "      <td>False</td>\n",
       "      <td>False</td>\n",
       "      <td>False</td>\n",
       "    </tr>\n",
       "  </tbody>\n",
       "</table>\n",
       "<p>1600000 rows × 6 columns</p>\n",
       "</div>"
      ],
      "text/plain": [
       "         target     id   date   flag   user   text\n",
       "0         False  False  False  False  False  False\n",
       "1         False  False  False  False  False  False\n",
       "2         False  False  False  False  False  False\n",
       "3         False  False  False  False  False  False\n",
       "4         False  False  False  False  False  False\n",
       "...         ...    ...    ...    ...    ...    ...\n",
       "1599995   False  False  False  False  False  False\n",
       "1599996   False  False  False  False  False  False\n",
       "1599997   False  False  False  False  False  False\n",
       "1599998   False  False  False  False  False  False\n",
       "1599999   False  False  False  False  False  False\n",
       "\n",
       "[1600000 rows x 6 columns]"
      ]
     },
     "execution_count": 43,
     "metadata": {},
     "output_type": "execute_result"
    }
   ],
   "source": [
    "df_twitter.isnull()"
   ]
  },
  {
   "cell_type": "markdown",
   "id": "cf152291-1137-49e2-8425-950c9044cdfd",
   "metadata": {},
   "source": [
    "> No missing values in this dataset"
   ]
  },
  {
   "cell_type": "markdown",
   "id": "b7cbb120-f648-4ad7-b712-2107d7f5fd0b",
   "metadata": {},
   "source": [
    "### 1.7 Target Column\n",
    "\n",
    "As the tweets have been annotated `(0 = negative, 4 = positive)`, lets check the `target` column "
   ]
  },
  {
   "cell_type": "code",
   "execution_count": 44,
   "id": "bd420969-98a4-4854-ac0f-b2a3fa3d3fee",
   "metadata": {},
   "outputs": [
    {
     "data": {
      "text/plain": [
       "target\n",
       "0    800000\n",
       "4    800000\n",
       "Name: count, dtype: int64"
      ]
     },
     "execution_count": 44,
     "metadata": {},
     "output_type": "execute_result"
    }
   ],
   "source": [
    "df_twitter[\"target\"].value_counts()"
   ]
  },
  {
   "cell_type": "markdown",
   "id": "d7ffd85e-0276-4d8f-af60-1718a3ae0aa8",
   "metadata": {},
   "source": [
    "> It seems there is no `Neutral` in the target column"
   ]
  },
  {
   "cell_type": "markdown",
   "id": "dfb1cb05-af62-4d1d-ac65-312969ae4c56",
   "metadata": {},
   "source": [
    "### 1.8 Polarity Rating\n",
    "\n",
    "In the content of this dataset, it says `target:` the polarity of the tweet (0 = negative, 2 = neutral, 4 = positive)"
   ]
  },
  {
   "cell_type": "code",
   "execution_count": 45,
   "id": "86939041-0fd1-460c-9a00-aef70d6b4592",
   "metadata": {},
   "outputs": [],
   "source": [
    "df_twitter[\"Polarity_Rating\"]=df_twitter[\"target\"].apply(lambda x: \"Positive\" if x > 3 else (\"Neutral\" if x == 3 else \"Negative\"))"
   ]
  },
  {
   "cell_type": "code",
   "execution_count": 46,
   "id": "de251e1f-ae3c-42d3-9a35-956512d3d6b8",
   "metadata": {},
   "outputs": [
    {
     "data": {
      "text/html": [
       "<div>\n",
       "<style scoped>\n",
       "    .dataframe tbody tr th:only-of-type {\n",
       "        vertical-align: middle;\n",
       "    }\n",
       "\n",
       "    .dataframe tbody tr th {\n",
       "        vertical-align: top;\n",
       "    }\n",
       "\n",
       "    .dataframe thead th {\n",
       "        text-align: right;\n",
       "    }\n",
       "</style>\n",
       "<table border=\"1\" class=\"dataframe\">\n",
       "  <thead>\n",
       "    <tr style=\"text-align: right;\">\n",
       "      <th></th>\n",
       "      <th>target</th>\n",
       "      <th>id</th>\n",
       "      <th>date</th>\n",
       "      <th>flag</th>\n",
       "      <th>user</th>\n",
       "      <th>text</th>\n",
       "      <th>Polarity_Rating</th>\n",
       "    </tr>\n",
       "  </thead>\n",
       "  <tbody>\n",
       "    <tr>\n",
       "      <th>0</th>\n",
       "      <td>0</td>\n",
       "      <td>1467810369</td>\n",
       "      <td>Mon Apr 06 22:19:45 PDT 2009</td>\n",
       "      <td>NO_QUERY</td>\n",
       "      <td>_TheSpecialOne_</td>\n",
       "      <td>@switchfoot http://twitpic.com/2y1zl - Awww, t...</td>\n",
       "      <td>Negative</td>\n",
       "    </tr>\n",
       "    <tr>\n",
       "      <th>1</th>\n",
       "      <td>0</td>\n",
       "      <td>1467810672</td>\n",
       "      <td>Mon Apr 06 22:19:49 PDT 2009</td>\n",
       "      <td>NO_QUERY</td>\n",
       "      <td>scotthamilton</td>\n",
       "      <td>is upset that he can't update his Facebook by ...</td>\n",
       "      <td>Negative</td>\n",
       "    </tr>\n",
       "    <tr>\n",
       "      <th>2</th>\n",
       "      <td>0</td>\n",
       "      <td>1467810917</td>\n",
       "      <td>Mon Apr 06 22:19:53 PDT 2009</td>\n",
       "      <td>NO_QUERY</td>\n",
       "      <td>mattycus</td>\n",
       "      <td>@Kenichan I dived many times for the ball. Man...</td>\n",
       "      <td>Negative</td>\n",
       "    </tr>\n",
       "    <tr>\n",
       "      <th>3</th>\n",
       "      <td>0</td>\n",
       "      <td>1467811184</td>\n",
       "      <td>Mon Apr 06 22:19:57 PDT 2009</td>\n",
       "      <td>NO_QUERY</td>\n",
       "      <td>ElleCTF</td>\n",
       "      <td>my whole body feels itchy and like its on fire</td>\n",
       "      <td>Negative</td>\n",
       "    </tr>\n",
       "    <tr>\n",
       "      <th>4</th>\n",
       "      <td>0</td>\n",
       "      <td>1467811193</td>\n",
       "      <td>Mon Apr 06 22:19:57 PDT 2009</td>\n",
       "      <td>NO_QUERY</td>\n",
       "      <td>Karoli</td>\n",
       "      <td>@nationwideclass no, it's not behaving at all....</td>\n",
       "      <td>Negative</td>\n",
       "    </tr>\n",
       "    <tr>\n",
       "      <th>...</th>\n",
       "      <td>...</td>\n",
       "      <td>...</td>\n",
       "      <td>...</td>\n",
       "      <td>...</td>\n",
       "      <td>...</td>\n",
       "      <td>...</td>\n",
       "      <td>...</td>\n",
       "    </tr>\n",
       "    <tr>\n",
       "      <th>1599995</th>\n",
       "      <td>4</td>\n",
       "      <td>2193601966</td>\n",
       "      <td>Tue Jun 16 08:40:49 PDT 2009</td>\n",
       "      <td>NO_QUERY</td>\n",
       "      <td>AmandaMarie1028</td>\n",
       "      <td>Just woke up. Having no school is the best fee...</td>\n",
       "      <td>Positive</td>\n",
       "    </tr>\n",
       "    <tr>\n",
       "      <th>1599996</th>\n",
       "      <td>4</td>\n",
       "      <td>2193601969</td>\n",
       "      <td>Tue Jun 16 08:40:49 PDT 2009</td>\n",
       "      <td>NO_QUERY</td>\n",
       "      <td>TheWDBoards</td>\n",
       "      <td>TheWDB.com - Very cool to hear old Walt interv...</td>\n",
       "      <td>Positive</td>\n",
       "    </tr>\n",
       "    <tr>\n",
       "      <th>1599997</th>\n",
       "      <td>4</td>\n",
       "      <td>2193601991</td>\n",
       "      <td>Tue Jun 16 08:40:49 PDT 2009</td>\n",
       "      <td>NO_QUERY</td>\n",
       "      <td>bpbabe</td>\n",
       "      <td>Are you ready for your MoJo Makeover? Ask me f...</td>\n",
       "      <td>Positive</td>\n",
       "    </tr>\n",
       "    <tr>\n",
       "      <th>1599998</th>\n",
       "      <td>4</td>\n",
       "      <td>2193602064</td>\n",
       "      <td>Tue Jun 16 08:40:49 PDT 2009</td>\n",
       "      <td>NO_QUERY</td>\n",
       "      <td>tinydiamondz</td>\n",
       "      <td>Happy 38th Birthday to my boo of alll time!!! ...</td>\n",
       "      <td>Positive</td>\n",
       "    </tr>\n",
       "    <tr>\n",
       "      <th>1599999</th>\n",
       "      <td>4</td>\n",
       "      <td>2193602129</td>\n",
       "      <td>Tue Jun 16 08:40:50 PDT 2009</td>\n",
       "      <td>NO_QUERY</td>\n",
       "      <td>RyanTrevMorris</td>\n",
       "      <td>happy #charitytuesday @theNSPCC @SparksCharity...</td>\n",
       "      <td>Positive</td>\n",
       "    </tr>\n",
       "  </tbody>\n",
       "</table>\n",
       "<p>1600000 rows × 7 columns</p>\n",
       "</div>"
      ],
      "text/plain": [
       "         target          id                          date      flag  \\\n",
       "0             0  1467810369  Mon Apr 06 22:19:45 PDT 2009  NO_QUERY   \n",
       "1             0  1467810672  Mon Apr 06 22:19:49 PDT 2009  NO_QUERY   \n",
       "2             0  1467810917  Mon Apr 06 22:19:53 PDT 2009  NO_QUERY   \n",
       "3             0  1467811184  Mon Apr 06 22:19:57 PDT 2009  NO_QUERY   \n",
       "4             0  1467811193  Mon Apr 06 22:19:57 PDT 2009  NO_QUERY   \n",
       "...         ...         ...                           ...       ...   \n",
       "1599995       4  2193601966  Tue Jun 16 08:40:49 PDT 2009  NO_QUERY   \n",
       "1599996       4  2193601969  Tue Jun 16 08:40:49 PDT 2009  NO_QUERY   \n",
       "1599997       4  2193601991  Tue Jun 16 08:40:49 PDT 2009  NO_QUERY   \n",
       "1599998       4  2193602064  Tue Jun 16 08:40:49 PDT 2009  NO_QUERY   \n",
       "1599999       4  2193602129  Tue Jun 16 08:40:50 PDT 2009  NO_QUERY   \n",
       "\n",
       "                    user                                               text  \\\n",
       "0        _TheSpecialOne_  @switchfoot http://twitpic.com/2y1zl - Awww, t...   \n",
       "1          scotthamilton  is upset that he can't update his Facebook by ...   \n",
       "2               mattycus  @Kenichan I dived many times for the ball. Man...   \n",
       "3                ElleCTF    my whole body feels itchy and like its on fire    \n",
       "4                 Karoli  @nationwideclass no, it's not behaving at all....   \n",
       "...                  ...                                                ...   \n",
       "1599995  AmandaMarie1028  Just woke up. Having no school is the best fee...   \n",
       "1599996      TheWDBoards  TheWDB.com - Very cool to hear old Walt interv...   \n",
       "1599997           bpbabe  Are you ready for your MoJo Makeover? Ask me f...   \n",
       "1599998     tinydiamondz  Happy 38th Birthday to my boo of alll time!!! ...   \n",
       "1599999   RyanTrevMorris  happy #charitytuesday @theNSPCC @SparksCharity...   \n",
       "\n",
       "        Polarity_Rating  \n",
       "0              Negative  \n",
       "1              Negative  \n",
       "2              Negative  \n",
       "3              Negative  \n",
       "4              Negative  \n",
       "...                 ...  \n",
       "1599995        Positive  \n",
       "1599996        Positive  \n",
       "1599997        Positive  \n",
       "1599998        Positive  \n",
       "1599999        Positive  \n",
       "\n",
       "[1600000 rows x 7 columns]"
      ]
     },
     "execution_count": 46,
     "metadata": {},
     "output_type": "execute_result"
    }
   ],
   "source": [
    "df_twitter"
   ]
  },
  {
   "cell_type": "markdown",
   "id": "e3012c8f-be3b-42b0-8300-fc105af17fbb",
   "metadata": {},
   "source": [
    "### 1.9 Popularity Rating Plot"
   ]
  },
  {
   "cell_type": "code",
   "execution_count": 47,
   "id": "6847bfc8-305b-4a2e-91d7-710050bbf4dc",
   "metadata": {},
   "outputs": [
    {
     "data": {
      "text/plain": [
       "<Axes: xlabel='Polarity_Rating', ylabel='count'>"
      ]
     },
     "execution_count": 47,
     "metadata": {},
     "output_type": "execute_result"
    },
    {
     "data": {
      "image/png": "[encoded data removed]",
      "text/plain": [
       "<Figure size 640x480 with 1 Axes>"
      ]
     },
     "metadata": {},
     "output_type": "display_data"
    }
   ],
   "source": [
    "sns.countplot(x=\"Polarity_Rating\", data=df_twitter)"
   ]
  },
  {
   "cell_type": "markdown",
   "id": "10323e7b-1323-428d-bfbb-fecd9912145a",
   "metadata": {},
   "source": [
    "### 1.10 Target"
   ]
  },
  {
   "cell_type": "code",
   "execution_count": 48,
   "id": "0c3dc399-00f2-422c-81d9-e35c3d14a18e",
   "metadata": {},
   "outputs": [
    {
     "data": {
      "text/plain": [
       "<Axes: xlabel='target', ylabel='count'>"
      ]
     },
     "execution_count": 48,
     "metadata": {},
     "output_type": "execute_result"
    },
    {
     "data": {
      "image/png": "[encoded data removed]",
      "text/plain": [
       "<Figure size 640x480 with 1 Axes>"
      ]
     },
     "metadata": {},
     "output_type": "display_data"
    }
   ],
   "source": [
    "sns.countplot(x=\"target\", data=df_twitter)"
   ]
  },
  {
   "cell_type": "markdown",
   "id": "c8d6a2fd-50e7-46fb-a143-8cae9efb55bf",
   "metadata": {},
   "source": [
    "### 1.11 TextBlob\n",
    "\n",
    "Using the example given in class, using `textblob`."
   ]
  },
  {
   "cell_type": "code",
   "execution_count": 49,
   "id": "4d7bf1b3-acb1-444a-8a2d-5edd616781c5",
   "metadata": {},
   "outputs": [],
   "source": [
    "from textblob import TextBlob"
   ]
  },
  {
   "cell_type": "code",
   "execution_count": 50,
   "id": "fc104887-b05f-4b5d-9d10-f074f0c85d86",
   "metadata": {},
   "outputs": [],
   "source": [
    "df_twitter[\"sentiment_score\"]=df_twitter[\"text\"].apply(lambda x:TextBlob(x).sentiment[0])"
   ]
  },
  {
   "cell_type": "code",
   "execution_count": 51,
   "id": "c4cb9e59-26e9-4567-b923-e7b5a843c317",
   "metadata": {},
   "outputs": [],
   "source": [
    "df_twitter[\"sentiment_score\"]=df_twitter[\"text\"].apply(lambda x:TextBlob(x).sentiment[0])"
   ]
  },
  {
   "cell_type": "code",
   "execution_count": 52,
   "id": "f15f268d-b354-4660-b43a-3983d351176d",
   "metadata": {},
   "outputs": [],
   "source": [
    "df_twitter[\"sentiment_score_textblob\"]=df_twitter[\"sentiment_score\"].apply(lambda x: \"Positive\" if x > 0 else(\"Neutral\" if x == 0 else \"Negative\"))"
   ]
  },
  {
   "cell_type": "code",
   "execution_count": 53,
   "id": "867cb47e-59ce-4389-91f1-b1e70c49f4e0",
   "metadata": {},
   "outputs": [
    {
     "data": {
      "text/plain": [
       "<Axes: xlabel='sentiment_score_textblob', ylabel='count'>"
      ]
     },
     "execution_count": 53,
     "metadata": {},
     "output_type": "execute_result"
    },
    {
     "data": {
      "image/png": "[encoded data removed]",
      "text/plain": [
       "<Figure size 640x480 with 1 Axes>"
      ]
     },
     "metadata": {},
     "output_type": "display_data"
    }
   ],
   "source": [
    "sns.countplot(x=\"sentiment_score_textblob\", data=df_twitter)"
   ]
  },
  {
   "cell_type": "markdown",
   "id": "124bf794-8e23-444b-ad9b-200bd76f6f7e",
   "metadata": {},
   "source": [
    "> `Finds`: Even though there is no neutrality in this dataset, textblob was capable of understanding it and giving this result that shows, more of the tweets were Positive, followed by Neutral and Negative."
   ]
  },
  {
   "cell_type": "markdown",
   "id": "17cfc9a0-ca16-4f7f-91e0-4f0d57c26c9c",
   "metadata": {},
   "source": [
    "## Conclusion\n",
    "\n",
    "To conclude, this Twitter dataset contains 1.6 million tweets, and using TextBlob, it was possible to see there are more Positive tweets than Negative. Also, to go further with this `Semantic Analysis Project` and knowing this is not part of the requirements, I decided to keep going and use the Logistic Regression ML Model to see how it would perform and its accuracy."
   ]
  },
  {
   "cell_type": "markdown",
   "id": "2db7caa9-54fc-4e19-bf02-9264428a6862",
   "metadata": {},
   "source": [
    "## 2. Stemming\n",
    "\n",
    "According to research (Murel and Kavlakoglu, 2023), Stemming is one of several text normalization techniques that converts raw text data into a readable format for natural language processing tasks.\n",
    "\n",
    "The reason I'm using stemming is that, it reduces the words to its roots word, making is easier for my machine learning model to go through the data and understand these `1.6 million tweets`, in this dataset."
   ]
  },
  {
   "cell_type": "markdown",
   "id": "2c69129a-4adf-413e-a029-c089a2d14fd0",
   "metadata": {},
   "source": [
    "### 2.0 Converting\n",
    "\n",
    "For simplicity, I am converting the `4` to `1`, by doing this, I'm avoiding any error later on when the model does its predictions"
   ]
  },
  {
   "cell_type": "code",
   "execution_count": 54,
   "id": "e0f0dbd6-9bdc-4400-813d-6043716486ed",
   "metadata": {},
   "outputs": [
    {
     "data": {
      "text/plain": [
       "target\n",
       "0    800000\n",
       "1    800000\n",
       "Name: count, dtype: int64"
      ]
     },
     "execution_count": 54,
     "metadata": {},
     "output_type": "execute_result"
    }
   ],
   "source": [
    "df_twitter.replace({\"target\": {4:1}}, inplace=True)\n",
    "df_twitter[\"target\"].value_counts()"
   ]
  },
  {
   "cell_type": "markdown",
   "id": "e76a58d2-3c86-4173-99b2-9ba65774d01a",
   "metadata": {},
   "source": [
    "> Now 0 means negative and 1 means positive"
   ]
  },
  {
   "cell_type": "markdown",
   "id": "cdb8866e-4465-47a9-9a20-4610c198fdb6",
   "metadata": {},
   "source": [
    "### 2.1 Importing Stopwords"
   ]
  },
  {
   "cell_type": "code",
   "execution_count": 55,
   "id": "c2b1604c-b7b3-4baf-942b-a938bb5ea892",
   "metadata": {},
   "outputs": [
    {
     "name": "stderr",
     "output_type": "stream",
     "text": [
      "[nltk_data] Downloading package stopwords to\n",
      "[nltk_data]     /home/mavinii/nltk_data...\n",
      "[nltk_data]   Package stopwords is already up-to-date!\n"
     ]
    },
    {
     "data": {
      "text/plain": [
       "True"
      ]
     },
     "execution_count": 55,
     "metadata": {},
     "output_type": "execute_result"
    }
   ],
   "source": [
    "import nltk\n",
    "nltk.download('stopwords')"
   ]
  },
  {
   "cell_type": "markdown",
   "id": "2517f163-fbd9-47b8-80e9-2c6820a4f738",
   "metadata": {},
   "source": [
    "### 2.2 Printing Stopwords"
   ]
  },
  {
   "cell_type": "code",
   "execution_count": 56,
   "id": "5837b21e-f607-46cc-81f5-920f8d9b1d7d",
   "metadata": {},
   "outputs": [
    {
     "name": "stdout",
     "output_type": "stream",
     "text": [
      "['i', 'me', 'my', 'myself', 'we', 'our', 'ours', 'ourselves', 'you', \"you're\", \"you've\", \"you'll\", \"you'd\", 'your', 'yours', 'yourself', 'yourselves', 'he', 'him', 'his', 'himself', 'she', \"she's\", 'her', 'hers', 'herself', 'it', \"it's\", 'its', 'itself', 'they', 'them', 'their', 'theirs', 'themselves', 'what', 'which', 'who', 'whom', 'this', 'that', \"that'll\", 'these', 'those', 'am', 'is', 'are', 'was', 'were', 'be', 'been', 'being', 'have', 'has', 'had', 'having', 'do', 'does', 'did', 'doing', 'a', 'an', 'the', 'and', 'but', 'if', 'or', 'because', 'as', 'until', 'while', 'of', 'at', 'by', 'for', 'with', 'about', 'against', 'between', 'into', 'through', 'during', 'before', 'after', 'above', 'below', 'to', 'from', 'up', 'down', 'in', 'out', 'on', 'off', 'over', 'under', 'again', 'further', 'then', 'once', 'here', 'there', 'when', 'where', 'why', 'how', 'all', 'any', 'both', 'each', 'few', 'more', 'most', 'other', 'some', 'such', 'no', 'nor', 'not', 'only', 'own', 'same', 'so', 'than', 'too', 'very', 's', 't', 'can', 'will', 'just', 'don', \"don't\", 'should', \"should've\", 'now', 'd', 'll', 'm', 'o', 're', 've', 'y', 'ain', 'aren', \"aren't\", 'couldn', \"couldn't\", 'didn', \"didn't\", 'doesn', \"doesn't\", 'hadn', \"hadn't\", 'hasn', \"hasn't\", 'haven', \"haven't\", 'isn', \"isn't\", 'ma', 'mightn', \"mightn't\", 'mustn', \"mustn't\", 'needn', \"needn't\", 'shan', \"shan't\", 'shouldn', \"shouldn't\", 'wasn', \"wasn't\", 'weren', \"weren't\", 'won', \"won't\", 'wouldn', \"wouldn't\"]\n"
     ]
    }
   ],
   "source": [
    "print(stopwords.words(\"english\"))"
   ]
  },
  {
   "cell_type": "markdown",
   "id": "29bbfc3c-ecf6-45e5-83b5-65f3e6380234",
   "metadata": {},
   "source": [
    "### 2.1 Port Stemming Var"
   ]
  },
  {
   "cell_type": "code",
   "execution_count": 57,
   "id": "a8272737-8732-4b03-811a-6e10c5a29447",
   "metadata": {},
   "outputs": [],
   "source": [
    "port_stemming = PorterStemmer()"
   ]
  },
  {
   "cell_type": "markdown",
   "id": "7fb5b1e2-68b3-4228-bc74-db792b6de3dd",
   "metadata": {},
   "source": [
    "### 2.2 Steamming Function\n",
    "\n",
    "This stemming function normalize the text by deleting the special characteres like: `@^$£\"...` and so on"
   ]
  },
  {
   "cell_type": "code",
   "execution_count": 58,
   "id": "9209cdc9-166f-4270-bbcb-6afd6ea41abf",
   "metadata": {},
   "outputs": [],
   "source": [
    "def stemming(content):\n",
    "    stemmed_content = re.sub('[^a-zA-Z]',' ',content)\n",
    "    stemmed_content = stemmed_content.lower()\n",
    "    stemmed_content = stemmed_content.split()\n",
    "    stemmed_content = [port_stemming.stem(word) for word in stemmed_content if not word in stopwords.words('english')]\n",
    "    stemmed_content = ' '.join(stemmed_content)\n",
    "    \n",
    "    return stemmed_content"
   ]
  },
  {
   "cell_type": "markdown",
   "id": "eae28629-4877-4d29-ae1a-77603be4550b",
   "metadata": {},
   "source": [
    "### 2.3 Adding New Column\n",
    "\n",
    "`ATTENTION:` This process usually takes 1hr, so be patient and wait until it finishes"
   ]
  },
  {
   "cell_type": "code",
   "execution_count": 59,
   "id": "f928600a-2907-4e02-85fa-0acd70294100",
   "metadata": {},
   "outputs": [],
   "source": [
    "df_twitter[\"stemmed_content\"] = df_twitter[\"text\"].apply(stemming)"
   ]
  },
  {
   "cell_type": "code",
   "execution_count": 60,
   "id": "be95fb77-d3f2-4e4b-94f6-6ab1498813f8",
   "metadata": {},
   "outputs": [
    {
     "data": {
      "text/html": [
       "<div>\n",
       "<style scoped>\n",
       "    .dataframe tbody tr th:only-of-type {\n",
       "        vertical-align: middle;\n",
       "    }\n",
       "\n",
       "    .dataframe tbody tr th {\n",
       "        vertical-align: top;\n",
       "    }\n",
       "\n",
       "    .dataframe thead th {\n",
       "        text-align: right;\n",
       "    }\n",
       "</style>\n",
       "<table border=\"1\" class=\"dataframe\">\n",
       "  <thead>\n",
       "    <tr style=\"text-align: right;\">\n",
       "      <th></th>\n",
       "      <th>target</th>\n",
       "      <th>id</th>\n",
       "      <th>date</th>\n",
       "      <th>flag</th>\n",
       "      <th>user</th>\n",
       "      <th>text</th>\n",
       "      <th>Polarity_Rating</th>\n",
       "      <th>sentiment_score</th>\n",
       "      <th>sentiment_score_textblob</th>\n",
       "      <th>stemmed_content</th>\n",
       "    </tr>\n",
       "  </thead>\n",
       "  <tbody>\n",
       "    <tr>\n",
       "      <th>0</th>\n",
       "      <td>0</td>\n",
       "      <td>1467810369</td>\n",
       "      <td>Mon Apr 06 22:19:45 PDT 2009</td>\n",
       "      <td>NO_QUERY</td>\n",
       "      <td>_TheSpecialOne_</td>\n",
       "      <td>@switchfoot http://twitpic.com/2y1zl - Awww, t...</td>\n",
       "      <td>Negative</td>\n",
       "      <td>0.216667</td>\n",
       "      <td>Positive</td>\n",
       "      <td>switchfoot http twitpic com zl awww bummer sho...</td>\n",
       "    </tr>\n",
       "    <tr>\n",
       "      <th>1</th>\n",
       "      <td>0</td>\n",
       "      <td>1467810672</td>\n",
       "      <td>Mon Apr 06 22:19:49 PDT 2009</td>\n",
       "      <td>NO_QUERY</td>\n",
       "      <td>scotthamilton</td>\n",
       "      <td>is upset that he can't update his Facebook by ...</td>\n",
       "      <td>Negative</td>\n",
       "      <td>0.000000</td>\n",
       "      <td>Neutral</td>\n",
       "      <td>upset updat facebook text might cri result sch...</td>\n",
       "    </tr>\n",
       "    <tr>\n",
       "      <th>2</th>\n",
       "      <td>0</td>\n",
       "      <td>1467810917</td>\n",
       "      <td>Mon Apr 06 22:19:53 PDT 2009</td>\n",
       "      <td>NO_QUERY</td>\n",
       "      <td>mattycus</td>\n",
       "      <td>@Kenichan I dived many times for the ball. Man...</td>\n",
       "      <td>Negative</td>\n",
       "      <td>0.500000</td>\n",
       "      <td>Positive</td>\n",
       "      <td>kenichan dive mani time ball manag save rest g...</td>\n",
       "    </tr>\n",
       "    <tr>\n",
       "      <th>3</th>\n",
       "      <td>0</td>\n",
       "      <td>1467811184</td>\n",
       "      <td>Mon Apr 06 22:19:57 PDT 2009</td>\n",
       "      <td>NO_QUERY</td>\n",
       "      <td>ElleCTF</td>\n",
       "      <td>my whole body feels itchy and like its on fire</td>\n",
       "      <td>Negative</td>\n",
       "      <td>0.200000</td>\n",
       "      <td>Positive</td>\n",
       "      <td>whole bodi feel itchi like fire</td>\n",
       "    </tr>\n",
       "    <tr>\n",
       "      <th>4</th>\n",
       "      <td>0</td>\n",
       "      <td>1467811193</td>\n",
       "      <td>Mon Apr 06 22:19:57 PDT 2009</td>\n",
       "      <td>NO_QUERY</td>\n",
       "      <td>Karoli</td>\n",
       "      <td>@nationwideclass no, it's not behaving at all....</td>\n",
       "      <td>Negative</td>\n",
       "      <td>-0.625000</td>\n",
       "      <td>Negative</td>\n",
       "      <td>nationwideclass behav mad see</td>\n",
       "    </tr>\n",
       "  </tbody>\n",
       "</table>\n",
       "</div>"
      ],
      "text/plain": [
       "   target          id                          date      flag  \\\n",
       "0       0  1467810369  Mon Apr 06 22:19:45 PDT 2009  NO_QUERY   \n",
       "1       0  1467810672  Mon Apr 06 22:19:49 PDT 2009  NO_QUERY   \n",
       "2       0  1467810917  Mon Apr 06 22:19:53 PDT 2009  NO_QUERY   \n",
       "3       0  1467811184  Mon Apr 06 22:19:57 PDT 2009  NO_QUERY   \n",
       "4       0  1467811193  Mon Apr 06 22:19:57 PDT 2009  NO_QUERY   \n",
       "\n",
       "              user                                               text  \\\n",
       "0  _TheSpecialOne_  @switchfoot http://twitpic.com/2y1zl - Awww, t...   \n",
       "1    scotthamilton  is upset that he can't update his Facebook by ...   \n",
       "2         mattycus  @Kenichan I dived many times for the ball. Man...   \n",
       "3          ElleCTF    my whole body feels itchy and like its on fire    \n",
       "4           Karoli  @nationwideclass no, it's not behaving at all....   \n",
       "\n",
       "  Polarity_Rating  sentiment_score sentiment_score_textblob  \\\n",
       "0        Negative         0.216667                 Positive   \n",
       "1        Negative         0.000000                  Neutral   \n",
       "2        Negative         0.500000                 Positive   \n",
       "3        Negative         0.200000                 Positive   \n",
       "4        Negative        -0.625000                 Negative   \n",
       "\n",
       "                                     stemmed_content  \n",
       "0  switchfoot http twitpic com zl awww bummer sho...  \n",
       "1  upset updat facebook text might cri result sch...  \n",
       "2  kenichan dive mani time ball manag save rest g...  \n",
       "3                    whole bodi feel itchi like fire  \n",
       "4                      nationwideclass behav mad see  "
      ]
     },
     "execution_count": 60,
     "metadata": {},
     "output_type": "execute_result"
    }
   ],
   "source": [
    "df_twitter.head()"
   ]
  },
  {
   "cell_type": "markdown",
   "id": "c12e9b5d-44e8-4e7f-9f40-69f133da239b",
   "metadata": {},
   "source": [
    "### 2.4 Printing the Column Created\n",
    "\n",
    "As we can see, the text has been cleanned, and there ir no special characteres anymore"
   ]
  },
  {
   "cell_type": "code",
   "execution_count": 61,
   "id": "277ea216-dbf3-4751-bbc3-6bed54d9a1ca",
   "metadata": {},
   "outputs": [
    {
     "name": "stdout",
     "output_type": "stream",
     "text": [
      "0          switchfoot http twitpic com zl awww bummer sho...\n",
      "1          upset updat facebook text might cri result sch...\n",
      "2          kenichan dive mani time ball manag save rest g...\n",
      "3                            whole bodi feel itchi like fire\n",
      "4                              nationwideclass behav mad see\n",
      "                                 ...                        \n",
      "1599995                           woke school best feel ever\n",
      "1599996    thewdb com cool hear old walt interview http b...\n",
      "1599997                         readi mojo makeov ask detail\n",
      "1599998    happi th birthday boo alll time tupac amaru sh...\n",
      "1599999    happi charitytuesday thenspcc sparkschar speak...\n",
      "Name: stemmed_content, Length: 1600000, dtype: object\n"
     ]
    }
   ],
   "source": [
    "print(df_twitter[\"stemmed_content\"])"
   ]
  },
  {
   "cell_type": "markdown",
   "id": "7d30e168-cfe7-489c-8034-a35f6d163767",
   "metadata": {},
   "source": [
    "## 3. Scaling"
   ]
  },
  {
   "cell_type": "markdown",
   "id": "19c59851-3d2d-4d97-86de-c92294ae840d",
   "metadata": {},
   "source": [
    "### 3.1 Data and Label"
   ]
  },
  {
   "cell_type": "code",
   "execution_count": 62,
   "id": "4299a143-f47a-4ef1-b298-5419b0e5e43b",
   "metadata": {},
   "outputs": [],
   "source": [
    "X = df_twitter[\"stemmed_content\"].values\n",
    "Y = df_twitter[\"target\"].values"
   ]
  },
  {
   "cell_type": "markdown",
   "id": "14b81935-93b3-4832-91e3-2a6f038bf354",
   "metadata": {},
   "source": [
    "### 3.2 Printing X and Y"
   ]
  },
  {
   "cell_type": "code",
   "execution_count": 63,
   "id": "6f00c8f2-1145-4cf6-9f69-b22c9065a003",
   "metadata": {},
   "outputs": [
    {
     "name": "stdout",
     "output_type": "stream",
     "text": [
      "['switchfoot http twitpic com zl awww bummer shoulda got david carr third day'\n",
      " 'upset updat facebook text might cri result school today also blah'\n",
      " 'kenichan dive mani time ball manag save rest go bound' ...\n",
      " 'readi mojo makeov ask detail'\n",
      " 'happi th birthday boo alll time tupac amaru shakur'\n",
      " 'happi charitytuesday thenspcc sparkschar speakinguph h']\n"
     ]
    }
   ],
   "source": [
    "print(X)"
   ]
  },
  {
   "cell_type": "code",
   "execution_count": 64,
   "id": "4fdea18f-2c38-4287-b10d-7d7d54dbb36d",
   "metadata": {},
   "outputs": [
    {
     "name": "stdout",
     "output_type": "stream",
     "text": [
      "[0 0 0 ... 1 1 1]\n"
     ]
    }
   ],
   "source": [
    "print(Y)"
   ]
  },
  {
   "cell_type": "markdown",
   "id": "37d02183-cc9a-44e3-84a0-c4e12cf26444",
   "metadata": {},
   "source": [
    "> These are the first and the last 3 contents of the variables X and Y"
   ]
  },
  {
   "cell_type": "markdown",
   "id": "ec87921e-d8e7-435d-a3d1-fea69f9d2089",
   "metadata": {},
   "source": [
    "## 4. Training and Test Data"
   ]
  },
  {
   "cell_type": "code",
   "execution_count": 65,
   "id": "252d6e69-18dd-4709-be81-7a3724e77e46",
   "metadata": {},
   "outputs": [],
   "source": [
    "X_train, X_test, Y_train, Y_test = train_test_split(X, Y, test_size=0.2, stratify=Y, random_state=2)"
   ]
  },
  {
   "cell_type": "markdown",
   "id": "140689e5-9ea7-4550-89bf-607b5caaa4ad",
   "metadata": {},
   "source": [
    "### 4.1 Converting Text to Number\n",
    "\n",
    "As we know, ml does not understand text, so we need to convert it to number, and I will be doing it by using `TfidfVectorizer`"
   ]
  },
  {
   "cell_type": "code",
   "execution_count": 66,
   "id": "3cf5a5db-7c29-4dc5-a0bd-57d850dc7f83",
   "metadata": {},
   "outputs": [],
   "source": [
    "vectorizer = TfidfVectorizer()\n",
    "\n",
    "X_train = vectorizer.fit_transform(X_train)\n",
    "X_test = vectorizer.transform(X_test)"
   ]
  },
  {
   "cell_type": "markdown",
   "id": "4daae487-488b-44ed-8084-27769a77c09f",
   "metadata": {},
   "source": [
    "### 4.2 Printing X Train and Test"
   ]
  },
  {
   "cell_type": "code",
   "execution_count": 67,
   "id": "a9f4fffd-65dc-4a4f-9f2c-5b2385cf7949",
   "metadata": {},
   "outputs": [
    {
     "name": "stdout",
     "output_type": "stream",
     "text": [
      "  (0, 436713)\t0.2725987626483838\n",
      "  (0, 354543)\t0.3588091611460021\n",
      "  (0, 185193)\t0.5277679060576009\n",
      "  (0, 109306)\t0.3753708587402299\n",
      "  (0, 235045)\t0.41996827700291095\n",
      "  (0, 443066)\t0.4484755317023172\n",
      "  (1, 160636)\t1.0\n",
      "  (2, 109306)\t0.4591176413728317\n",
      "  (2, 124484)\t0.1892155960801415\n",
      "  (2, 407301)\t0.1870933868497303\n",
      "  (2, 129411)\t0.29074192727957143\n",
      "  (2, 406399)\t0.32105459490875526\n",
      "  (2, 433560)\t0.3296595898028565\n",
      "  (2, 77929)\t0.31284080750346344\n",
      "  (2, 443430)\t0.3348599670252845\n",
      "  (2, 266729)\t0.24123230668976975\n",
      "  (2, 409143)\t0.15169282335109835\n",
      "  (2, 178061)\t0.1619010109445149\n",
      "  (2, 150715)\t0.18803850583207948\n",
      "  (2, 132311)\t0.20289715703997938\n",
      "  (2, 288470)\t0.16786949597862733\n",
      "  (3, 406399)\t0.29029991238662284\n",
      "  (3, 158711)\t0.44569393722995737\n",
      "  (3, 151770)\t0.278559647704793\n",
      "  (3, 56476)\t0.5200465453608686\n",
      "  :\t:\n",
      "  (1279996, 318303)\t0.21254698865277746\n",
      "  (1279996, 434014)\t0.2718945052332447\n",
      "  (1279996, 390130)\t0.2206474219107611\n",
      "  (1279996, 373144)\t0.3521250099983204\n",
      "  (1279996, 238077)\t0.5249170684084672\n",
      "  (1279996, 238078)\t0.5606696159563151\n",
      "  (1279997, 5685)\t0.486503586074313\n",
      "  (1279997, 273084)\t0.4353549002982409\n",
      "  (1279997, 112591)\t0.7574829183045267\n",
      "  (1279998, 412553)\t0.2816582375021589\n",
      "  (1279998, 93795)\t0.21717768937055476\n",
      "  (1279998, 169461)\t0.2659980990397061\n",
      "  (1279998, 124765)\t0.32241752985927996\n",
      "  (1279998, 435463)\t0.2851807874350361\n",
      "  (1279998, 153281)\t0.28378968751027456\n",
      "  (1279998, 156297)\t0.3137096161546449\n",
      "  (1279998, 162047)\t0.3469172695815906\n",
      "  (1279998, 275288)\t0.38703346602729577\n",
      "  (1279998, 385313)\t0.41032858655881904\n",
      "  (1279999, 242268)\t0.19572649660865402\n",
      "  (1279999, 31410)\t0.248792678366695\n",
      "  (1279999, 435572)\t0.31691096877786484\n",
      "  (1279999, 433612)\t0.3607341026233411\n",
      "  (1279999, 135384)\t0.6130934129868719\n",
      "  (1279999, 96224)\t0.5416162421321443\n"
     ]
    }
   ],
   "source": [
    "print(X_train)"
   ]
  },
  {
   "cell_type": "code",
   "execution_count": 68,
   "id": "1b7b69da-8d6a-4021-9238-61ff8fa464ef",
   "metadata": {},
   "outputs": [
    {
     "name": "stdout",
     "output_type": "stream",
     "text": [
      "  (0, 15110)\t0.1719352837797837\n",
      "  (0, 31168)\t0.1624772418052177\n",
      "  (0, 67828)\t0.26800375270827315\n",
      "  (0, 106069)\t0.36555450010904555\n",
      "  (0, 132364)\t0.255254889555786\n",
      "  (0, 138164)\t0.23688292264071406\n",
      "  (0, 171378)\t0.2805816206356074\n",
      "  (0, 271016)\t0.45356623916588285\n",
      "  (0, 279082)\t0.17825180109103442\n",
      "  (0, 388348)\t0.21985076072061735\n",
      "  (0, 398906)\t0.3491043873264267\n",
      "  (0, 409143)\t0.3143047059807971\n",
      "  (0, 420984)\t0.17915624523539805\n",
      "  (1, 6463)\t0.30733520460524466\n",
      "  (1, 15110)\t0.211037449588008\n",
      "  (1, 145393)\t0.575262969264869\n",
      "  (1, 217562)\t0.40288153995289894\n",
      "  (1, 256777)\t0.28751585696559306\n",
      "  (1, 348135)\t0.4739279595416274\n",
      "  (1, 366203)\t0.24595562404108307\n",
      "  (2, 22532)\t0.3532582957477176\n",
      "  (2, 34401)\t0.37916255084357414\n",
      "  (2, 89448)\t0.36340369428387626\n",
      "  (2, 183312)\t0.5892069252021465\n",
      "  (2, 256834)\t0.2564939661498775\n",
      "  :\t:\n",
      "  (319994, 443794)\t0.27821856410325374\n",
      "  (319995, 107868)\t0.33399349737546963\n",
      "  (319995, 109379)\t0.3020896484890833\n",
      "  (319995, 155493)\t0.2770682832971669\n",
      "  (319995, 213324)\t0.2683969144317079\n",
      "  (319995, 232891)\t0.2574127854589077\n",
      "  (319995, 296662)\t0.3992485679384015\n",
      "  (319995, 315813)\t0.2848229914563413\n",
      "  (319995, 324496)\t0.36131679336475747\n",
      "  (319995, 416257)\t0.23816465111736282\n",
      "  (319995, 420984)\t0.22631428606830148\n",
      "  (319995, 444934)\t0.32110928175992615\n",
      "  (319996, 397506)\t0.9101400928717545\n",
      "  (319996, 438709)\t0.4143006291901984\n",
      "  (319997, 98792)\t0.4463892055808332\n",
      "  (319997, 169411)\t0.403381646999604\n",
      "  (319997, 261286)\t0.37323893626855326\n",
      "  (319997, 288421)\t0.48498483387153407\n",
      "  (319997, 349904)\t0.32484594100566083\n",
      "  (319997, 416695)\t0.29458327588067873\n",
      "  (319997, 444770)\t0.2668297951055569\n",
      "  (319998, 130192)\t0.6941927210956169\n",
      "  (319998, 438748)\t0.719789181620468\n",
      "  (319999, 389755)\t0.9577980203954276\n",
      "  (319999, 400636)\t0.2874420848216212\n"
     ]
    }
   ],
   "source": [
    "print(X_test)"
   ]
  },
  {
   "cell_type": "markdown",
   "id": "09c70538-e6c7-4274-953e-85adabb6d875",
   "metadata": {},
   "source": [
    "> So this is each individual tweet converted to number"
   ]
  },
  {
   "cell_type": "markdown",
   "id": "6e8d44db-3b3c-4cc3-841e-e8b5ab549ce2",
   "metadata": {},
   "source": [
    "## 5. ML Model\n",
    "\n",
    "Logistic Regression is a classification model that can be used to classify the data point, in this case, it would be perfect to classify `Positive`, `Negative` or `Neutral`."
   ]
  },
  {
   "cell_type": "markdown",
   "id": "b882d04d-76a4-4271-a954-c435121050fa",
   "metadata": {},
   "source": [
    "### 5.1 Loading the Model"
   ]
  },
  {
   "cell_type": "code",
   "execution_count": 69,
   "id": "f89d0225-5956-4f88-94db-32f86de77a68",
   "metadata": {},
   "outputs": [],
   "source": [
    "model = LogisticRegression(max_iter=1000)"
   ]
  },
  {
   "cell_type": "markdown",
   "id": "93641101-8660-4c49-b71c-c096b694420e",
   "metadata": {},
   "source": [
    "### 5.2 Fitting the Model"
   ]
  },
  {
   "cell_type": "code",
   "execution_count": 70,
   "id": "795c2ae4-fbac-4902-bc27-7b03af75e8fd",
   "metadata": {},
   "outputs": [
    {
     "data": {
      "text/html": [
       "<style>#sk-container-id-3 {\n",
       "  /* Definition of color scheme common for light and dark mode */\n",
       "  --sklearn-color-text: black;\n",
       "  --sklearn-color-line: gray;\n",
       "  /* Definition of color scheme for unfitted estimators */\n",
       "  --sklearn-color-unfitted-level-0: #fff5e6;\n",
       "  --sklearn-color-unfitted-level-1: #f6e4d2;\n",
       "  --sklearn-color-unfitted-level-2: #ffe0b3;\n",
       "  --sklearn-color-unfitted-level-3: chocolate;\n",
       "  /* Definition of color scheme for fitted estimators */\n",
       "  --sklearn-color-fitted-level-0: #f0f8ff;\n",
       "  --sklearn-color-fitted-level-1: #d4ebff;\n",
       "  --sklearn-color-fitted-level-2: #b3dbfd;\n",
       "  --sklearn-color-fitted-level-3: cornflowerblue;\n",
       "\n",
       "  /* Specific color for light theme */\n",
       "  --sklearn-color-text-on-default-background: var(--sg-text-color, var(--theme-code-foreground, var(--jp-content-font-color1, black)));\n",
       "  --sklearn-color-background: var(--sg-background-color, var(--theme-background, var(--jp-layout-color0, white)));\n",
       "  --sklearn-color-border-box: var(--sg-text-color, var(--theme-code-foreground, var(--jp-content-font-color1, black)));\n",
       "  --sklearn-color-icon: #696969;\n",
       "\n",
       "  @media (prefers-color-scheme: dark) {\n",
       "    /* Redefinition of color scheme for dark theme */\n",
       "    --sklearn-color-text-on-default-background: var(--sg-text-color, var(--theme-code-foreground, var(--jp-content-font-color1, white)));\n",
       "    --sklearn-color-background: var(--sg-background-color, var(--theme-background, var(--jp-layout-color0, #111)));\n",
       "    --sklearn-color-border-box: var(--sg-text-color, var(--theme-code-foreground, var(--jp-content-font-color1, white)));\n",
       "    --sklearn-color-icon: #878787;\n",
       "  }\n",
       "}\n",
       "\n",
       "#sk-container-id-3 {\n",
       "  color: var(--sklearn-color-text);\n",
       "}\n",
       "\n",
       "#sk-container-id-3 pre {\n",
       "  padding: 0;\n",
       "}\n",
       "\n",
       "#sk-container-id-3 input.sk-hidden--visually {\n",
       "  border: 0;\n",
       "  clip: rect(1px 1px 1px 1px);\n",
       "  clip: rect(1px, 1px, 1px, 1px);\n",
       "  height: 1px;\n",
       "  margin: -1px;\n",
       "  overflow: hidden;\n",
       "  padding: 0;\n",
       "  position: absolute;\n",
       "  width: 1px;\n",
       "}\n",
       "\n",
       "#sk-container-id-3 div.sk-dashed-wrapped {\n",
       "  border: 1px dashed var(--sklearn-color-line);\n",
       "  margin: 0 0.4em 0.5em 0.4em;\n",
       "  box-sizing: border-box;\n",
       "  padding-bottom: 0.4em;\n",
       "  background-color: var(--sklearn-color-background);\n",
       "}\n",
       "\n",
       "#sk-container-id-3 div.sk-container {\n",
       "  /* jupyter's `normalize.less` sets `[hidden] { display: none; }`\n",
       "     but bootstrap.min.css set `[hidden] { display: none !important; }`\n",
       "     so we also need the `!important` here to be able to override the\n",
       "     default hidden behavior on the sphinx rendered scikit-learn.org.\n",
       "     See: https://github.com/scikit-learn/scikit-learn/issues/21755 */\n",
       "  display: inline-block !important;\n",
       "  position: relative;\n",
       "}\n",
       "\n",
       "#sk-container-id-3 div.sk-text-repr-fallback {\n",
       "  display: none;\n",
       "}\n",
       "\n",
       "div.sk-parallel-item,\n",
       "div.sk-serial,\n",
       "div.sk-item {\n",
       "  /* draw centered vertical line to link estimators */\n",
       "  background-image: linear-gradient(var(--sklearn-color-text-on-default-background), var(--sklearn-color-text-on-default-background));\n",
       "  background-size: 2px 100%;\n",
       "  background-repeat: no-repeat;\n",
       "  background-position: center center;\n",
       "}\n",
       "\n",
       "/* Parallel-specific style estimator block */\n",
       "\n",
       "#sk-container-id-3 div.sk-parallel-item::after {\n",
       "  content: \"\";\n",
       "  width: 100%;\n",
       "  border-bottom: 2px solid var(--sklearn-color-text-on-default-background);\n",
       "  flex-grow: 1;\n",
       "}\n",
       "\n",
       "#sk-container-id-3 div.sk-parallel {\n",
       "  display: flex;\n",
       "  align-items: stretch;\n",
       "  justify-content: center;\n",
       "  background-color: var(--sklearn-color-background);\n",
       "  position: relative;\n",
       "}\n",
       "\n",
       "#sk-container-id-3 div.sk-parallel-item {\n",
       "  display: flex;\n",
       "  flex-direction: column;\n",
       "}\n",
       "\n",
       "#sk-container-id-3 div.sk-parallel-item:first-child::after {\n",
       "  align-self: flex-end;\n",
       "  width: 50%;\n",
       "}\n",
       "\n",
       "#sk-container-id-3 div.sk-parallel-item:last-child::after {\n",
       "  align-self: flex-start;\n",
       "  width: 50%;\n",
       "}\n",
       "\n",
       "#sk-container-id-3 div.sk-parallel-item:only-child::after {\n",
       "  width: 0;\n",
       "}\n",
       "\n",
       "/* Serial-specific style estimator block */\n",
       "\n",
       "#sk-container-id-3 div.sk-serial {\n",
       "  display: flex;\n",
       "  flex-direction: column;\n",
       "  align-items: center;\n",
       "  background-color: var(--sklearn-color-background);\n",
       "  padding-right: 1em;\n",
       "  padding-left: 1em;\n",
       "}\n",
       "\n",
       "\n",
       "/* Toggleable style: style used for estimator/Pipeline/ColumnTransformer box that is\n",
       "clickable and can be expanded/collapsed.\n",
       "- Pipeline and ColumnTransformer use this feature and define the default style\n",
       "- Estimators will overwrite some part of the style using the `sk-estimator` class\n",
       "*/\n",
       "\n",
       "/* Pipeline and ColumnTransformer style (default) */\n",
       "\n",
       "#sk-container-id-3 div.sk-toggleable {\n",
       "  /* Default theme specific background. It is overwritten whether we have a\n",
       "  specific estimator or a Pipeline/ColumnTransformer */\n",
       "  background-color: var(--sklearn-color-background);\n",
       "}\n",
       "\n",
       "/* Toggleable label */\n",
       "#sk-container-id-3 label.sk-toggleable__label {\n",
       "  cursor: pointer;\n",
       "  display: block;\n",
       "  width: 100%;\n",
       "  margin-bottom: 0;\n",
       "  padding: 0.5em;\n",
       "  box-sizing: border-box;\n",
       "  text-align: center;\n",
       "}\n",
       "\n",
       "#sk-container-id-3 label.sk-toggleable__label-arrow:before {\n",
       "  /* Arrow on the left of the label */\n",
       "  content: \"▸\";\n",
       "  float: left;\n",
       "  margin-right: 0.25em;\n",
       "  color: var(--sklearn-color-icon);\n",
       "}\n",
       "\n",
       "#sk-container-id-3 label.sk-toggleable__label-arrow:hover:before {\n",
       "  color: var(--sklearn-color-text);\n",
       "}\n",
       "\n",
       "/* Toggleable content - dropdown */\n",
       "\n",
       "#sk-container-id-3 div.sk-toggleable__content {\n",
       "  max-height: 0;\n",
       "  max-width: 0;\n",
       "  overflow: hidden;\n",
       "  text-align: left;\n",
       "  /* unfitted */\n",
       "  background-color: var(--sklearn-color-unfitted-level-0);\n",
       "}\n",
       "\n",
       "#sk-container-id-3 div.sk-toggleable__content.fitted {\n",
       "  /* fitted */\n",
       "  background-color: var(--sklearn-color-fitted-level-0);\n",
       "}\n",
       "\n",
       "#sk-container-id-3 div.sk-toggleable__content pre {\n",
       "  margin: 0.2em;\n",
       "  border-radius: 0.25em;\n",
       "  color: var(--sklearn-color-text);\n",
       "  /* unfitted */\n",
       "  background-color: var(--sklearn-color-unfitted-level-0);\n",
       "}\n",
       "\n",
       "#sk-container-id-3 div.sk-toggleable__content.fitted pre {\n",
       "  /* unfitted */\n",
       "  background-color: var(--sklearn-color-fitted-level-0);\n",
       "}\n",
       "\n",
       "#sk-container-id-3 input.sk-toggleable__control:checked~div.sk-toggleable__content {\n",
       "  /* Expand drop-down */\n",
       "  max-height: 200px;\n",
       "  max-width: 100%;\n",
       "  overflow: auto;\n",
       "}\n",
       "\n",
       "#sk-container-id-3 input.sk-toggleable__control:checked~label.sk-toggleable__label-arrow:before {\n",
       "  content: \"▾\";\n",
       "}\n",
       "\n",
       "/* Pipeline/ColumnTransformer-specific style */\n",
       "\n",
       "#sk-container-id-3 div.sk-label input.sk-toggleable__control:checked~label.sk-toggleable__label {\n",
       "  color: var(--sklearn-color-text);\n",
       "  background-color: var(--sklearn-color-unfitted-level-2);\n",
       "}\n",
       "\n",
       "#sk-container-id-3 div.sk-label.fitted input.sk-toggleable__control:checked~label.sk-toggleable__label {\n",
       "  background-color: var(--sklearn-color-fitted-level-2);\n",
       "}\n",
       "\n",
       "/* Estimator-specific style */\n",
       "\n",
       "/* Colorize estimator box */\n",
       "#sk-container-id-3 div.sk-estimator input.sk-toggleable__control:checked~label.sk-toggleable__label {\n",
       "  /* unfitted */\n",
       "  background-color: var(--sklearn-color-unfitted-level-2);\n",
       "}\n",
       "\n",
       "#sk-container-id-3 div.sk-estimator.fitted input.sk-toggleable__control:checked~label.sk-toggleable__label {\n",
       "  /* fitted */\n",
       "  background-color: var(--sklearn-color-fitted-level-2);\n",
       "}\n",
       "\n",
       "#sk-container-id-3 div.sk-label label.sk-toggleable__label,\n",
       "#sk-container-id-3 div.sk-label label {\n",
       "  /* The background is the default theme color */\n",
       "  color: var(--sklearn-color-text-on-default-background);\n",
       "}\n",
       "\n",
       "/* On hover, darken the color of the background */\n",
       "#sk-container-id-3 div.sk-label:hover label.sk-toggleable__label {\n",
       "  color: var(--sklearn-color-text);\n",
       "  background-color: var(--sklearn-color-unfitted-level-2);\n",
       "}\n",
       "\n",
       "/* Label box, darken color on hover, fitted */\n",
       "#sk-container-id-3 div.sk-label.fitted:hover label.sk-toggleable__label.fitted {\n",
       "  color: var(--sklearn-color-text);\n",
       "  background-color: var(--sklearn-color-fitted-level-2);\n",
       "}\n",
       "\n",
       "/* Estimator label */\n",
       "\n",
       "#sk-container-id-3 div.sk-label label {\n",
       "  font-family: monospace;\n",
       "  font-weight: bold;\n",
       "  display: inline-block;\n",
       "  line-height: 1.2em;\n",
       "}\n",
       "\n",
       "#sk-container-id-3 div.sk-label-container {\n",
       "  text-align: center;\n",
       "}\n",
       "\n",
       "/* Estimator-specific */\n",
       "#sk-container-id-3 div.sk-estimator {\n",
       "  font-family: monospace;\n",
       "  border: 1px dotted var(--sklearn-color-border-box);\n",
       "  border-radius: 0.25em;\n",
       "  box-sizing: border-box;\n",
       "  margin-bottom: 0.5em;\n",
       "  /* unfitted */\n",
       "  background-color: var(--sklearn-color-unfitted-level-0);\n",
       "}\n",
       "\n",
       "#sk-container-id-3 div.sk-estimator.fitted {\n",
       "  /* fitted */\n",
       "  background-color: var(--sklearn-color-fitted-level-0);\n",
       "}\n",
       "\n",
       "/* on hover */\n",
       "#sk-container-id-3 div.sk-estimator:hover {\n",
       "  /* unfitted */\n",
       "  background-color: var(--sklearn-color-unfitted-level-2);\n",
       "}\n",
       "\n",
       "#sk-container-id-3 div.sk-estimator.fitted:hover {\n",
       "  /* fitted */\n",
       "  background-color: var(--sklearn-color-fitted-level-2);\n",
       "}\n",
       "\n",
       "/* Specification for estimator info (e.g. \"i\" and \"?\") */\n",
       "\n",
       "/* Common style for \"i\" and \"?\" */\n",
       "\n",
       ".sk-estimator-doc-link,\n",
       "a:link.sk-estimator-doc-link,\n",
       "a:visited.sk-estimator-doc-link {\n",
       "  float: right;\n",
       "  font-size: smaller;\n",
       "  line-height: 1em;\n",
       "  font-family: monospace;\n",
       "  background-color: var(--sklearn-color-background);\n",
       "  border-radius: 1em;\n",
       "  height: 1em;\n",
       "  width: 1em;\n",
       "  text-decoration: none !important;\n",
       "  margin-left: 1ex;\n",
       "  /* unfitted */\n",
       "  border: var(--sklearn-color-unfitted-level-1) 1pt solid;\n",
       "  color: var(--sklearn-color-unfitted-level-1);\n",
       "}\n",
       "\n",
       ".sk-estimator-doc-link.fitted,\n",
       "a:link.sk-estimator-doc-link.fitted,\n",
       "a:visited.sk-estimator-doc-link.fitted {\n",
       "  /* fitted */\n",
       "  border: var(--sklearn-color-fitted-level-1) 1pt solid;\n",
       "  color: var(--sklearn-color-fitted-level-1);\n",
       "}\n",
       "\n",
       "/* On hover */\n",
       "div.sk-estimator:hover .sk-estimator-doc-link:hover,\n",
       ".sk-estimator-doc-link:hover,\n",
       "div.sk-label-container:hover .sk-estimator-doc-link:hover,\n",
       ".sk-estimator-doc-link:hover {\n",
       "  /* unfitted */\n",
       "  background-color: var(--sklearn-color-unfitted-level-3);\n",
       "  color: var(--sklearn-color-background);\n",
       "  text-decoration: none;\n",
       "}\n",
       "\n",
       "div.sk-estimator.fitted:hover .sk-estimator-doc-link.fitted:hover,\n",
       ".sk-estimator-doc-link.fitted:hover,\n",
       "div.sk-label-container:hover .sk-estimator-doc-link.fitted:hover,\n",
       ".sk-estimator-doc-link.fitted:hover {\n",
       "  /* fitted */\n",
       "  background-color: var(--sklearn-color-fitted-level-3);\n",
       "  color: var(--sklearn-color-background);\n",
       "  text-decoration: none;\n",
       "}\n",
       "\n",
       "/* Span, style for the box shown on hovering the info icon */\n",
       ".sk-estimator-doc-link span {\n",
       "  display: none;\n",
       "  z-index: 9999;\n",
       "  position: relative;\n",
       "  font-weight: normal;\n",
       "  right: .2ex;\n",
       "  padding: .5ex;\n",
       "  margin: .5ex;\n",
       "  width: min-content;\n",
       "  min-width: 20ex;\n",
       "  max-width: 50ex;\n",
       "  color: var(--sklearn-color-text);\n",
       "  box-shadow: 2pt 2pt 4pt #999;\n",
       "  /* unfitted */\n",
       "  background: var(--sklearn-color-unfitted-level-0);\n",
       "  border: .5pt solid var(--sklearn-color-unfitted-level-3);\n",
       "}\n",
       "\n",
       ".sk-estimator-doc-link.fitted span {\n",
       "  /* fitted */\n",
       "  background: var(--sklearn-color-fitted-level-0);\n",
       "  border: var(--sklearn-color-fitted-level-3);\n",
       "}\n",
       "\n",
       ".sk-estimator-doc-link:hover span {\n",
       "  display: block;\n",
       "}\n",
       "\n",
       "/* \"?\"-specific style due to the `<a>` HTML tag */\n",
       "\n",
       "#sk-container-id-3 a.estimator_doc_link {\n",
       "  float: right;\n",
       "  font-size: 1rem;\n",
       "  line-height: 1em;\n",
       "  font-family: monospace;\n",
       "  background-color: var(--sklearn-color-background);\n",
       "  border-radius: 1rem;\n",
       "  height: 1rem;\n",
       "  width: 1rem;\n",
       "  text-decoration: none;\n",
       "  /* unfitted */\n",
       "  color: var(--sklearn-color-unfitted-level-1);\n",
       "  border: var(--sklearn-color-unfitted-level-1) 1pt solid;\n",
       "}\n",
       "\n",
       "#sk-container-id-3 a.estimator_doc_link.fitted {\n",
       "  /* fitted */\n",
       "  border: var(--sklearn-color-fitted-level-1) 1pt solid;\n",
       "  color: var(--sklearn-color-fitted-level-1);\n",
       "}\n",
       "\n",
       "/* On hover */\n",
       "#sk-container-id-3 a.estimator_doc_link:hover {\n",
       "  /* unfitted */\n",
       "  background-color: var(--sklearn-color-unfitted-level-3);\n",
       "  color: var(--sklearn-color-background);\n",
       "  text-decoration: none;\n",
       "}\n",
       "\n",
       "#sk-container-id-3 a.estimator_doc_link.fitted:hover {\n",
       "  /* fitted */\n",
       "  background-color: var(--sklearn-color-fitted-level-3);\n",
       "}\n",
       "</style><div id=\"sk-container-id-3\" class=\"sk-top-container\"><div class=\"sk-text-repr-fallback\"><pre>LogisticRegression(max_iter=1000)</pre><b>In a Jupyter environment, please rerun this cell to show the HTML representation or trust the notebook. <br />On GitHub, the HTML representation is unable to render, please try loading this page with nbviewer.org.</b></div><div class=\"sk-container\" hidden><div class=\"sk-item\"><div class=\"sk-estimator fitted sk-toggleable\"><input class=\"sk-toggleable__control sk-hidden--visually\" id=\"sk-estimator-id-3\" type=\"checkbox\" checked><label for=\"sk-estimator-id-3\" class=\"sk-toggleable__label fitted sk-toggleable__label-arrow fitted\">&nbsp;&nbsp;LogisticRegression<a class=\"sk-estimator-doc-link fitted\" rel=\"noreferrer\" target=\"_blank\" href=\"https://scikit-learn.org/1.5/modules/generated/sklearn.linear_model.LogisticRegression.html\">?<span>Documentation for LogisticRegression</span></a><span class=\"sk-estimator-doc-link fitted\">i<span>Fitted</span></span></label><div class=\"sk-toggleable__content fitted\"><pre>LogisticRegression(max_iter=1000)</pre></div> </div></div></div></div>"
      ],
      "text/plain": [
       "LogisticRegression(max_iter=1000)"
      ]
     },
     "execution_count": 70,
     "metadata": {},
     "output_type": "execute_result"
    }
   ],
   "source": [
    "model.fit(X_train, Y_train)"
   ]
  },
  {
   "cell_type": "markdown",
   "id": "7a2cb87c-2117-4fe6-b46e-7b1e0fd92a73",
   "metadata": {},
   "source": [
    "### 5.3 Model Evaluation\n",
    "\n",
    "Using accuracy score, I try to display the calculations made by the model on the training data"
   ]
  },
  {
   "cell_type": "markdown",
   "id": "b9fa2833-7f42-47b8-8fe1-09a85c677f59",
   "metadata": {},
   "source": [
    "#### 5.3.1 Training Data Result"
   ]
  },
  {
   "cell_type": "code",
   "execution_count": 71,
   "id": "c653fb99-1411-4782-b603-5d14c9d41bda",
   "metadata": {},
   "outputs": [],
   "source": [
    "X_train_prediction = model.predict(X_train)\n",
    "training_data_accuracy = accuracy_score(Y_train, X_train_prediction)"
   ]
  },
  {
   "cell_type": "code",
   "execution_count": 72,
   "id": "0bdcd0c3-76d5-4045-bf02-08d5b5ab59c5",
   "metadata": {},
   "outputs": [
    {
     "name": "stdout",
     "output_type": "stream",
     "text": [
      "ACCURACY SCORE ON THE TRAINING DATA:  0.79871953125\n"
     ]
    }
   ],
   "source": [
    "print(\"ACCURACY SCORE ON THE TRAINING DATA: \", training_data_accuracy)"
   ]
  },
  {
   "cell_type": "markdown",
   "id": "45e70495-0f11-4ce9-ad66-cbaebe3d9e1a",
   "metadata": {},
   "source": [
    "> `79%` is not a bad result of our training data and it means that, from 100 tweets, this model can predict 79 if the tweet is `positive` or `negative`!"
   ]
  },
  {
   "cell_type": "markdown",
   "id": "4bc0ce5d-4b22-49c4-beff-64b3655c2adf",
   "metadata": {},
   "source": [
    "#### 5.3.2 Test Data Result"
   ]
  },
  {
   "cell_type": "code",
   "execution_count": 73,
   "id": "3db0b666-b36a-4329-a7e5-494f906781d4",
   "metadata": {},
   "outputs": [],
   "source": [
    "X_test_prediction = model.predict(X_test)\n",
    "test_data_accuracy = accuracy_score(Y_test, X_test_prediction)"
   ]
  },
  {
   "cell_type": "code",
   "execution_count": 74,
   "id": "204df268-ec71-4ea7-b95b-37853de34ee7",
   "metadata": {},
   "outputs": [
    {
     "name": "stdout",
     "output_type": "stream",
     "text": [
      "ACCURACY SCORE ON THE TEST DATA:  0.77668125\n"
     ]
    }
   ],
   "source": [
    "print(\"ACCURACY SCORE ON THE TEST DATA: \", test_data_accuracy)"
   ]
  },
  {
   "cell_type": "markdown",
   "id": "ab1362a2-3ad0-4a8b-b17f-96501008b703",
   "metadata": {},
   "source": [
    "> `77%` is not a bad result either of our test data and it also means that, from 100 tweets, this model can predict 77 if the tweet is `positive` or `negative`!"
   ]
  },
  {
   "cell_type": "markdown",
   "id": "890ca62b-9264-40e3-b7a3-3e7b79c303b5",
   "metadata": {},
   "source": [
    "## Reference\n",
    "\n",
    "Go, A., Bhayani, R. and Huang, L. (2009). Twitter Sentiment Classification Using Distant Supervision. [online] cs.stanford.edu, p.6. Available at: https://cs.stanford.edu/people/alecmgo/papers/TwitterDistantSupervision09.pdf [Accessed 24 May 2024].\n",
    "\n",
    "ΜΙΧΑΗΛΙΔΗΣ, Μ. (2017). Sentiment140 Dataset with 1.6 Million Tweets. [online] www.kaggle.com. Available at: https://www.kaggle.com/datasets/kazanova/sentiment140 [Accessed 23 May 2024].\n",
    "\n",
    "The dataset used in this analysis.\n",
    "Murel, J. and Kavlakoglu, E. (2023). What Is stemming? | IBM. [online] www.ibm.com. Available at: https://www.ibm.com/topics/stemming [Accessed 26 May 2024].\n",
    "\n",
    "Newberry, C. (2022). The Best Sentiment Analysis Tools for Social Media Marketers. [online] Hootsuite Social Media Management. Available at: https://blog.hootsuite.com/social-media-sentiment-analysis-tools/ [Accessed 20 May 2024].\n",
    "\n",
    "Nikolaenko, K. (2023). Keras vs. TensorFlow: Understanding the Powerhouse Duo of Deep Learning | SETRONICA. [online] setronica.com. Available at: https://setronica.com/keras-vs-tensorflow-understanding-the-powerhouse-duo-of-deep-learning/?trk=article-ssr-frontend-pulse_little-text-block [Accessed 22 May 2024].\n",
    "\n",
    "NLTK (2023). Natural Language Toolkit - NLTK 3.4.4 Documentation. [online] Nltk.org. Available at: https://www.nltk.org/ [Accessed 26 May 2024].\n",
    "\n",
    "Staff, K. (2024). How to Perform Social Media Sentiment Analysis. [online] khoros.com. Available at: https://khoros.com/blog/social-media-sentiment-analysis#:~:text=Sentiment%20analysis%20is%20a%20form [Accessed 20 May 2024]."
   ]
  }
 ],
 "metadata": {
  "kernelspec": {
   "display_name": "Python 3 (ipykernel)",
   "language": "python",
   "name": "python3"
  },
  "language_info": {
   "codemirror_mode": {
    "name": "ipython",
    "version": 3
   },
   "file_extension": ".py",
   "mimetype": "text/x-python",
   "name": "python",
   "nbconvert_exporter": "python",
   "pygments_lexer": "ipython3",
   "version": "3.12.1"
  }
 },
 "nbformat": 4,
 "nbformat_minor": 5
}
